{
 "cells": [
  {
   "cell_type": "code",
   "execution_count": 101,
   "metadata": {},
   "outputs": [],
   "source": [
    "import numpy as np\n",
    "import tensorflow as tf\n",
    "from tqdm import tqdm_notebook\n",
    "import matplotlib.pyplot as plt"
   ]
  },
  {
   "cell_type": "code",
   "execution_count": 109,
   "metadata": {},
   "outputs": [],
   "source": [
    "class CommNet:\n",
    "    \n",
    "    def __init__(self, sess, N, J, embedding_size = 128, lr = 1e-3, training_mode = 'supervised', alpha = 0.03):\n",
    "        \n",
    "        self.N = N\n",
    "        self.J = J\n",
    "        self.embedding_size = embedding_size\n",
    "        \n",
    "        self.build_controler()\n",
    "        \n",
    "        self.training_mode = training_mode\n",
    "        \n",
    "        if training_mode == 'supervised':\n",
    "            self.build_supervised()\n",
    "            with tf.variable_scope('Supervised_optimizer'):\n",
    "                self.train_op = tf.train.RMSPropOptimizer(lr).minimize(self.supervised_loss)\n",
    "                \n",
    "        elif training_mode == 'reinforce':\n",
    "            self.alpha = 0.03\n",
    "            self.build_reinforce()\n",
    "            with tf.variable_scope('Reinforce_optimizer'):\n",
    "                self.train_op =  tf.train.RMSPropOptimizer(lr).minimize(self.reinforce_loss)\n",
    "            \n",
    "        else:\n",
    "            raise(ValueError(\"Unknown training mode: %s\" % training_mode))\n",
    "        \n",
    "        print(\"All variables\")\n",
    "        for var in tf.global_variables():\n",
    "            print(var)\n",
    "            \n",
    "        \n",
    "        self.sess = sess\n",
    "        self.sess.run(tf.global_variables_initializer())\n",
    "        \n",
    "    def encode(self, inputs):\n",
    "        \n",
    "        with tf.variable_scope('Encoder'):\n",
    "        \n",
    "            identity_embeddings = tf.get_variable(\"identity_embeddings\",\n",
    "                                             [self.N, self.embedding_size])\n",
    "            \n",
    "            self.embedded_identities = tf.nn.embedding_lookup(identity_embeddings, inputs)\n",
    "        \n",
    "            \n",
    "        return tf.unstack(self.embedded_identities, axis = 1)\n",
    "    \n",
    "    def build_f(self, name, h, c, h0 = None):\n",
    "        \n",
    "        with tf.variable_scope(name, reuse = tf.AUTO_REUSE):\n",
    "            \n",
    "            if h0 is not None:\n",
    "                \n",
    "                b1 = tf.get_variable('b1', shape = (1, self.embedding_size))\n",
    "                W1 = tf.get_variable('W1', shape = (3 * self.embedding_size,\n",
    "                                                  self.embedding_size))\n",
    "                \n",
    "                W2 = tf.get_variable('W2', shape = (self.embedding_size,\n",
    "                                                  self.embedding_size))\n",
    "                \n",
    "                concat = tf.concat([h, c, h0], axis = 1)\n",
    "            \n",
    "            else:\n",
    "                b1 = tf.get_variable('b1', shape = (1, self.embedding_size))\n",
    "                \n",
    "                W1 = tf.get_variable('W1', shape = (2 * self.embedding_size,\n",
    "                                                  self.embedding_size))\n",
    "                \n",
    "                W2 = tf.get_variable('W2', shape = (self.embedding_size,\n",
    "                                                  self.embedding_size))\n",
    "                \n",
    "                concat = tf.concat([h, c], axis = 1)\n",
    "            \n",
    "            b2 = tf.get_variable('b2', shape = (1, self.embedding_size))\n",
    "            \n",
    "            dense1 =tf.nn.relu(tf.einsum(\"ij,jk->ik\", concat, W1) + b1)\n",
    "            dense2 = tf.nn.relu(tf.einsum(\"ij,jk->ik\", dense1, W2) + b2)\n",
    "            \n",
    "            return dense2\n",
    "        \n",
    "    def decode(self, h):\n",
    "        \n",
    "        with tf.variable_scope('Decoder', reuse = tf.AUTO_REUSE):\n",
    "            \n",
    "            W = tf.get_variable('W', shape = (self.embedding_size,\n",
    "                                                  self.J))\n",
    "            \n",
    "            b = tf.get_variable('b', shape = (1, self.J))\n",
    "            \n",
    "            policy_logit = tf.einsum(\"ij,jk->ik\", h, W) + b\n",
    "        \n",
    "            return policy_logit\n",
    "    \n",
    "    \n",
    "    def communicate(self, h_seq):\n",
    "        \n",
    "        return tf.add_n(h_seq) / (self.J - 1)\n",
    "    \n",
    "    def sample_actions(self, policy_logit):\n",
    "        \n",
    "        action = tf.multinomial(policy_logit, num_samples = 1)\n",
    "        \n",
    "        return action\n",
    "    \n",
    "        \n",
    "    def build_controler(self):\n",
    "        \n",
    "        self.inputs = tf.placeholder(tf.int32, shape = (None, self.J))\n",
    "        \n",
    "        h0_seq = self.encode(self.inputs)\n",
    "        c0_seq = [self.communicate([h0_seq[j] for j in range(self.J) if j != i]) for i in range(self.J)]\n",
    "        \n",
    "        h1_seq = [self.build_f(\"Comm_step_1\", h0_seq[j], c0_seq[j], None) for j in range(self.J)]\n",
    "        c1_seq = [self.communicate([h1_seq[j] for j in range(self.J) if j != i]) for i in range(self.J)]\n",
    "        \n",
    "        h2_seq = [self.build_f(\"Comm_step_2\", h1_seq[j], c1_seq[j], h0_seq[j]) for j in range(self.J)]\n",
    "        \n",
    "        self.layers = {'h0_seq': h0_seq, 'c0_seq': c0_seq, 'h1_seq': h1_seq, 'c1_seq':c1_seq, 'h2_seq': h2_seq}\n",
    "        \n",
    "        \n",
    "        self.policy_logit_seq = [self.decode(h2) for h2 in h2_seq]\n",
    "        \n",
    "        self.proba_seq = [tf.nn.softmax(policy_logit, axis = 1) for policy_logit in self.policy_logit_seq]\n",
    "        \n",
    "        self.action_seq = [self.sample_actions(policy_logit) for policy_logit in self.policy_logit_seq]\n",
    "        \n",
    "        self.one_hot_action_seq = [tf.one_hot(action, depth = self.J) for action in self.action_seq]\n",
    "        \n",
    "        \n",
    "        \n",
    "    def build_supervised(self):\n",
    "        \n",
    "        assert self.training_mode == 'supervised', 'Wrong training mode'\n",
    "        \n",
    "        self.targets = tf.placeholder(tf.int32, shape = (None, self.J))\n",
    "        unstacked_targets = tf.unstack(self.targets, axis = 1)\n",
    "        \n",
    "        supervised_loss_seq = [tf.nn.sparse_softmax_cross_entropy_with_logits(labels=unstacked_targets[j],\n",
    "                                                                                   logits=self.policy_logit_seq[j])\n",
    "                                    for j in range(self.J)]\n",
    "        \n",
    "        self.supervised_loss = tf.reduce_mean(supervised_loss_seq)\n",
    "        \n",
    "        \n",
    "    def supervised_train(self, X, y, val_X, val_y, env, batch_size = 32, epochs = 1):\n",
    "        \n",
    "        assert self.training_mode == 'supervised', 'Wrong training mode'\n",
    "        \n",
    "        n = X.shape[0]\n",
    "        \n",
    "        val_n = val_X.shape[0]\n",
    "        \n",
    "        data_inds = np.array(range(n))\n",
    "        for ep in range(1, epochs + 1):\n",
    "            np.random.shuffle(data_inds)\n",
    "            supervised_loss_sum = 0\n",
    "            reward_sum = 0\n",
    "            for i in tqdm_notebook(range(0, n, batch_size), \"Epoch: %d\" % ep):\n",
    "                inds_batch = data_inds[i:i+batch_size]\n",
    "                X_batch = X[inds_batch]\n",
    "                y_batch = y[inds_batch]\n",
    "                _, supervised_loss, one_hot_action_seq = sess.run([self.train_op, self.supervised_loss, self.one_hot_action_seq], feed_dict={self.inputs: X_batch, self.targets: y_batch})\n",
    "                supervised_loss_sum += supervised_loss * batch_size\n",
    "                reward_sum += env.get_reward(one_hot_action_seq)\n",
    "            \n",
    "            print(\"loss = %f\" % (supervised_loss_sum / n))\n",
    "            print(\"reward = %f\" % (reward_sum / n))\n",
    "            print()\n",
    "            \n",
    "            val_supervised_loss, val_one_hot_action_seq = sess.run([self.supervised_loss, self.one_hot_action_seq], feed_dict={self.inputs: val_X, self.targets: val_y})\n",
    "            print('val loss = %f' % (val_supervised_loss))\n",
    "            print('val reward = %f' % (env.get_reward(val_one_hot_action_seq) / val_n))\n",
    "            \n",
    "\n",
    "    def build_reinforce(self):\n",
    "        \n",
    "        assert self.training_mode == 'reinforce', 'Wrong training mode'\n",
    "        \n",
    "        \n",
    "        self.state_q_val_seq = tf.placeholder(tf.float32, shape = (None, self.J, self.J))\n",
    "        \n",
    "        self.reward_sum_values = tf.placeholder(tf.float32, shape = (None,))\n",
    "        self.advantage_values = tf.placeholder(tf.float32, shape = (None,))\n",
    "  \n",
    "        \n",
    "        self.action_taken = tf.placeholder(tf.int32, shape = (None, self.J))\n",
    "        unstacked_action_taken = tf.unstack(self.action_taken, axis = 1)\n",
    "        one_hot_action_taken_seq = [tf.one_hot(action, depth = self.J, dtype = tf.int32) for action in unstacked_action_taken]\n",
    "        \n",
    "        self.neg_log_p_seq = [tf.nn.sparse_softmax_cross_entropy_with_logits(labels=unstacked_action_taken[j],\n",
    "                                                    logits=self.policy_logit_seq[j]) for j in range(self.J)]\n",
    "        \n",
    "        neg_log_p_sums = tf.reduce_sum(self.neg_log_p_seq, axis = 0)\n",
    "        \n",
    "        \n",
    "        stacked_proba_seq = tf.stack(self.proba_seq, axis = 1)\n",
    "        \n",
    "        baseline = tf.einsum('ijk, ijk-> ij', self.state_q_val_seq, stacked_proba_seq)\n",
    "        baseline = tf.reduce_mean(baseline, axis = 1)\n",
    "        \n",
    "        #surrogate loss (- dtheta)\n",
    "        advantage = self.reward_sum_values - baseline\n",
    "    \n",
    "        self.reinforce_loss =  tf.multiply(neg_log_p_sums, self.advantage_values)\n",
    "        self.reinforce_loss += self.alpha * tf.square(advantage)\n",
    "        self.reinforce_loss = tf.reduce_sum(self.reinforce_loss, axis = 0)\n",
    "        \n",
    "        \n",
    "    def take_action(self, state):\n",
    "        \n",
    "        assert self.training_mode == 'reinforce', 'Wrong training mode'\n",
    "        \n",
    "        action_seq, proba_seq = self.sess.run([self.action_seq, self.proba_seq], {self.inputs: [state]})\n",
    "        \n",
    "        return [a[0,0] for a in action_seq], np.array(proba_seq)\n",
    "    \n",
    "    def reinforce_train(self, env, n_episodes, T):\n",
    "        \n",
    "        assert self.training_mode == 'reinforce', 'Wrong training mode'\n",
    "        \n",
    "        \n",
    "        history = {'reward' : [],  'loss': []}\n",
    "        \n",
    "        q_reward_sum = np.zeros((self.N, self.J))\n",
    "        q_state_action_count = np.zeros((self.N, self.J))\n",
    "        q_val = np.zeros((self.N, self.J))\n",
    "    \n",
    "        \n",
    "        for _ in tqdm(range(n_episodes), \"REINFORCE\"):\n",
    "            \n",
    "            # todo: change code to avoid this seq_seq name (sequence of sequence)\n",
    "            state_seq, action_seq, reward_seq, proba_seq = policy_rollout(T, env, commNet)\n",
    "            episode_len = reward_seq.shape[0]\n",
    "            \n",
    "            history['reward'].append(np.mean(reward_seq))\n",
    "        \n",
    "            state_q_val_seq = np.array([q_val[state] for state in state_seq])\n",
    "            \n",
    "            baseline = np.einsum('ijk, ijk-> ij', state_q_val_seq, proba_seq)\n",
    "            \n",
    "            baseline = baseline.mean(axis = 1)\n",
    "            \n",
    "            reward_sum_values = np.array([reward_seq[t:].sum() for t in range(episode_len)])\n",
    "            advantage_values = np.array([reward_sum_values[t] - baseline[t] for t in range(episode_len)])          \n",
    "            \n",
    "            \n",
    "            feed_dict = {}\n",
    "            feed_dict[self.inputs] = state_seq\n",
    "            feed_dict[self.state_q_val_seq] = state_q_val_seq\n",
    "            feed_dict[self.reward_sum_values] = reward_sum_values\n",
    "            feed_dict[self.advantage_values] = advantage_values\n",
    "            feed_dict[self.action_taken] = action_seq\n",
    "            \n",
    "            _, loss = self.sess.run([self.train_op, self.reinforce_loss], feed_dict = feed_dict)\n",
    "            \n",
    "            history['loss'].append(loss)  \n",
    "            \n",
    "            # udpate_q_val\n",
    "            for i in range(episode_len):\n",
    "                \n",
    "                state = state_seq[i]\n",
    "                action = action_seq[i]\n",
    "                \n",
    "                cummul_reward = reward_seq[i:].sum()\n",
    "                q_state_action_count[state, action] += 1\n",
    "                q_reward_sum[state, action] += cummul_reward\n",
    "            \n",
    "            q_val = q_reward_sum/np.maximum(1,q_state_action_count)\n",
    "            \n",
    "            \n",
    "        return history, q_val\n",
    "            \n",
    "            \n",
    "            \n",
    "            \n",
    "            \n",
    "            \n",
    "            \n",
    "        "
   ]
  },
  {
   "cell_type": "code",
   "execution_count": 110,
   "metadata": {},
   "outputs": [],
   "source": [
    "class LeverEnv:\n",
    "    \n",
    "    def __init__(self, N, J):\n",
    "        \n",
    "        self.J = J\n",
    "        self.N = N\n",
    "        \n",
    "    def reset(self):\n",
    "        \n",
    "        state = np.random.choice(self.N, size = self.J, replace = False)\n",
    "        \n",
    "        terminal_state = False\n",
    "        \n",
    "        return state, terminal_state\n",
    "    \n",
    "    def get_reward(self, one_hot_action_seq):        \n",
    "        \n",
    "        reward = np.sum(np.sum(one_hot_action_seq, axis = 0) > 0) /self.J\n",
    "        \n",
    "        return reward\n",
    "        \n",
    "    def step(self, state, action):\n",
    "        \n",
    "        next_state = np.random.choice(self.N, size = self.J, replace = False)\n",
    "        \n",
    "        one_hot_action_seq = np.zeros((self.J, self.J))\n",
    "        one_hot_action_seq[range(self.J), action] = 1\n",
    "        reward = self.get_reward(one_hot_action_seq)\n",
    "        \n",
    "        terminal_state = False\n",
    "        \n",
    "        return next_state, reward, terminal_state\n",
    "        "
   ]
  },
  {
   "cell_type": "code",
   "execution_count": 160,
   "metadata": {},
   "outputs": [],
   "source": [
    "# data generation for supervised learning\n",
    "def generate_data(n, N, J):\n",
    "    \n",
    "    X = np.empty((n, J), dtype = int)\n",
    "    y= np.empty((n,J), dtype = int)\n",
    "    \n",
    "    for i in range(n):\n",
    "        \n",
    "        X[i] = np.random.choice(N, size = J, replace = False)\n",
    "        sorted_args = np.argsort(X[i])\n",
    "        y[i] = np.argsort(sorted_args)\n",
    "        \n",
    "    return X, y"
   ]
  },
  {
   "cell_type": "code",
   "execution_count": 112,
   "metadata": {},
   "outputs": [],
   "source": [
    "# episode generation for reinforcement learning\n",
    "def policy_rollout(T, env, agent):\n",
    "    \n",
    "    state_seq = []\n",
    "    action_seq = []\n",
    "    reward_seq = []\n",
    "    proba_seq = []\n",
    "    \n",
    "    \n",
    "    state, terminal_state = env.reset()\n",
    "    \n",
    "    t = 0\n",
    "    \n",
    "    while not terminal_state and t < T:\n",
    "        t +=1\n",
    "        \n",
    "        state_seq.append(state)\n",
    "        action, proba = agent.take_action(state)\n",
    "        \n",
    "        state, reward, terminal_state = env.step(state, action)\n",
    "        \n",
    "        \n",
    "        action_seq.append(action)\n",
    "        reward_seq.append(reward)\n",
    "        proba_seq.append(proba)\n",
    "        \n",
    "    return np.array(state_seq), np.array(action_seq), np.array(reward_seq), np.squeeze(np.array(proba_seq))"
   ]
  },
  {
   "cell_type": "code",
   "execution_count": 113,
   "metadata": {},
   "outputs": [],
   "source": [
    "N = 500\n",
    "J = 3\n",
    "batch_size = 32\n",
    "n = batch_size * 1000"
   ]
  },
  {
   "cell_type": "code",
   "execution_count": 114,
   "metadata": {},
   "outputs": [],
   "source": [
    "X, y = generate_data(n, N, J)\n",
    "val_X, val_y = generate_data(500, N, J)"
   ]
  },
  {
   "cell_type": "code",
   "execution_count": 115,
   "metadata": {
    "scrolled": true
   },
   "outputs": [
    {
     "name": "stdout",
     "output_type": "stream",
     "text": [
      "All variables\n",
      "<tf.Variable 'Encoder/identity_embeddings:0' shape=(500, 128) dtype=float32_ref>\n",
      "<tf.Variable 'Comm_step_1/b1:0' shape=(1, 128) dtype=float32_ref>\n",
      "<tf.Variable 'Comm_step_1/W1:0' shape=(256, 128) dtype=float32_ref>\n",
      "<tf.Variable 'Comm_step_1/W2:0' shape=(128, 128) dtype=float32_ref>\n",
      "<tf.Variable 'Comm_step_1/b2:0' shape=(1, 128) dtype=float32_ref>\n",
      "<tf.Variable 'Comm_step_2/b1:0' shape=(1, 128) dtype=float32_ref>\n",
      "<tf.Variable 'Comm_step_2/W1:0' shape=(384, 128) dtype=float32_ref>\n",
      "<tf.Variable 'Comm_step_2/W2:0' shape=(128, 128) dtype=float32_ref>\n",
      "<tf.Variable 'Comm_step_2/b2:0' shape=(1, 128) dtype=float32_ref>\n",
      "<tf.Variable 'Decoder/W:0' shape=(128, 3) dtype=float32_ref>\n",
      "<tf.Variable 'Decoder/b:0' shape=(1, 3) dtype=float32_ref>\n",
      "<tf.Variable 'Supervised_optimizer/Encoder/identity_embeddings/RMSProp:0' shape=(500, 128) dtype=float32_ref>\n",
      "<tf.Variable 'Supervised_optimizer/Encoder/identity_embeddings/RMSProp_1:0' shape=(500, 128) dtype=float32_ref>\n",
      "<tf.Variable 'Supervised_optimizer/Comm_step_1/b1/RMSProp:0' shape=(1, 128) dtype=float32_ref>\n",
      "<tf.Variable 'Supervised_optimizer/Comm_step_1/b1/RMSProp_1:0' shape=(1, 128) dtype=float32_ref>\n",
      "<tf.Variable 'Supervised_optimizer/Comm_step_1/W1/RMSProp:0' shape=(256, 128) dtype=float32_ref>\n",
      "<tf.Variable 'Supervised_optimizer/Comm_step_1/W1/RMSProp_1:0' shape=(256, 128) dtype=float32_ref>\n",
      "<tf.Variable 'Supervised_optimizer/Comm_step_1/W2/RMSProp:0' shape=(128, 128) dtype=float32_ref>\n",
      "<tf.Variable 'Supervised_optimizer/Comm_step_1/W2/RMSProp_1:0' shape=(128, 128) dtype=float32_ref>\n",
      "<tf.Variable 'Supervised_optimizer/Comm_step_1/b2/RMSProp:0' shape=(1, 128) dtype=float32_ref>\n",
      "<tf.Variable 'Supervised_optimizer/Comm_step_1/b2/RMSProp_1:0' shape=(1, 128) dtype=float32_ref>\n",
      "<tf.Variable 'Supervised_optimizer/Comm_step_2/b1/RMSProp:0' shape=(1, 128) dtype=float32_ref>\n",
      "<tf.Variable 'Supervised_optimizer/Comm_step_2/b1/RMSProp_1:0' shape=(1, 128) dtype=float32_ref>\n",
      "<tf.Variable 'Supervised_optimizer/Comm_step_2/W1/RMSProp:0' shape=(384, 128) dtype=float32_ref>\n",
      "<tf.Variable 'Supervised_optimizer/Comm_step_2/W1/RMSProp_1:0' shape=(384, 128) dtype=float32_ref>\n",
      "<tf.Variable 'Supervised_optimizer/Comm_step_2/W2/RMSProp:0' shape=(128, 128) dtype=float32_ref>\n",
      "<tf.Variable 'Supervised_optimizer/Comm_step_2/W2/RMSProp_1:0' shape=(128, 128) dtype=float32_ref>\n",
      "<tf.Variable 'Supervised_optimizer/Comm_step_2/b2/RMSProp:0' shape=(1, 128) dtype=float32_ref>\n",
      "<tf.Variable 'Supervised_optimizer/Comm_step_2/b2/RMSProp_1:0' shape=(1, 128) dtype=float32_ref>\n",
      "<tf.Variable 'Supervised_optimizer/Decoder/W/RMSProp:0' shape=(128, 3) dtype=float32_ref>\n",
      "<tf.Variable 'Supervised_optimizer/Decoder/W/RMSProp_1:0' shape=(128, 3) dtype=float32_ref>\n",
      "<tf.Variable 'Supervised_optimizer/Decoder/b/RMSProp:0' shape=(1, 3) dtype=float32_ref>\n",
      "<tf.Variable 'Supervised_optimizer/Decoder/b/RMSProp_1:0' shape=(1, 3) dtype=float32_ref>\n"
     ]
    },
    {
     "data": {
      "application/vnd.jupyter.widget-view+json": {
       "model_id": "9af68ea39bce4d79931945f6851f2da2",
       "version_major": 2,
       "version_minor": 0
      },
      "text/html": [
       "<p>Failed to display Jupyter Widget of type <code>HBox</code>.</p>\n",
       "<p>\n",
       "  If you're reading this message in the Jupyter Notebook or JupyterLab Notebook, it may mean\n",
       "  that the widgets JavaScript is still loading. If this message persists, it\n",
       "  likely means that the widgets JavaScript library is either not installed or\n",
       "  not enabled. See the <a href=\"https://ipywidgets.readthedocs.io/en/stable/user_install.html\">Jupyter\n",
       "  Widgets Documentation</a> for setup instructions.\n",
       "</p>\n",
       "<p>\n",
       "  If you're reading this message in another frontend (for example, a static\n",
       "  rendering on GitHub or <a href=\"https://nbviewer.jupyter.org/\">NBViewer</a>),\n",
       "  it may mean that your frontend doesn't currently support widgets.\n",
       "</p>\n"
      ],
      "text/plain": [
       "HBox(children=(IntProgress(value=0, description='Epoch: 1', max=1000, style=ProgressStyle(description_width='initial')), HTML(value='')))"
      ]
     },
     "metadata": {},
     "output_type": "display_data"
    },
    {
     "name": "stdout",
     "output_type": "stream",
     "text": [
      "\n",
      "loss = 1.046343\n",
      "reward = 0.713635\n",
      "\n",
      "val loss = 0.967683\n",
      "val reward = 0.748000\n"
     ]
    },
    {
     "data": {
      "application/vnd.jupyter.widget-view+json": {
       "model_id": "e5ad537eba654691b63e34e5ac203e2d",
       "version_major": 2,
       "version_minor": 0
      },
      "text/html": [
       "<p>Failed to display Jupyter Widget of type <code>HBox</code>.</p>\n",
       "<p>\n",
       "  If you're reading this message in the Jupyter Notebook or JupyterLab Notebook, it may mean\n",
       "  that the widgets JavaScript is still loading. If this message persists, it\n",
       "  likely means that the widgets JavaScript library is either not installed or\n",
       "  not enabled. See the <a href=\"https://ipywidgets.readthedocs.io/en/stable/user_install.html\">Jupyter\n",
       "  Widgets Documentation</a> for setup instructions.\n",
       "</p>\n",
       "<p>\n",
       "  If you're reading this message in another frontend (for example, a static\n",
       "  rendering on GitHub or <a href=\"https://nbviewer.jupyter.org/\">NBViewer</a>),\n",
       "  it may mean that your frontend doesn't currently support widgets.\n",
       "</p>\n"
      ],
      "text/plain": [
       "HBox(children=(IntProgress(value=0, description='Epoch: 2', max=1000, style=ProgressStyle(description_width='initial')), HTML(value='')))"
      ]
     },
     "metadata": {},
     "output_type": "display_data"
    },
    {
     "name": "stdout",
     "output_type": "stream",
     "text": [
      "\n",
      "loss = 0.926915\n",
      "reward = 0.748479\n",
      "\n",
      "val loss = 0.964891\n",
      "val reward = 0.739333\n"
     ]
    },
    {
     "data": {
      "application/vnd.jupyter.widget-view+json": {
       "model_id": "0bf87c32c71242fc9644ac48c5c43364",
       "version_major": 2,
       "version_minor": 0
      },
      "text/html": [
       "<p>Failed to display Jupyter Widget of type <code>HBox</code>.</p>\n",
       "<p>\n",
       "  If you're reading this message in the Jupyter Notebook or JupyterLab Notebook, it may mean\n",
       "  that the widgets JavaScript is still loading. If this message persists, it\n",
       "  likely means that the widgets JavaScript library is either not installed or\n",
       "  not enabled. See the <a href=\"https://ipywidgets.readthedocs.io/en/stable/user_install.html\">Jupyter\n",
       "  Widgets Documentation</a> for setup instructions.\n",
       "</p>\n",
       "<p>\n",
       "  If you're reading this message in another frontend (for example, a static\n",
       "  rendering on GitHub or <a href=\"https://nbviewer.jupyter.org/\">NBViewer</a>),\n",
       "  it may mean that your frontend doesn't currently support widgets.\n",
       "</p>\n"
      ],
      "text/plain": [
       "HBox(children=(IntProgress(value=0, description='Epoch: 3', max=1000, style=ProgressStyle(description_width='initial')), HTML(value='')))"
      ]
     },
     "metadata": {},
     "output_type": "display_data"
    },
    {
     "name": "stdout",
     "output_type": "stream",
     "text": [
      "\n",
      "loss = 0.905397\n",
      "reward = 0.756250\n",
      "\n",
      "val loss = 0.956542\n",
      "val reward = 0.749333\n"
     ]
    },
    {
     "data": {
      "application/vnd.jupyter.widget-view+json": {
       "model_id": "1f8c24cf70b64acbbcefb73e6be65ec3",
       "version_major": 2,
       "version_minor": 0
      },
      "text/html": [
       "<p>Failed to display Jupyter Widget of type <code>HBox</code>.</p>\n",
       "<p>\n",
       "  If you're reading this message in the Jupyter Notebook or JupyterLab Notebook, it may mean\n",
       "  that the widgets JavaScript is still loading. If this message persists, it\n",
       "  likely means that the widgets JavaScript library is either not installed or\n",
       "  not enabled. See the <a href=\"https://ipywidgets.readthedocs.io/en/stable/user_install.html\">Jupyter\n",
       "  Widgets Documentation</a> for setup instructions.\n",
       "</p>\n",
       "<p>\n",
       "  If you're reading this message in another frontend (for example, a static\n",
       "  rendering on GitHub or <a href=\"https://nbviewer.jupyter.org/\">NBViewer</a>),\n",
       "  it may mean that your frontend doesn't currently support widgets.\n",
       "</p>\n"
      ],
      "text/plain": [
       "HBox(children=(IntProgress(value=0, description='Epoch: 4', max=1000, style=ProgressStyle(description_width='initial')), HTML(value='')))"
      ]
     },
     "metadata": {},
     "output_type": "display_data"
    },
    {
     "name": "stdout",
     "output_type": "stream",
     "text": [
      "\n",
      "loss = 0.883013\n",
      "reward = 0.761406\n",
      "\n",
      "val loss = 0.963858\n",
      "val reward = 0.787333\n"
     ]
    },
    {
     "data": {
      "application/vnd.jupyter.widget-view+json": {
       "model_id": "c7ac0a880a9947ecb2b75b1893f3fdc8",
       "version_major": 2,
       "version_minor": 0
      },
      "text/html": [
       "<p>Failed to display Jupyter Widget of type <code>HBox</code>.</p>\n",
       "<p>\n",
       "  If you're reading this message in the Jupyter Notebook or JupyterLab Notebook, it may mean\n",
       "  that the widgets JavaScript is still loading. If this message persists, it\n",
       "  likely means that the widgets JavaScript library is either not installed or\n",
       "  not enabled. See the <a href=\"https://ipywidgets.readthedocs.io/en/stable/user_install.html\">Jupyter\n",
       "  Widgets Documentation</a> for setup instructions.\n",
       "</p>\n",
       "<p>\n",
       "  If you're reading this message in another frontend (for example, a static\n",
       "  rendering on GitHub or <a href=\"https://nbviewer.jupyter.org/\">NBViewer</a>),\n",
       "  it may mean that your frontend doesn't currently support widgets.\n",
       "</p>\n"
      ],
      "text/plain": [
       "HBox(children=(IntProgress(value=0, description='Epoch: 5', max=1000, style=ProgressStyle(description_width='initial')), HTML(value='')))"
      ]
     },
     "metadata": {},
     "output_type": "display_data"
    },
    {
     "name": "stdout",
     "output_type": "stream",
     "text": [
      "\n",
      "loss = 0.855678\n",
      "reward = 0.770073\n",
      "\n",
      "val loss = 0.983786\n",
      "val reward = 0.766000\n"
     ]
    },
    {
     "data": {
      "application/vnd.jupyter.widget-view+json": {
       "model_id": "ba5b188d20704a4e814922e6ce623614",
       "version_major": 2,
       "version_minor": 0
      },
      "text/html": [
       "<p>Failed to display Jupyter Widget of type <code>HBox</code>.</p>\n",
       "<p>\n",
       "  If you're reading this message in the Jupyter Notebook or JupyterLab Notebook, it may mean\n",
       "  that the widgets JavaScript is still loading. If this message persists, it\n",
       "  likely means that the widgets JavaScript library is either not installed or\n",
       "  not enabled. See the <a href=\"https://ipywidgets.readthedocs.io/en/stable/user_install.html\">Jupyter\n",
       "  Widgets Documentation</a> for setup instructions.\n",
       "</p>\n",
       "<p>\n",
       "  If you're reading this message in another frontend (for example, a static\n",
       "  rendering on GitHub or <a href=\"https://nbviewer.jupyter.org/\">NBViewer</a>),\n",
       "  it may mean that your frontend doesn't currently support widgets.\n",
       "</p>\n"
      ],
      "text/plain": [
       "HBox(children=(IntProgress(value=0, description='Epoch: 6', max=1000, style=ProgressStyle(description_width='initial')), HTML(value='')))"
      ]
     },
     "metadata": {},
     "output_type": "display_data"
    },
    {
     "name": "stdout",
     "output_type": "stream",
     "text": [
      "\n",
      "loss = 0.820209\n",
      "reward = 0.778333\n",
      "\n",
      "val loss = 0.994558\n",
      "val reward = 0.764000\n"
     ]
    },
    {
     "data": {
      "application/vnd.jupyter.widget-view+json": {
       "model_id": "d13b56d9dd06444a8210d1f50785ea3c",
       "version_major": 2,
       "version_minor": 0
      },
      "text/html": [
       "<p>Failed to display Jupyter Widget of type <code>HBox</code>.</p>\n",
       "<p>\n",
       "  If you're reading this message in the Jupyter Notebook or JupyterLab Notebook, it may mean\n",
       "  that the widgets JavaScript is still loading. If this message persists, it\n",
       "  likely means that the widgets JavaScript library is either not installed or\n",
       "  not enabled. See the <a href=\"https://ipywidgets.readthedocs.io/en/stable/user_install.html\">Jupyter\n",
       "  Widgets Documentation</a> for setup instructions.\n",
       "</p>\n",
       "<p>\n",
       "  If you're reading this message in another frontend (for example, a static\n",
       "  rendering on GitHub or <a href=\"https://nbviewer.jupyter.org/\">NBViewer</a>),\n",
       "  it may mean that your frontend doesn't currently support widgets.\n",
       "</p>\n"
      ],
      "text/plain": [
       "HBox(children=(IntProgress(value=0, description='Epoch: 7', max=1000, style=ProgressStyle(description_width='initial')), HTML(value='')))"
      ]
     },
     "metadata": {},
     "output_type": "display_data"
    },
    {
     "name": "stdout",
     "output_type": "stream",
     "text": [
      "\n",
      "loss = 0.780347\n",
      "reward = 0.788104\n",
      "\n",
      "val loss = 1.037243\n",
      "val reward = 0.782667\n"
     ]
    },
    {
     "data": {
      "application/vnd.jupyter.widget-view+json": {
       "model_id": "78f5b5a8d20c4b8ab51e9d4e0b23dd5d",
       "version_major": 2,
       "version_minor": 0
      },
      "text/html": [
       "<p>Failed to display Jupyter Widget of type <code>HBox</code>.</p>\n",
       "<p>\n",
       "  If you're reading this message in the Jupyter Notebook or JupyterLab Notebook, it may mean\n",
       "  that the widgets JavaScript is still loading. If this message persists, it\n",
       "  likely means that the widgets JavaScript library is either not installed or\n",
       "  not enabled. See the <a href=\"https://ipywidgets.readthedocs.io/en/stable/user_install.html\">Jupyter\n",
       "  Widgets Documentation</a> for setup instructions.\n",
       "</p>\n",
       "<p>\n",
       "  If you're reading this message in another frontend (for example, a static\n",
       "  rendering on GitHub or <a href=\"https://nbviewer.jupyter.org/\">NBViewer</a>),\n",
       "  it may mean that your frontend doesn't currently support widgets.\n",
       "</p>\n"
      ],
      "text/plain": [
       "HBox(children=(IntProgress(value=0, description='Epoch: 8', max=1000, style=ProgressStyle(description_width='initial')), HTML(value='')))"
      ]
     },
     "metadata": {},
     "output_type": "display_data"
    },
    {
     "name": "stdout",
     "output_type": "stream",
     "text": [
      "\n",
      "loss = 0.738372\n",
      "reward = 0.798771\n",
      "\n",
      "val loss = 1.208681\n",
      "val reward = 0.826000\n"
     ]
    },
    {
     "data": {
      "application/vnd.jupyter.widget-view+json": {
       "model_id": "325d2bfc097c4c949810ae0d21bc08ab",
       "version_major": 2,
       "version_minor": 0
      },
      "text/html": [
       "<p>Failed to display Jupyter Widget of type <code>HBox</code>.</p>\n",
       "<p>\n",
       "  If you're reading this message in the Jupyter Notebook or JupyterLab Notebook, it may mean\n",
       "  that the widgets JavaScript is still loading. If this message persists, it\n",
       "  likely means that the widgets JavaScript library is either not installed or\n",
       "  not enabled. See the <a href=\"https://ipywidgets.readthedocs.io/en/stable/user_install.html\">Jupyter\n",
       "  Widgets Documentation</a> for setup instructions.\n",
       "</p>\n",
       "<p>\n",
       "  If you're reading this message in another frontend (for example, a static\n",
       "  rendering on GitHub or <a href=\"https://nbviewer.jupyter.org/\">NBViewer</a>),\n",
       "  it may mean that your frontend doesn't currently support widgets.\n",
       "</p>\n"
      ],
      "text/plain": [
       "HBox(children=(IntProgress(value=0, description='Epoch: 9', max=1000, style=ProgressStyle(description_width='initial')), HTML(value='')))"
      ]
     },
     "metadata": {},
     "output_type": "display_data"
    },
    {
     "name": "stdout",
     "output_type": "stream",
     "text": [
      "\n",
      "loss = 0.692366\n",
      "reward = 0.808854\n",
      "\n",
      "val loss = 1.162292\n",
      "val reward = 0.803333\n"
     ]
    },
    {
     "data": {
      "application/vnd.jupyter.widget-view+json": {
       "model_id": "04609b56eeff4c09bf7b981ad4c3ebe0",
       "version_major": 2,
       "version_minor": 0
      },
      "text/html": [
       "<p>Failed to display Jupyter Widget of type <code>HBox</code>.</p>\n",
       "<p>\n",
       "  If you're reading this message in the Jupyter Notebook or JupyterLab Notebook, it may mean\n",
       "  that the widgets JavaScript is still loading. If this message persists, it\n",
       "  likely means that the widgets JavaScript library is either not installed or\n",
       "  not enabled. See the <a href=\"https://ipywidgets.readthedocs.io/en/stable/user_install.html\">Jupyter\n",
       "  Widgets Documentation</a> for setup instructions.\n",
       "</p>\n",
       "<p>\n",
       "  If you're reading this message in another frontend (for example, a static\n",
       "  rendering on GitHub or <a href=\"https://nbviewer.jupyter.org/\">NBViewer</a>),\n",
       "  it may mean that your frontend doesn't currently support widgets.\n",
       "</p>\n"
      ],
      "text/plain": [
       "HBox(children=(IntProgress(value=0, description='Epoch: 10', max=1000, style=ProgressStyle(description_width='initial')), HTML(value='')))"
      ]
     },
     "metadata": {},
     "output_type": "display_data"
    },
    {
     "name": "stdout",
     "output_type": "stream",
     "text": [
      "\n",
      "loss = 0.646388\n",
      "reward = 0.818448\n",
      "\n",
      "val loss = 1.208937\n",
      "val reward = 0.793333\n"
     ]
    },
    {
     "data": {
      "application/vnd.jupyter.widget-view+json": {
       "model_id": "e140a6f481814e55a4ef098d4d6ff56c",
       "version_major": 2,
       "version_minor": 0
      },
      "text/html": [
       "<p>Failed to display Jupyter Widget of type <code>HBox</code>.</p>\n",
       "<p>\n",
       "  If you're reading this message in the Jupyter Notebook or JupyterLab Notebook, it may mean\n",
       "  that the widgets JavaScript is still loading. If this message persists, it\n",
       "  likely means that the widgets JavaScript library is either not installed or\n",
       "  not enabled. See the <a href=\"https://ipywidgets.readthedocs.io/en/stable/user_install.html\">Jupyter\n",
       "  Widgets Documentation</a> for setup instructions.\n",
       "</p>\n",
       "<p>\n",
       "  If you're reading this message in another frontend (for example, a static\n",
       "  rendering on GitHub or <a href=\"https://nbviewer.jupyter.org/\">NBViewer</a>),\n",
       "  it may mean that your frontend doesn't currently support widgets.\n",
       "</p>\n"
      ],
      "text/plain": [
       "HBox(children=(IntProgress(value=0, description='Epoch: 11', max=1000, style=ProgressStyle(description_width='initial')), HTML(value='')))"
      ]
     },
     "metadata": {},
     "output_type": "display_data"
    },
    {
     "name": "stdout",
     "output_type": "stream",
     "text": [
      "\n",
      "loss = 0.600537\n",
      "reward = 0.829250\n",
      "\n",
      "val loss = 1.410644\n",
      "val reward = 0.798667\n"
     ]
    },
    {
     "data": {
      "application/vnd.jupyter.widget-view+json": {
       "model_id": "e8cf10dc08fd4c18b60cbb2a9783d74a",
       "version_major": 2,
       "version_minor": 0
      },
      "text/html": [
       "<p>Failed to display Jupyter Widget of type <code>HBox</code>.</p>\n",
       "<p>\n",
       "  If you're reading this message in the Jupyter Notebook or JupyterLab Notebook, it may mean\n",
       "  that the widgets JavaScript is still loading. If this message persists, it\n",
       "  likely means that the widgets JavaScript library is either not installed or\n",
       "  not enabled. See the <a href=\"https://ipywidgets.readthedocs.io/en/stable/user_install.html\">Jupyter\n",
       "  Widgets Documentation</a> for setup instructions.\n",
       "</p>\n",
       "<p>\n",
       "  If you're reading this message in another frontend (for example, a static\n",
       "  rendering on GitHub or <a href=\"https://nbviewer.jupyter.org/\">NBViewer</a>),\n",
       "  it may mean that your frontend doesn't currently support widgets.\n",
       "</p>\n"
      ],
      "text/plain": [
       "HBox(children=(IntProgress(value=0, description='Epoch: 12', max=1000, style=ProgressStyle(description_width='initial')), HTML(value='')))"
      ]
     },
     "metadata": {},
     "output_type": "display_data"
    },
    {
     "name": "stdout",
     "output_type": "stream",
     "text": [
      "\n",
      "loss = 0.555645\n",
      "reward = 0.839823\n",
      "\n",
      "val loss = 1.450270\n",
      "val reward = 0.810000\n"
     ]
    },
    {
     "data": {
      "application/vnd.jupyter.widget-view+json": {
       "model_id": "a23ac626aeb745febe45c11a11bc1fbd",
       "version_major": 2,
       "version_minor": 0
      },
      "text/html": [
       "<p>Failed to display Jupyter Widget of type <code>HBox</code>.</p>\n",
       "<p>\n",
       "  If you're reading this message in the Jupyter Notebook or JupyterLab Notebook, it may mean\n",
       "  that the widgets JavaScript is still loading. If this message persists, it\n",
       "  likely means that the widgets JavaScript library is either not installed or\n",
       "  not enabled. See the <a href=\"https://ipywidgets.readthedocs.io/en/stable/user_install.html\">Jupyter\n",
       "  Widgets Documentation</a> for setup instructions.\n",
       "</p>\n",
       "<p>\n",
       "  If you're reading this message in another frontend (for example, a static\n",
       "  rendering on GitHub or <a href=\"https://nbviewer.jupyter.org/\">NBViewer</a>),\n",
       "  it may mean that your frontend doesn't currently support widgets.\n",
       "</p>\n"
      ],
      "text/plain": [
       "HBox(children=(IntProgress(value=0, description='Epoch: 13', max=1000, style=ProgressStyle(description_width='initial')), HTML(value='')))"
      ]
     },
     "metadata": {},
     "output_type": "display_data"
    },
    {
     "name": "stdout",
     "output_type": "stream",
     "text": [
      "\n",
      "loss = 0.512064\n",
      "reward = 0.850708\n",
      "\n",
      "val loss = 1.754566\n",
      "val reward = 0.837333\n"
     ]
    },
    {
     "data": {
      "application/vnd.jupyter.widget-view+json": {
       "model_id": "375f5c14cf354d6b9ebfde05306284d3",
       "version_major": 2,
       "version_minor": 0
      },
      "text/html": [
       "<p>Failed to display Jupyter Widget of type <code>HBox</code>.</p>\n",
       "<p>\n",
       "  If you're reading this message in the Jupyter Notebook or JupyterLab Notebook, it may mean\n",
       "  that the widgets JavaScript is still loading. If this message persists, it\n",
       "  likely means that the widgets JavaScript library is either not installed or\n",
       "  not enabled. See the <a href=\"https://ipywidgets.readthedocs.io/en/stable/user_install.html\">Jupyter\n",
       "  Widgets Documentation</a> for setup instructions.\n",
       "</p>\n",
       "<p>\n",
       "  If you're reading this message in another frontend (for example, a static\n",
       "  rendering on GitHub or <a href=\"https://nbviewer.jupyter.org/\">NBViewer</a>),\n",
       "  it may mean that your frontend doesn't currently support widgets.\n",
       "</p>\n"
      ],
      "text/plain": [
       "HBox(children=(IntProgress(value=0, description='Epoch: 14', max=1000, style=ProgressStyle(description_width='initial')), HTML(value='')))"
      ]
     },
     "metadata": {},
     "output_type": "display_data"
    },
    {
     "name": "stdout",
     "output_type": "stream",
     "text": [
      "\n",
      "loss = 0.472376\n",
      "reward = 0.858802\n",
      "\n",
      "val loss = 1.727940\n",
      "val reward = 0.826667\n"
     ]
    },
    {
     "data": {
      "application/vnd.jupyter.widget-view+json": {
       "model_id": "90e1c523b87145609d08740e7d71521b",
       "version_major": 2,
       "version_minor": 0
      },
      "text/html": [
       "<p>Failed to display Jupyter Widget of type <code>HBox</code>.</p>\n",
       "<p>\n",
       "  If you're reading this message in the Jupyter Notebook or JupyterLab Notebook, it may mean\n",
       "  that the widgets JavaScript is still loading. If this message persists, it\n",
       "  likely means that the widgets JavaScript library is either not installed or\n",
       "  not enabled. See the <a href=\"https://ipywidgets.readthedocs.io/en/stable/user_install.html\">Jupyter\n",
       "  Widgets Documentation</a> for setup instructions.\n",
       "</p>\n",
       "<p>\n",
       "  If you're reading this message in another frontend (for example, a static\n",
       "  rendering on GitHub or <a href=\"https://nbviewer.jupyter.org/\">NBViewer</a>),\n",
       "  it may mean that your frontend doesn't currently support widgets.\n",
       "</p>\n"
      ],
      "text/plain": [
       "HBox(children=(IntProgress(value=0, description='Epoch: 15', max=1000, style=ProgressStyle(description_width='initial')), HTML(value='')))"
      ]
     },
     "metadata": {},
     "output_type": "display_data"
    },
    {
     "name": "stdout",
     "output_type": "stream",
     "text": [
      "\n",
      "loss = 0.432218\n",
      "reward = 0.868906\n",
      "\n",
      "val loss = 2.000592\n",
      "val reward = 0.835333\n"
     ]
    },
    {
     "data": {
      "application/vnd.jupyter.widget-view+json": {
       "model_id": "0519705b682b4754a5361d28ae7fdb9e",
       "version_major": 2,
       "version_minor": 0
      },
      "text/html": [
       "<p>Failed to display Jupyter Widget of type <code>HBox</code>.</p>\n",
       "<p>\n",
       "  If you're reading this message in the Jupyter Notebook or JupyterLab Notebook, it may mean\n",
       "  that the widgets JavaScript is still loading. If this message persists, it\n",
       "  likely means that the widgets JavaScript library is either not installed or\n",
       "  not enabled. See the <a href=\"https://ipywidgets.readthedocs.io/en/stable/user_install.html\">Jupyter\n",
       "  Widgets Documentation</a> for setup instructions.\n",
       "</p>\n",
       "<p>\n",
       "  If you're reading this message in another frontend (for example, a static\n",
       "  rendering on GitHub or <a href=\"https://nbviewer.jupyter.org/\">NBViewer</a>),\n",
       "  it may mean that your frontend doesn't currently support widgets.\n",
       "</p>\n"
      ],
      "text/plain": [
       "HBox(children=(IntProgress(value=0, description='Epoch: 16', max=1000, style=ProgressStyle(description_width='initial')), HTML(value='')))"
      ]
     },
     "metadata": {},
     "output_type": "display_data"
    },
    {
     "name": "stdout",
     "output_type": "stream",
     "text": [
      "\n",
      "loss = 0.391994\n",
      "reward = 0.879292\n",
      "\n",
      "val loss = 2.011152\n",
      "val reward = 0.846667\n"
     ]
    },
    {
     "data": {
      "application/vnd.jupyter.widget-view+json": {
       "model_id": "d746699238df4d23896bc66573eb0a6b",
       "version_major": 2,
       "version_minor": 0
      },
      "text/html": [
       "<p>Failed to display Jupyter Widget of type <code>HBox</code>.</p>\n",
       "<p>\n",
       "  If you're reading this message in the Jupyter Notebook or JupyterLab Notebook, it may mean\n",
       "  that the widgets JavaScript is still loading. If this message persists, it\n",
       "  likely means that the widgets JavaScript library is either not installed or\n",
       "  not enabled. See the <a href=\"https://ipywidgets.readthedocs.io/en/stable/user_install.html\">Jupyter\n",
       "  Widgets Documentation</a> for setup instructions.\n",
       "</p>\n",
       "<p>\n",
       "  If you're reading this message in another frontend (for example, a static\n",
       "  rendering on GitHub or <a href=\"https://nbviewer.jupyter.org/\">NBViewer</a>),\n",
       "  it may mean that your frontend doesn't currently support widgets.\n",
       "</p>\n"
      ],
      "text/plain": [
       "HBox(children=(IntProgress(value=0, description='Epoch: 17', max=1000, style=ProgressStyle(description_width='initial')), HTML(value='')))"
      ]
     },
     "metadata": {},
     "output_type": "display_data"
    },
    {
     "name": "stdout",
     "output_type": "stream",
     "text": [
      "\n",
      "loss = 0.357823\n",
      "reward = 0.887865\n",
      "\n",
      "val loss = 2.370091\n",
      "val reward = 0.865333\n"
     ]
    },
    {
     "data": {
      "application/vnd.jupyter.widget-view+json": {
       "model_id": "66342072f33048699c877889a0071ad6",
       "version_major": 2,
       "version_minor": 0
      },
      "text/html": [
       "<p>Failed to display Jupyter Widget of type <code>HBox</code>.</p>\n",
       "<p>\n",
       "  If you're reading this message in the Jupyter Notebook or JupyterLab Notebook, it may mean\n",
       "  that the widgets JavaScript is still loading. If this message persists, it\n",
       "  likely means that the widgets JavaScript library is either not installed or\n",
       "  not enabled. See the <a href=\"https://ipywidgets.readthedocs.io/en/stable/user_install.html\">Jupyter\n",
       "  Widgets Documentation</a> for setup instructions.\n",
       "</p>\n",
       "<p>\n",
       "  If you're reading this message in another frontend (for example, a static\n",
       "  rendering on GitHub or <a href=\"https://nbviewer.jupyter.org/\">NBViewer</a>),\n",
       "  it may mean that your frontend doesn't currently support widgets.\n",
       "</p>\n"
      ],
      "text/plain": [
       "HBox(children=(IntProgress(value=0, description='Epoch: 18', max=1000, style=ProgressStyle(description_width='initial')), HTML(value='')))"
      ]
     },
     "metadata": {},
     "output_type": "display_data"
    },
    {
     "name": "stdout",
     "output_type": "stream",
     "text": [
      "\n",
      "loss = 0.329082\n",
      "reward = 0.895135\n",
      "\n",
      "val loss = 2.578494\n",
      "val reward = 0.870667\n"
     ]
    },
    {
     "data": {
      "application/vnd.jupyter.widget-view+json": {
       "model_id": "e6567f9d3e954866a7228284c0dbb423",
       "version_major": 2,
       "version_minor": 0
      },
      "text/html": [
       "<p>Failed to display Jupyter Widget of type <code>HBox</code>.</p>\n",
       "<p>\n",
       "  If you're reading this message in the Jupyter Notebook or JupyterLab Notebook, it may mean\n",
       "  that the widgets JavaScript is still loading. If this message persists, it\n",
       "  likely means that the widgets JavaScript library is either not installed or\n",
       "  not enabled. See the <a href=\"https://ipywidgets.readthedocs.io/en/stable/user_install.html\">Jupyter\n",
       "  Widgets Documentation</a> for setup instructions.\n",
       "</p>\n",
       "<p>\n",
       "  If you're reading this message in another frontend (for example, a static\n",
       "  rendering on GitHub or <a href=\"https://nbviewer.jupyter.org/\">NBViewer</a>),\n",
       "  it may mean that your frontend doesn't currently support widgets.\n",
       "</p>\n"
      ],
      "text/plain": [
       "HBox(children=(IntProgress(value=0, description='Epoch: 19', max=1000, style=ProgressStyle(description_width='initial')), HTML(value='')))"
      ]
     },
     "metadata": {},
     "output_type": "display_data"
    },
    {
     "name": "stdout",
     "output_type": "stream",
     "text": [
      "\n",
      "loss = 0.297596\n",
      "reward = 0.904938\n",
      "\n",
      "val loss = 2.667833\n",
      "val reward = 0.865333\n"
     ]
    },
    {
     "data": {
      "application/vnd.jupyter.widget-view+json": {
       "model_id": "a81e3bbcd5404ab0a7c439d449e652de",
       "version_major": 2,
       "version_minor": 0
      },
      "text/html": [
       "<p>Failed to display Jupyter Widget of type <code>HBox</code>.</p>\n",
       "<p>\n",
       "  If you're reading this message in the Jupyter Notebook or JupyterLab Notebook, it may mean\n",
       "  that the widgets JavaScript is still loading. If this message persists, it\n",
       "  likely means that the widgets JavaScript library is either not installed or\n",
       "  not enabled. See the <a href=\"https://ipywidgets.readthedocs.io/en/stable/user_install.html\">Jupyter\n",
       "  Widgets Documentation</a> for setup instructions.\n",
       "</p>\n",
       "<p>\n",
       "  If you're reading this message in another frontend (for example, a static\n",
       "  rendering on GitHub or <a href=\"https://nbviewer.jupyter.org/\">NBViewer</a>),\n",
       "  it may mean that your frontend doesn't currently support widgets.\n",
       "</p>\n"
      ],
      "text/plain": [
       "HBox(children=(IntProgress(value=0, description='Epoch: 20', max=1000, style=ProgressStyle(description_width='initial')), HTML(value='')))"
      ]
     },
     "metadata": {},
     "output_type": "display_data"
    },
    {
     "name": "stdout",
     "output_type": "stream",
     "text": [
      "\n",
      "loss = 0.273147\n",
      "reward = 0.911979\n",
      "\n",
      "val loss = 3.050503\n",
      "val reward = 0.884667\n"
     ]
    },
    {
     "data": {
      "application/vnd.jupyter.widget-view+json": {
       "model_id": "463f56758d954afd9610195e9349031a",
       "version_major": 2,
       "version_minor": 0
      },
      "text/html": [
       "<p>Failed to display Jupyter Widget of type <code>HBox</code>.</p>\n",
       "<p>\n",
       "  If you're reading this message in the Jupyter Notebook or JupyterLab Notebook, it may mean\n",
       "  that the widgets JavaScript is still loading. If this message persists, it\n",
       "  likely means that the widgets JavaScript library is either not installed or\n",
       "  not enabled. See the <a href=\"https://ipywidgets.readthedocs.io/en/stable/user_install.html\">Jupyter\n",
       "  Widgets Documentation</a> for setup instructions.\n",
       "</p>\n",
       "<p>\n",
       "  If you're reading this message in another frontend (for example, a static\n",
       "  rendering on GitHub or <a href=\"https://nbviewer.jupyter.org/\">NBViewer</a>),\n",
       "  it may mean that your frontend doesn't currently support widgets.\n",
       "</p>\n"
      ],
      "text/plain": [
       "HBox(children=(IntProgress(value=0, description='Epoch: 21', max=1000, style=ProgressStyle(description_width='initial')), HTML(value='')))"
      ]
     },
     "metadata": {},
     "output_type": "display_data"
    },
    {
     "name": "stdout",
     "output_type": "stream",
     "text": [
      "\n",
      "loss = 0.248165\n",
      "reward = 0.918094\n",
      "\n",
      "val loss = 3.110831\n",
      "val reward = 0.882667\n"
     ]
    },
    {
     "data": {
      "application/vnd.jupyter.widget-view+json": {
       "model_id": "d26515d757304e2a8d2bdb49ae833fed",
       "version_major": 2,
       "version_minor": 0
      },
      "text/html": [
       "<p>Failed to display Jupyter Widget of type <code>HBox</code>.</p>\n",
       "<p>\n",
       "  If you're reading this message in the Jupyter Notebook or JupyterLab Notebook, it may mean\n",
       "  that the widgets JavaScript is still loading. If this message persists, it\n",
       "  likely means that the widgets JavaScript library is either not installed or\n",
       "  not enabled. See the <a href=\"https://ipywidgets.readthedocs.io/en/stable/user_install.html\">Jupyter\n",
       "  Widgets Documentation</a> for setup instructions.\n",
       "</p>\n",
       "<p>\n",
       "  If you're reading this message in another frontend (for example, a static\n",
       "  rendering on GitHub or <a href=\"https://nbviewer.jupyter.org/\">NBViewer</a>),\n",
       "  it may mean that your frontend doesn't currently support widgets.\n",
       "</p>\n"
      ],
      "text/plain": [
       "HBox(children=(IntProgress(value=0, description='Epoch: 22', max=1000, style=ProgressStyle(description_width='initial')), HTML(value='')))"
      ]
     },
     "metadata": {},
     "output_type": "display_data"
    },
    {
     "name": "stdout",
     "output_type": "stream",
     "text": [
      "\n",
      "loss = 0.229260\n",
      "reward = 0.923979\n",
      "\n",
      "val loss = 3.457235\n",
      "val reward = 0.898667\n"
     ]
    },
    {
     "data": {
      "application/vnd.jupyter.widget-view+json": {
       "model_id": "2a363ec16990402fb1c3019a7599a567",
       "version_major": 2,
       "version_minor": 0
      },
      "text/html": [
       "<p>Failed to display Jupyter Widget of type <code>HBox</code>.</p>\n",
       "<p>\n",
       "  If you're reading this message in the Jupyter Notebook or JupyterLab Notebook, it may mean\n",
       "  that the widgets JavaScript is still loading. If this message persists, it\n",
       "  likely means that the widgets JavaScript library is either not installed or\n",
       "  not enabled. See the <a href=\"https://ipywidgets.readthedocs.io/en/stable/user_install.html\">Jupyter\n",
       "  Widgets Documentation</a> for setup instructions.\n",
       "</p>\n",
       "<p>\n",
       "  If you're reading this message in another frontend (for example, a static\n",
       "  rendering on GitHub or <a href=\"https://nbviewer.jupyter.org/\">NBViewer</a>),\n",
       "  it may mean that your frontend doesn't currently support widgets.\n",
       "</p>\n"
      ],
      "text/plain": [
       "HBox(children=(IntProgress(value=0, description='Epoch: 23', max=1000, style=ProgressStyle(description_width='initial')), HTML(value='')))"
      ]
     },
     "metadata": {},
     "output_type": "display_data"
    },
    {
     "name": "stdout",
     "output_type": "stream",
     "text": [
      "\n",
      "loss = 0.205809\n",
      "reward = 0.930781\n",
      "\n",
      "val loss = 3.335571\n",
      "val reward = 0.875333\n"
     ]
    },
    {
     "data": {
      "application/vnd.jupyter.widget-view+json": {
       "model_id": "42f10d8594e44ec4996b634c5fd0722b",
       "version_major": 2,
       "version_minor": 0
      },
      "text/html": [
       "<p>Failed to display Jupyter Widget of type <code>HBox</code>.</p>\n",
       "<p>\n",
       "  If you're reading this message in the Jupyter Notebook or JupyterLab Notebook, it may mean\n",
       "  that the widgets JavaScript is still loading. If this message persists, it\n",
       "  likely means that the widgets JavaScript library is either not installed or\n",
       "  not enabled. See the <a href=\"https://ipywidgets.readthedocs.io/en/stable/user_install.html\">Jupyter\n",
       "  Widgets Documentation</a> for setup instructions.\n",
       "</p>\n",
       "<p>\n",
       "  If you're reading this message in another frontend (for example, a static\n",
       "  rendering on GitHub or <a href=\"https://nbviewer.jupyter.org/\">NBViewer</a>),\n",
       "  it may mean that your frontend doesn't currently support widgets.\n",
       "</p>\n"
      ],
      "text/plain": [
       "HBox(children=(IntProgress(value=0, description='Epoch: 24', max=1000, style=ProgressStyle(description_width='initial')), HTML(value='')))"
      ]
     },
     "metadata": {},
     "output_type": "display_data"
    },
    {
     "name": "stdout",
     "output_type": "stream",
     "text": [
      "\n",
      "loss = 0.193066\n",
      "reward = 0.935865\n",
      "\n",
      "val loss = 3.507915\n",
      "val reward = 0.890000\n"
     ]
    },
    {
     "data": {
      "application/vnd.jupyter.widget-view+json": {
       "model_id": "af17781c77bd4301aaf9a5cdaee9c91a",
       "version_major": 2,
       "version_minor": 0
      },
      "text/html": [
       "<p>Failed to display Jupyter Widget of type <code>HBox</code>.</p>\n",
       "<p>\n",
       "  If you're reading this message in the Jupyter Notebook or JupyterLab Notebook, it may mean\n",
       "  that the widgets JavaScript is still loading. If this message persists, it\n",
       "  likely means that the widgets JavaScript library is either not installed or\n",
       "  not enabled. See the <a href=\"https://ipywidgets.readthedocs.io/en/stable/user_install.html\">Jupyter\n",
       "  Widgets Documentation</a> for setup instructions.\n",
       "</p>\n",
       "<p>\n",
       "  If you're reading this message in another frontend (for example, a static\n",
       "  rendering on GitHub or <a href=\"https://nbviewer.jupyter.org/\">NBViewer</a>),\n",
       "  it may mean that your frontend doesn't currently support widgets.\n",
       "</p>\n"
      ],
      "text/plain": [
       "HBox(children=(IntProgress(value=0, description='Epoch: 25', max=1000, style=ProgressStyle(description_width='initial')), HTML(value='')))"
      ]
     },
     "metadata": {},
     "output_type": "display_data"
    },
    {
     "name": "stdout",
     "output_type": "stream",
     "text": [
      "\n",
      "loss = 0.178722\n",
      "reward = 0.939813\n",
      "\n",
      "val loss = 3.516766\n",
      "val reward = 0.895333\n"
     ]
    },
    {
     "data": {
      "application/vnd.jupyter.widget-view+json": {
       "model_id": "7acd1776f2d5486493180d38fdba52a7",
       "version_major": 2,
       "version_minor": 0
      },
      "text/html": [
       "<p>Failed to display Jupyter Widget of type <code>HBox</code>.</p>\n",
       "<p>\n",
       "  If you're reading this message in the Jupyter Notebook or JupyterLab Notebook, it may mean\n",
       "  that the widgets JavaScript is still loading. If this message persists, it\n",
       "  likely means that the widgets JavaScript library is either not installed or\n",
       "  not enabled. See the <a href=\"https://ipywidgets.readthedocs.io/en/stable/user_install.html\">Jupyter\n",
       "  Widgets Documentation</a> for setup instructions.\n",
       "</p>\n",
       "<p>\n",
       "  If you're reading this message in another frontend (for example, a static\n",
       "  rendering on GitHub or <a href=\"https://nbviewer.jupyter.org/\">NBViewer</a>),\n",
       "  it may mean that your frontend doesn't currently support widgets.\n",
       "</p>\n"
      ],
      "text/plain": [
       "HBox(children=(IntProgress(value=0, description='Epoch: 26', max=1000, style=ProgressStyle(description_width='initial')), HTML(value='')))"
      ]
     },
     "metadata": {},
     "output_type": "display_data"
    },
    {
     "name": "stdout",
     "output_type": "stream",
     "text": [
      "\n",
      "loss = 0.159585\n",
      "reward = 0.945094\n",
      "\n",
      "val loss = 3.851482\n",
      "val reward = 0.880000\n"
     ]
    },
    {
     "data": {
      "application/vnd.jupyter.widget-view+json": {
       "model_id": "7278b304eef84685b6e912f326b59a41",
       "version_major": 2,
       "version_minor": 0
      },
      "text/html": [
       "<p>Failed to display Jupyter Widget of type <code>HBox</code>.</p>\n",
       "<p>\n",
       "  If you're reading this message in the Jupyter Notebook or JupyterLab Notebook, it may mean\n",
       "  that the widgets JavaScript is still loading. If this message persists, it\n",
       "  likely means that the widgets JavaScript library is either not installed or\n",
       "  not enabled. See the <a href=\"https://ipywidgets.readthedocs.io/en/stable/user_install.html\">Jupyter\n",
       "  Widgets Documentation</a> for setup instructions.\n",
       "</p>\n",
       "<p>\n",
       "  If you're reading this message in another frontend (for example, a static\n",
       "  rendering on GitHub or <a href=\"https://nbviewer.jupyter.org/\">NBViewer</a>),\n",
       "  it may mean that your frontend doesn't currently support widgets.\n",
       "</p>\n"
      ],
      "text/plain": [
       "HBox(children=(IntProgress(value=0, description='Epoch: 27', max=1000, style=ProgressStyle(description_width='initial')), HTML(value='')))"
      ]
     },
     "metadata": {},
     "output_type": "display_data"
    },
    {
     "name": "stdout",
     "output_type": "stream",
     "text": [
      "\n",
      "loss = 0.151104\n",
      "reward = 0.948302\n",
      "\n",
      "val loss = 4.248665\n",
      "val reward = 0.898667\n"
     ]
    },
    {
     "data": {
      "application/vnd.jupyter.widget-view+json": {
       "model_id": "4f4e8429ca2e4406a1eb98d24b11bad1",
       "version_major": 2,
       "version_minor": 0
      },
      "text/html": [
       "<p>Failed to display Jupyter Widget of type <code>HBox</code>.</p>\n",
       "<p>\n",
       "  If you're reading this message in the Jupyter Notebook or JupyterLab Notebook, it may mean\n",
       "  that the widgets JavaScript is still loading. If this message persists, it\n",
       "  likely means that the widgets JavaScript library is either not installed or\n",
       "  not enabled. See the <a href=\"https://ipywidgets.readthedocs.io/en/stable/user_install.html\">Jupyter\n",
       "  Widgets Documentation</a> for setup instructions.\n",
       "</p>\n",
       "<p>\n",
       "  If you're reading this message in another frontend (for example, a static\n",
       "  rendering on GitHub or <a href=\"https://nbviewer.jupyter.org/\">NBViewer</a>),\n",
       "  it may mean that your frontend doesn't currently support widgets.\n",
       "</p>\n"
      ],
      "text/plain": [
       "HBox(children=(IntProgress(value=0, description='Epoch: 28', max=1000, style=ProgressStyle(description_width='initial')), HTML(value='')))"
      ]
     },
     "metadata": {},
     "output_type": "display_data"
    },
    {
     "name": "stdout",
     "output_type": "stream",
     "text": [
      "\n",
      "loss = 0.140939\n",
      "reward = 0.952708\n",
      "\n",
      "val loss = 4.308733\n",
      "val reward = 0.888667\n"
     ]
    },
    {
     "data": {
      "application/vnd.jupyter.widget-view+json": {
       "model_id": "12fc315e3431449eb45c9ea4eba2b899",
       "version_major": 2,
       "version_minor": 0
      },
      "text/html": [
       "<p>Failed to display Jupyter Widget of type <code>HBox</code>.</p>\n",
       "<p>\n",
       "  If you're reading this message in the Jupyter Notebook or JupyterLab Notebook, it may mean\n",
       "  that the widgets JavaScript is still loading. If this message persists, it\n",
       "  likely means that the widgets JavaScript library is either not installed or\n",
       "  not enabled. See the <a href=\"https://ipywidgets.readthedocs.io/en/stable/user_install.html\">Jupyter\n",
       "  Widgets Documentation</a> for setup instructions.\n",
       "</p>\n",
       "<p>\n",
       "  If you're reading this message in another frontend (for example, a static\n",
       "  rendering on GitHub or <a href=\"https://nbviewer.jupyter.org/\">NBViewer</a>),\n",
       "  it may mean that your frontend doesn't currently support widgets.\n",
       "</p>\n"
      ],
      "text/plain": [
       "HBox(children=(IntProgress(value=0, description='Epoch: 29', max=1000, style=ProgressStyle(description_width='initial')), HTML(value='')))"
      ]
     },
     "metadata": {},
     "output_type": "display_data"
    },
    {
     "name": "stdout",
     "output_type": "stream",
     "text": [
      "\n",
      "loss = 0.127657\n",
      "reward = 0.955219\n",
      "\n",
      "val loss = 4.675236\n",
      "val reward = 0.888667\n"
     ]
    },
    {
     "data": {
      "application/vnd.jupyter.widget-view+json": {
       "model_id": "c862ec7772fd40109b45d1eee6c09ef2",
       "version_major": 2,
       "version_minor": 0
      },
      "text/html": [
       "<p>Failed to display Jupyter Widget of type <code>HBox</code>.</p>\n",
       "<p>\n",
       "  If you're reading this message in the Jupyter Notebook or JupyterLab Notebook, it may mean\n",
       "  that the widgets JavaScript is still loading. If this message persists, it\n",
       "  likely means that the widgets JavaScript library is either not installed or\n",
       "  not enabled. See the <a href=\"https://ipywidgets.readthedocs.io/en/stable/user_install.html\">Jupyter\n",
       "  Widgets Documentation</a> for setup instructions.\n",
       "</p>\n",
       "<p>\n",
       "  If you're reading this message in another frontend (for example, a static\n",
       "  rendering on GitHub or <a href=\"https://nbviewer.jupyter.org/\">NBViewer</a>),\n",
       "  it may mean that your frontend doesn't currently support widgets.\n",
       "</p>\n"
      ],
      "text/plain": [
       "HBox(children=(IntProgress(value=0, description='Epoch: 30', max=1000, style=ProgressStyle(description_width='initial')), HTML(value='')))"
      ]
     },
     "metadata": {},
     "output_type": "display_data"
    },
    {
     "name": "stdout",
     "output_type": "stream",
     "text": [
      "\n",
      "loss = 0.121728\n",
      "reward = 0.958302\n",
      "\n",
      "val loss = 4.386762\n",
      "val reward = 0.884000\n"
     ]
    }
   ],
   "source": [
    "tf.reset_default_graph()\n",
    "with tf.Session() as sess:\n",
    "    commNet = CommNet(sess, N, J, lr = 1e-3, embedding_size= 128, training_mode = 'supervised', alpha = 0.1)\n",
    "    env = LeverEnv(N, J)\n",
    "    commNet.supervised_train(X, y, val_X, val_y, env, batch_size = batch_size, epochs = 30)\n",
    "    \n",
    "    #history, q_val = commNet.reinforce_train(env, n_episodes = 5000, T = 7)\n",
    "    \n",
    "    rv = sess.run([commNet.embedded_identities, commNet.layers, commNet.policy_logit_seq, commNet.supervised_loss, commNet.action_seq, commNet.one_hot_action_seq], feed_dict={commNet.inputs: val_X[0:1], commNet.targets: val_y[0:1]})\n"
   ]
  },
  {
   "cell_type": "code",
   "execution_count": 116,
   "metadata": {},
   "outputs": [
    {
     "data": {
      "text/plain": [
       "array([[[-0.2084906 ,  0.02374804, -0.00896381, -0.01363329,\n",
       "         -0.01539735, -0.09960759,  0.00879658,  0.02616302,\n",
       "         -0.03708452,  0.11100191, -0.09006239,  0.12490398,\n",
       "         -0.1830035 , -0.01612187, -0.04865932,  0.11230216,\n",
       "         -0.08000849, -0.01113982,  0.0566847 ,  0.10024989,\n",
       "         -0.08895486,  0.1845117 ,  0.22353396,  0.000383  ,\n",
       "          0.07099406,  0.05801363,  0.18270227, -0.13345873,\n",
       "         -0.10249335,  0.091339  ,  0.03591219, -0.0090279 ,\n",
       "          0.10476949,  0.21619219, -0.03079632,  0.12995882,\n",
       "          0.02130782,  0.03541506,  0.07031996,  0.0742506 ,\n",
       "         -0.00989546, -0.05115569,  0.2525144 ,  0.03887724,\n",
       "         -0.01513926,  0.07744752,  0.05067027,  0.08630602,\n",
       "          0.1428998 ,  0.18778773,  0.07030316,  0.16404508,\n",
       "          0.06847449, -0.09552611,  0.07967106,  0.07937705,\n",
       "          0.07148624,  0.12983364,  0.18970098,  0.05084126,\n",
       "          0.02083551,  0.03974245,  0.01596422,  0.12931432,\n",
       "         -0.07611421, -0.10948015, -0.12645112, -0.00573103,\n",
       "          0.01679063,  0.11084462,  0.03267273,  0.10241105,\n",
       "         -0.18807226,  0.0288927 , -0.18603353, -0.11227547,\n",
       "          0.11250573, -0.0511871 , -0.16811281, -0.02405137,\n",
       "          0.05321699, -0.02141438,  0.08985156, -0.03511745,\n",
       "          0.18500747, -0.1955189 ,  0.31672484,  0.00567367,\n",
       "         -0.12269717, -0.03175944,  0.06751088, -0.15518087,\n",
       "          0.11913785,  0.00957513, -0.01348563,  0.08966962,\n",
       "         -0.06505078,  0.19075452,  0.00047287,  0.07297313,\n",
       "         -0.00958934, -0.0559829 , -0.00991662,  0.142692  ,\n",
       "         -0.02275008, -0.08575479,  0.11847895, -0.03888475,\n",
       "         -0.12294459, -0.1542363 ,  0.0974694 , -0.13079254,\n",
       "          0.0212933 ,  0.25034162, -0.16370606, -0.08648678,\n",
       "          0.05055961,  0.05195569,  0.08292703,  0.0606497 ,\n",
       "         -0.06241499, -0.01480776, -0.01898128,  0.0052125 ,\n",
       "         -0.05770617,  0.01547589,  0.05201918, -0.15901028],\n",
       "        [-0.09334703,  0.18264459, -0.16642658, -0.22508022,\n",
       "          0.11530962,  0.02661268, -0.05241902,  0.04189205,\n",
       "          0.08218632,  0.02742087, -0.11942758, -0.04205844,\n",
       "          0.04208658,  0.05128873,  0.13599229, -0.02515732,\n",
       "         -0.07039018,  0.04163791, -0.02353255, -0.03846696,\n",
       "         -0.00827115, -0.05137191,  0.07199143,  0.18027583,\n",
       "         -0.06236808,  0.11599895,  0.01649319, -0.09714209,\n",
       "         -0.13299826,  0.12573352,  0.1986904 ,  0.06058044,\n",
       "         -0.02468518, -0.2961609 , -0.11319628,  0.11421265,\n",
       "         -0.1615623 ,  0.08222254,  0.12805788, -0.02872822,\n",
       "         -0.21590514,  0.11405498,  0.0190843 ,  0.03972396,\n",
       "          0.04674717, -0.10219922,  0.04569963, -0.09961636,\n",
       "         -0.09117968,  0.09828667, -0.10861041,  0.04854193,\n",
       "          0.02979339,  0.05234957,  0.1093263 , -0.15281507,\n",
       "          0.18031213,  0.05690347,  0.08074414, -0.05016069,\n",
       "          0.03011087,  0.13498034, -0.03421368,  0.0736749 ,\n",
       "         -0.00297773, -0.09577132,  0.03077762, -0.06865143,\n",
       "          0.07196188,  0.00782861, -0.04273438, -0.09936834,\n",
       "          0.06717106,  0.09995603,  0.04516835, -0.03695196,\n",
       "          0.09339865, -0.05463232,  0.07626018, -0.15714483,\n",
       "          0.11216488,  0.03901456, -0.06661868,  0.02378385,\n",
       "         -0.08801124,  0.1344231 ,  0.09358817,  0.08893993,\n",
       "         -0.11892557, -0.08429364,  0.04438588,  0.09954756,\n",
       "          0.06388053, -0.1202413 ,  0.24630593, -0.02331293,\n",
       "          0.18440247,  0.01940775,  0.10110056, -0.09463002,\n",
       "          0.03290942,  0.2325889 ,  0.14860801,  0.27775484,\n",
       "         -0.0084077 ,  0.04023713,  0.14442939,  0.02780803,\n",
       "         -0.08505961,  0.10318571, -0.0238279 ,  0.06100554,\n",
       "          0.16155043, -0.19982333, -0.14251482,  0.05214616,\n",
       "         -0.05389623,  0.01323175, -0.05684365,  0.07277633,\n",
       "          0.01265628, -0.01747661, -0.01337873,  0.10362847,\n",
       "         -0.12673876,  0.08784553,  0.18766318,  0.1188568 ],\n",
       "        [-0.0441438 , -0.1896432 , -0.01664205, -0.03930135,\n",
       "          0.05426251,  0.00138106, -0.26983476, -0.07883658,\n",
       "         -0.04962345,  0.05484027,  0.05415974,  0.02681312,\n",
       "          0.2766195 ,  0.13514912, -0.07797086, -0.02754758,\n",
       "         -0.04748222, -0.19412686,  0.0777026 , -0.01477883,\n",
       "         -0.0876695 ,  0.08731084,  0.00150482,  0.0616963 ,\n",
       "          0.1009246 ,  0.02754289, -0.01804256,  0.09538066,\n",
       "          0.05582025, -0.00440635, -0.05204152,  0.10649554,\n",
       "          0.0926066 , -0.20435691, -0.09606724, -0.02817364,\n",
       "         -0.09152076,  0.21549083,  0.00488742, -0.13941151,\n",
       "          0.08591966, -0.05707562, -0.00407759, -0.14713894,\n",
       "          0.00593617, -0.02487245,  0.0880696 ,  0.03243402,\n",
       "         -0.01012123,  0.04134276, -0.06327004, -0.01693919,\n",
       "         -0.01251877, -0.13090265, -0.05435943, -0.10101449,\n",
       "         -0.06019356,  0.13250135,  0.14533098, -0.08872534,\n",
       "         -0.16839515,  0.08654308, -0.07221092, -0.18378265,\n",
       "         -0.12674308, -0.0500048 ,  0.10094406,  0.0676184 ,\n",
       "          0.21339904,  0.0503186 ,  0.1201437 ,  0.04912698,\n",
       "          0.03353963,  0.07504474, -0.02188422, -0.009526  ,\n",
       "          0.04792968,  0.00733949, -0.0092938 , -0.14682637,\n",
       "          0.176596  ,  0.10980427,  0.08926626, -0.075868  ,\n",
       "         -0.17782384, -0.19754866, -0.0885314 , -0.2171545 ,\n",
       "         -0.06360407, -0.02011576, -0.03629931, -0.07429247,\n",
       "          0.08934244, -0.08856622, -0.05790051, -0.00212317,\n",
       "          0.02685807, -0.0278706 , -0.09497601,  0.18910728,\n",
       "         -0.04559578, -0.02119482,  0.09456058,  0.03341358,\n",
       "         -0.11639379, -0.05970958,  0.08502383, -0.08213787,\n",
       "         -0.22148313,  0.03913617,  0.09070399, -0.1590981 ,\n",
       "         -0.00258983, -0.16859703,  0.11862566, -0.02913824,\n",
       "         -0.08209626, -0.03378675, -0.06741327, -0.00461321,\n",
       "          0.06983412,  0.06378801, -0.05086094, -0.07158846,\n",
       "          0.02975816,  0.14291126,  0.01715067,  0.20317598]]],\n",
       "      dtype=float32)"
      ]
     },
     "execution_count": 116,
     "metadata": {},
     "output_type": "execute_result"
    }
   ],
   "source": [
    "rv[0]"
   ]
  },
  {
   "cell_type": "code",
   "execution_count": 124,
   "metadata": {},
   "outputs": [
    {
     "name": "stdout",
     "output_type": "stream",
     "text": [
      "\n",
      "h0_seq\n",
      "[array([[-0.2084906 ,  0.02374804, -0.00896381, -0.01363329, -0.01539735,\n",
      "        -0.09960759,  0.00879658,  0.02616302, -0.03708452,  0.11100191,\n",
      "        -0.09006239,  0.12490398, -0.1830035 , -0.01612187, -0.04865932,\n",
      "         0.11230216, -0.08000849, -0.01113982,  0.0566847 ,  0.10024989,\n",
      "        -0.08895486,  0.1845117 ,  0.22353396,  0.000383  ,  0.07099406,\n",
      "         0.05801363,  0.18270227, -0.13345873, -0.10249335,  0.091339  ,\n",
      "         0.03591219, -0.0090279 ,  0.10476949,  0.21619219, -0.03079632,\n",
      "         0.12995882,  0.02130782,  0.03541506,  0.07031996,  0.0742506 ,\n",
      "        -0.00989546, -0.05115569,  0.2525144 ,  0.03887724, -0.01513926,\n",
      "         0.07744752,  0.05067027,  0.08630602,  0.1428998 ,  0.18778773,\n",
      "         0.07030316,  0.16404508,  0.06847449, -0.09552611,  0.07967106,\n",
      "         0.07937705,  0.07148624,  0.12983364,  0.18970098,  0.05084126,\n",
      "         0.02083551,  0.03974245,  0.01596422,  0.12931432, -0.07611421,\n",
      "        -0.10948015, -0.12645112, -0.00573103,  0.01679063,  0.11084462,\n",
      "         0.03267273,  0.10241105, -0.18807226,  0.0288927 , -0.18603353,\n",
      "        -0.11227547,  0.11250573, -0.0511871 , -0.16811281, -0.02405137,\n",
      "         0.05321699, -0.02141438,  0.08985156, -0.03511745,  0.18500747,\n",
      "        -0.1955189 ,  0.31672484,  0.00567367, -0.12269717, -0.03175944,\n",
      "         0.06751088, -0.15518087,  0.11913785,  0.00957513, -0.01348563,\n",
      "         0.08966962, -0.06505078,  0.19075452,  0.00047287,  0.07297313,\n",
      "        -0.00958934, -0.0559829 , -0.00991662,  0.142692  , -0.02275008,\n",
      "        -0.08575479,  0.11847895, -0.03888475, -0.12294459, -0.1542363 ,\n",
      "         0.0974694 , -0.13079254,  0.0212933 ,  0.25034162, -0.16370606,\n",
      "        -0.08648678,  0.05055961,  0.05195569,  0.08292703,  0.0606497 ,\n",
      "        -0.06241499, -0.01480776, -0.01898128,  0.0052125 , -0.05770617,\n",
      "         0.01547589,  0.05201918, -0.15901028]], dtype=float32), array([[-0.09334703,  0.18264459, -0.16642658, -0.22508022,  0.11530962,\n",
      "         0.02661268, -0.05241902,  0.04189205,  0.08218632,  0.02742087,\n",
      "        -0.11942758, -0.04205844,  0.04208658,  0.05128873,  0.13599229,\n",
      "        -0.02515732, -0.07039018,  0.04163791, -0.02353255, -0.03846696,\n",
      "        -0.00827115, -0.05137191,  0.07199143,  0.18027583, -0.06236808,\n",
      "         0.11599895,  0.01649319, -0.09714209, -0.13299826,  0.12573352,\n",
      "         0.1986904 ,  0.06058044, -0.02468518, -0.2961609 , -0.11319628,\n",
      "         0.11421265, -0.1615623 ,  0.08222254,  0.12805788, -0.02872822,\n",
      "        -0.21590514,  0.11405498,  0.0190843 ,  0.03972396,  0.04674717,\n",
      "        -0.10219922,  0.04569963, -0.09961636, -0.09117968,  0.09828667,\n",
      "        -0.10861041,  0.04854193,  0.02979339,  0.05234957,  0.1093263 ,\n",
      "        -0.15281507,  0.18031213,  0.05690347,  0.08074414, -0.05016069,\n",
      "         0.03011087,  0.13498034, -0.03421368,  0.0736749 , -0.00297773,\n",
      "        -0.09577132,  0.03077762, -0.06865143,  0.07196188,  0.00782861,\n",
      "        -0.04273438, -0.09936834,  0.06717106,  0.09995603,  0.04516835,\n",
      "        -0.03695196,  0.09339865, -0.05463232,  0.07626018, -0.15714483,\n",
      "         0.11216488,  0.03901456, -0.06661868,  0.02378385, -0.08801124,\n",
      "         0.1344231 ,  0.09358817,  0.08893993, -0.11892557, -0.08429364,\n",
      "         0.04438588,  0.09954756,  0.06388053, -0.1202413 ,  0.24630593,\n",
      "        -0.02331293,  0.18440247,  0.01940775,  0.10110056, -0.09463002,\n",
      "         0.03290942,  0.2325889 ,  0.14860801,  0.27775484, -0.0084077 ,\n",
      "         0.04023713,  0.14442939,  0.02780803, -0.08505961,  0.10318571,\n",
      "        -0.0238279 ,  0.06100554,  0.16155043, -0.19982333, -0.14251482,\n",
      "         0.05214616, -0.05389623,  0.01323175, -0.05684365,  0.07277633,\n",
      "         0.01265628, -0.01747661, -0.01337873,  0.10362847, -0.12673876,\n",
      "         0.08784553,  0.18766318,  0.1188568 ]], dtype=float32), array([[-0.0441438 , -0.1896432 , -0.01664205, -0.03930135,  0.05426251,\n",
      "         0.00138106, -0.26983476, -0.07883658, -0.04962345,  0.05484027,\n",
      "         0.05415974,  0.02681312,  0.2766195 ,  0.13514912, -0.07797086,\n",
      "        -0.02754758, -0.04748222, -0.19412686,  0.0777026 , -0.01477883,\n",
      "        -0.0876695 ,  0.08731084,  0.00150482,  0.0616963 ,  0.1009246 ,\n",
      "         0.02754289, -0.01804256,  0.09538066,  0.05582025, -0.00440635,\n",
      "        -0.05204152,  0.10649554,  0.0926066 , -0.20435691, -0.09606724,\n",
      "        -0.02817364, -0.09152076,  0.21549083,  0.00488742, -0.13941151,\n",
      "         0.08591966, -0.05707562, -0.00407759, -0.14713894,  0.00593617,\n",
      "        -0.02487245,  0.0880696 ,  0.03243402, -0.01012123,  0.04134276,\n",
      "        -0.06327004, -0.01693919, -0.01251877, -0.13090265, -0.05435943,\n",
      "        -0.10101449, -0.06019356,  0.13250135,  0.14533098, -0.08872534,\n",
      "        -0.16839515,  0.08654308, -0.07221092, -0.18378265, -0.12674308,\n",
      "        -0.0500048 ,  0.10094406,  0.0676184 ,  0.21339904,  0.0503186 ,\n",
      "         0.1201437 ,  0.04912698,  0.03353963,  0.07504474, -0.02188422,\n",
      "        -0.009526  ,  0.04792968,  0.00733949, -0.0092938 , -0.14682637,\n",
      "         0.176596  ,  0.10980427,  0.08926626, -0.075868  , -0.17782384,\n",
      "        -0.19754866, -0.0885314 , -0.2171545 , -0.06360407, -0.02011576,\n",
      "        -0.03629931, -0.07429247,  0.08934244, -0.08856622, -0.05790051,\n",
      "        -0.00212317,  0.02685807, -0.0278706 , -0.09497601,  0.18910728,\n",
      "        -0.04559578, -0.02119482,  0.09456058,  0.03341358, -0.11639379,\n",
      "        -0.05970958,  0.08502383, -0.08213787, -0.22148313,  0.03913617,\n",
      "         0.09070399, -0.1590981 , -0.00258983, -0.16859703,  0.11862566,\n",
      "        -0.02913824, -0.08209626, -0.03378675, -0.06741327, -0.00461321,\n",
      "         0.06983412,  0.06378801, -0.05086094, -0.07158846,  0.02975816,\n",
      "         0.14291126,  0.01715067,  0.20317598]], dtype=float32)]\n",
      "\n",
      "c0_seq\n",
      "[array([[-0.06874541, -0.00349931, -0.09153432, -0.13219078,  0.08478606,\n",
      "         0.01399687, -0.16112688, -0.01847227,  0.01628144,  0.04113057,\n",
      "        -0.03263392, -0.00762266,  0.15935303,  0.09321892,  0.02901071,\n",
      "        -0.02635245, -0.0589362 , -0.07624447,  0.02708503, -0.02662289,\n",
      "        -0.04797032,  0.01796946,  0.03674812,  0.12098606,  0.01927826,\n",
      "         0.07177092, -0.00077469, -0.00088071, -0.03858901,  0.06066359,\n",
      "         0.07332444,  0.08353799,  0.03396071, -0.25025892, -0.10463177,\n",
      "         0.04301951, -0.12654153,  0.14885668,  0.06647265, -0.08406986,\n",
      "        -0.06499274,  0.02848968,  0.00750336, -0.05370749,  0.02634167,\n",
      "        -0.06353583,  0.06688461, -0.03359117, -0.05065045,  0.06981471,\n",
      "        -0.08594023,  0.01580137,  0.00863731, -0.03927654,  0.02748343,\n",
      "        -0.12691478,  0.06005928,  0.09470241,  0.11303756, -0.06944301,\n",
      "        -0.06914214,  0.11076171, -0.0532123 , -0.05505387, -0.0648604 ,\n",
      "        -0.07288806,  0.06586084, -0.00051652,  0.14268047,  0.02907361,\n",
      "         0.03870466, -0.02512068,  0.05035535,  0.08750038,  0.01164207,\n",
      "        -0.02323898,  0.07066417, -0.02364641,  0.03348319, -0.1519856 ,\n",
      "         0.14438044,  0.07440941,  0.01132379, -0.02604207, -0.13291754,\n",
      "        -0.03156278,  0.00252838, -0.06410728, -0.09126482, -0.0522047 ,\n",
      "         0.00404328,  0.01262755,  0.07661148, -0.10440376,  0.09420271,\n",
      "        -0.01271805,  0.10563026, -0.00423142,  0.00306227,  0.04723863,\n",
      "        -0.00634318,  0.10569704,  0.1215843 ,  0.15558422, -0.06240074,\n",
      "        -0.00973623,  0.1147266 , -0.02716492, -0.15327136,  0.07116094,\n",
      "         0.03343805, -0.04904628,  0.0794803 , -0.18421018, -0.01194458,\n",
      "         0.01150396, -0.06799624, -0.0102775 , -0.06212846,  0.03408156,\n",
      "         0.0412452 ,  0.0231557 , -0.03211983,  0.01602001, -0.0484903 ,\n",
      "         0.11537839,  0.10240693,  0.16101639]], dtype=float32), array([[-0.1263172 , -0.08294758, -0.01280293, -0.02646732,  0.01943258,\n",
      "        -0.04911326, -0.13051909, -0.02633678, -0.04335398,  0.08292109,\n",
      "        -0.01795133,  0.07585855,  0.046808  ,  0.05951362, -0.06331509,\n",
      "         0.04237729, -0.06374536, -0.10263334,  0.06719366,  0.04273554,\n",
      "        -0.08831218,  0.13591127,  0.11251939,  0.03103965,  0.08595933,\n",
      "         0.04277826,  0.08232985, -0.01903903, -0.02333655,  0.04346633,\n",
      "        -0.00806467,  0.04873382,  0.09868804,  0.00591764, -0.06343178,\n",
      "         0.05089259, -0.03510647,  0.12545295,  0.03760369, -0.03258045,\n",
      "         0.0380121 , -0.05411565,  0.1242184 , -0.05413085, -0.00460154,\n",
      "         0.02628754,  0.06936993,  0.05937002,  0.06638929,  0.11456525,\n",
      "         0.00351656,  0.07355294,  0.02797786, -0.11321437,  0.01265582,\n",
      "        -0.01081872,  0.00564634,  0.1311675 ,  0.16751598, -0.01894204,\n",
      "        -0.07377982,  0.06314276, -0.02812335, -0.02723417, -0.10142864,\n",
      "        -0.07974248, -0.01275353,  0.03094369,  0.11509483,  0.08058161,\n",
      "         0.07640821,  0.07576901, -0.07726631,  0.05196872, -0.10395887,\n",
      "        -0.06090074,  0.0802177 , -0.0219238 , -0.08870331, -0.08543887,\n",
      "         0.1149065 ,  0.04419495,  0.08955891, -0.05549273,  0.00359181,\n",
      "        -0.19653377,  0.11409672, -0.10574041, -0.09315062, -0.0259376 ,\n",
      "         0.01560578, -0.11473667,  0.10424015, -0.03949554, -0.03569307,\n",
      "         0.04377322, -0.01909636,  0.08144196, -0.04725157,  0.13104022,\n",
      "        -0.02759256, -0.03858886,  0.04232198,  0.08805279, -0.06957193,\n",
      "        -0.07273218,  0.10175139, -0.06051131, -0.17221385, -0.05755007,\n",
      "         0.0940867 , -0.14494532,  0.00935173,  0.0408723 , -0.0225402 ,\n",
      "        -0.05781251, -0.01576832,  0.00908447,  0.00775688,  0.02801825,\n",
      "         0.00370956,  0.02449013, -0.03492111, -0.03318798, -0.01397401,\n",
      "         0.07919358,  0.03458492,  0.02208285]], dtype=float32), array([[-0.15091881,  0.10319632, -0.0876952 , -0.11935675,  0.04995613,\n",
      "        -0.03649745, -0.02181122,  0.03402754,  0.0225509 ,  0.06921139,\n",
      "        -0.10474499,  0.04142277, -0.07045846,  0.01758343,  0.04366648,\n",
      "         0.04357242, -0.07519934,  0.01524904,  0.01657608,  0.03089147,\n",
      "        -0.048613  ,  0.06656989,  0.14776269,  0.09032942,  0.00431299,\n",
      "         0.08700629,  0.09959773, -0.11530042, -0.1177458 ,  0.10853626,\n",
      "         0.11730129,  0.02577627,  0.04004215, -0.03998436, -0.0719963 ,\n",
      "         0.12208574, -0.07012723,  0.0588188 ,  0.09918892,  0.02276119,\n",
      "        -0.1129003 ,  0.03144965,  0.13579935,  0.0393006 ,  0.01580396,\n",
      "        -0.01237585,  0.04818495, -0.00665517,  0.02586006,  0.1430372 ,\n",
      "        -0.01915362,  0.10629351,  0.04913394, -0.02158827,  0.09449868,\n",
      "        -0.03671901,  0.12589918,  0.09336856,  0.13522255,  0.00034029,\n",
      "         0.02547319,  0.0873614 , -0.00912473,  0.10149461, -0.03954597,\n",
      "        -0.10262574, -0.04783675, -0.03719123,  0.04437626,  0.05933662,\n",
      "        -0.00503083,  0.00152136, -0.0604506 ,  0.06442437, -0.07043259,\n",
      "        -0.07461372,  0.10295219, -0.05290971, -0.04592632, -0.0905981 ,\n",
      "         0.08269094,  0.00880009,  0.01161644, -0.0056668 ,  0.04849811,\n",
      "        -0.03054789,  0.2051565 ,  0.0473068 , -0.12081137, -0.05802654,\n",
      "         0.05594838, -0.02781666,  0.09150919, -0.05533309,  0.11641015,\n",
      "         0.03317834,  0.05967584,  0.10508113,  0.05078671, -0.01082844,\n",
      "         0.01166004,  0.088303  ,  0.0693457 ,  0.21022342, -0.01557889,\n",
      "        -0.02275883,  0.13145417, -0.00553836, -0.1040021 , -0.02552529,\n",
      "         0.03682075, -0.0348935 ,  0.09142186,  0.02525914, -0.15311044,\n",
      "        -0.01717031, -0.00166831,  0.03259372,  0.01304169,  0.06671302,\n",
      "        -0.02487936, -0.01614219, -0.01618   ,  0.05442049, -0.09222247,\n"
     ]
    },
    {
     "name": "stdout",
     "output_type": "stream",
     "text": [
      "         0.05166071,  0.11984118, -0.02007674]], dtype=float32)]\n",
      "\n",
      "h1_seq\n",
      "[array([[0.        , 0.6125327 , 0.06860468, 0.01899664, 0.        ,\n",
      "        0.        , 0.        , 0.28293478, 0.        , 0.        ,\n",
      "        0.        , 0.        , 0.        , 0.        , 0.        ,\n",
      "        0.        , 0.        , 0.        , 0.        , 0.        ,\n",
      "        0.        , 0.        , 0.        , 0.5098363 , 0.        ,\n",
      "        0.        , 0.02267392, 0.        , 0.        , 0.6906497 ,\n",
      "        0.        , 0.5174747 , 0.        , 0.        , 0.        ,\n",
      "        0.        , 0.        , 0.        , 0.        , 0.        ,\n",
      "        0.        , 0.        , 0.        , 0.        , 0.        ,\n",
      "        0.        , 0.        , 0.        , 0.10795878, 0.        ,\n",
      "        0.        , 0.        , 0.39895058, 0.        , 0.        ,\n",
      "        0.        , 0.00454222, 0.        , 0.        , 0.        ,\n",
      "        0.        , 0.        , 0.        , 0.        , 0.        ,\n",
      "        0.10060106, 0.        , 0.        , 0.        , 0.45736012,\n",
      "        0.        , 0.3458023 , 0.        , 0.0824839 , 0.        ,\n",
      "        0.        , 0.        , 0.        , 0.        , 0.        ,\n",
      "        0.15084873, 0.        , 0.        , 0.02437638, 0.        ,\n",
      "        0.        , 0.10967335, 0.        , 0.        , 0.        ,\n",
      "        0.        , 0.        , 0.        , 0.00918254, 0.        ,\n",
      "        0.        , 0.13239771, 0.        , 0.        , 0.        ,\n",
      "        0.        , 0.        , 0.        , 0.        , 0.00794848,\n",
      "        0.        , 0.        , 0.        , 0.        , 0.        ,\n",
      "        0.        , 0.        , 0.        , 0.        , 0.        ,\n",
      "        0.        , 0.        , 0.        , 0.        , 0.        ,\n",
      "        0.        , 0.3717521 , 0.16711356, 0.        , 0.        ,\n",
      "        0.        , 0.        , 0.36846814]], dtype=float32), array([[0.        , 0.43022716, 0.00690717, 0.282486  , 0.        ,\n",
      "        0.20367509, 0.        , 0.        , 0.        , 0.        ,\n",
      "        0.        , 0.        , 0.        , 0.        , 0.        ,\n",
      "        0.        , 0.        , 0.        , 0.        , 0.        ,\n",
      "        0.        , 0.        , 0.        , 0.45559716, 0.        ,\n",
      "        0.        , 0.19169872, 0.        , 0.        , 2.0244074 ,\n",
      "        0.31785727, 0.5338831 , 0.        , 0.03168319, 0.        ,\n",
      "        0.540628  , 0.        , 0.        , 0.        , 0.        ,\n",
      "        0.        , 0.        , 0.        , 0.84059805, 0.16148694,\n",
      "        0.        , 0.        , 0.        , 0.46846235, 0.03152142,\n",
      "        0.        , 0.        , 1.6184437 , 0.        , 0.        ,\n",
      "        0.        , 0.        , 0.33384284, 0.        , 0.        ,\n",
      "        0.36821824, 0.        , 0.        , 0.        , 0.        ,\n",
      "        0.22915564, 0.        , 0.        , 0.        , 0.11625388,\n",
      "        0.        , 0.9297875 , 0.        , 0.23059589, 0.        ,\n",
      "        0.        , 0.        , 0.        , 0.        , 0.        ,\n",
      "        0.        , 0.        , 0.        , 0.75849175, 0.        ,\n",
      "        0.6972255 , 0.        , 0.        , 0.3831131 , 0.        ,\n",
      "        0.59099054, 0.35641503, 0.21549618, 0.11053593, 0.        ,\n",
      "        0.24559838, 0.        , 0.        , 0.042026  , 0.        ,\n",
      "        0.        , 0.        , 0.        , 0.        , 0.54494655,\n",
      "        0.        , 0.        , 0.        , 0.        , 0.        ,\n",
      "        0.        , 0.        , 0.        , 0.        , 0.        ,\n",
      "        0.        , 0.        , 0.        , 0.        , 0.        ,\n",
      "        0.        , 0.58529294, 0.34261367, 0.        , 0.1651284 ,\n",
      "        0.        , 0.12528613, 0.07453927]], dtype=float32), array([[0.        , 2.236722  , 0.        , 0.        , 0.        ,\n",
      "        0.        , 0.01202643, 0.09058654, 0.45162296, 0.        ,\n",
      "        0.        , 0.52157056, 0.        , 0.        , 0.14248975,\n",
      "        0.078396  , 0.        , 0.        , 0.        , 0.23192182,\n",
      "        0.        , 0.        , 0.        , 0.        , 0.        ,\n",
      "        0.        , 0.07536666, 0.2688207 , 0.        , 0.        ,\n",
      "        0.10054914, 0.49156117, 0.        , 0.        , 0.        ,\n",
      "        0.        , 0.        , 0.09215884, 0.2517092 , 0.        ,\n",
      "        0.        , 0.        , 0.        , 0.        , 0.        ,\n",
      "        0.28947097, 0.        , 0.        , 0.        , 0.        ,\n",
      "        0.        , 0.        , 0.        , 0.        , 0.        ,\n",
      "        0.        , 0.        , 0.        , 0.8721273 , 0.25517142,\n",
      "        0.        , 0.        , 0.26061544, 0.        , 0.        ,\n",
      "        0.        , 0.        , 1.1074009 , 0.        , 0.        ,\n",
      "        0.33831766, 0.        , 0.        , 0.25474358, 0.        ,\n",
      "        0.        , 0.        , 0.        , 0.        , 0.        ,\n",
      "        0.        , 0.11538094, 0.05875576, 0.        , 0.        ,\n",
      "        0.        , 0.        , 0.17448905, 0.        , 0.        ,\n",
      "        0.        , 0.        , 0.        , 0.57416993, 0.        ,\n",
      "        0.6396467 , 0.        , 0.44321218, 0.        , 0.        ,\n",
      "        0.        , 0.        , 0.3372341 , 0.        , 0.        ,\n",
      "        0.21433133, 0.        , 0.        , 0.        , 0.        ,\n",
      "        0.2491442 , 0.        , 0.        , 0.        , 0.18823922,\n",
      "        0.03584078, 0.        , 0.        , 0.        , 0.        ,\n",
      "        0.        , 0.        , 0.        , 0.13677236, 0.3699081 ,\n",
      "        0.        , 0.        , 0.        ]], dtype=float32)]\n",
      "\n",
      "c1_seq\n",
      "[array([[0.        , 1.3334746 , 0.00345358, 0.141243  , 0.        ,\n",
      "        0.10183755, 0.00601321, 0.04529327, 0.22581148, 0.        ,\n",
      "        0.        , 0.26078528, 0.        , 0.        , 0.07124487,\n",
      "        0.039198  , 0.        , 0.        , 0.        , 0.11596091,\n",
      "        0.        , 0.        , 0.        , 0.22779858, 0.        ,\n",
      "        0.        , 0.13353269, 0.13441035, 0.        , 1.0122037 ,\n",
      "        0.2092032 , 0.51272213, 0.        , 0.0158416 , 0.        ,\n",
      "        0.270314  , 0.        , 0.04607942, 0.1258546 , 0.        ,\n",
      "        0.        , 0.        , 0.        , 0.42029902, 0.08074347,\n",
      "        0.14473549, 0.        , 0.        , 0.23423117, 0.01576071,\n",
      "        0.        , 0.        , 0.80922186, 0.        , 0.        ,\n",
      "        0.        , 0.        , 0.16692142, 0.43606365, 0.12758571,\n",
      "        0.18410912, 0.        , 0.13030772, 0.        , 0.        ,\n",
      "        0.11457782, 0.        , 0.55370045, 0.        , 0.05812694,\n",
      "        0.16915883, 0.46489376, 0.        , 0.24266973, 0.        ,\n",
      "        0.        , 0.        , 0.        , 0.        , 0.        ,\n",
      "        0.        , 0.05769047, 0.02937788, 0.37924588, 0.        ,\n",
      "        0.34861276, 0.        , 0.08724453, 0.19155654, 0.        ,\n",
      "        0.29549527, 0.17820752, 0.10774809, 0.34235293, 0.        ,\n",
      "        0.44262254, 0.        , 0.22160609, 0.021013  , 0.        ,\n",
      "        0.        , 0.        , 0.16861705, 0.        , 0.27247328,\n",
      "        0.10716566, 0.        , 0.        , 0.        , 0.        ,\n",
      "        0.1245721 , 0.        , 0.        , 0.        , 0.09411961,\n",
      "        0.01792039, 0.        , 0.        , 0.        , 0.        ,\n",
      "        0.        , 0.29264647, 0.17130683, 0.06838618, 0.26751825,\n",
      "        0.        , 0.06264307, 0.03726964]], dtype=float32), array([[0.        , 1.4246273 , 0.03430234, 0.00949832, 0.        ,\n",
      "        0.        , 0.00601321, 0.18676066, 0.22581148, 0.        ,\n",
      "        0.        , 0.26078528, 0.        , 0.        , 0.07124487,\n",
      "        0.039198  , 0.        , 0.        , 0.        , 0.11596091,\n",
      "        0.        , 0.        , 0.        , 0.25491816, 0.        ,\n",
      "        0.        , 0.04902029, 0.13441035, 0.        , 0.34532484,\n",
      "        0.05027457, 0.5045179 , 0.        , 0.        , 0.        ,\n",
      "        0.        , 0.        , 0.04607942, 0.1258546 , 0.        ,\n",
      "        0.        , 0.        , 0.        , 0.        , 0.        ,\n",
      "        0.14473549, 0.        , 0.        , 0.05397939, 0.        ,\n",
      "        0.        , 0.        , 0.19947529, 0.        , 0.        ,\n",
      "        0.        , 0.00227111, 0.        , 0.43606365, 0.12758571,\n",
      "        0.        , 0.        , 0.13030772, 0.        , 0.        ,\n",
      "        0.05030053, 0.        , 0.55370045, 0.        , 0.22868006,\n",
      "        0.16915883, 0.17290115, 0.        , 0.16861373, 0.        ,\n",
      "        0.        , 0.        , 0.        , 0.        , 0.        ,\n",
      "        0.07542437, 0.05769047, 0.02937788, 0.01218819, 0.        ,\n",
      "        0.        , 0.05483668, 0.08724453, 0.        , 0.        ,\n",
      "        0.        , 0.        , 0.        , 0.29167622, 0.        ,\n",
      "        0.31982335, 0.06619886, 0.22160609, 0.        , 0.        ,\n",
      "        0.        , 0.        , 0.16861705, 0.        , 0.00397424,\n",
      "        0.10716566, 0.        , 0.        , 0.        , 0.        ,\n",
      "        0.1245721 , 0.        , 0.        , 0.        , 0.09411961,\n",
      "        0.01792039, 0.        , 0.        , 0.        , 0.        ,\n",
      "        0.        , 0.18587606, 0.08355678, 0.06838618, 0.18495405,\n",
      "        0.        , 0.        , 0.18423407]], dtype=float32), array([[0.        , 0.52137995, 0.03775592, 0.15074132, 0.        ,\n",
      "        0.10183755, 0.        , 0.14146739, 0.        , 0.        ,\n",
      "        0.        , 0.        , 0.        , 0.        , 0.        ,\n",
      "        0.        , 0.        , 0.        , 0.        , 0.        ,\n",
      "        0.        , 0.        , 0.        , 0.48271674, 0.        ,\n",
      "        0.        , 0.10718632, 0.        , 0.        , 1.3575286 ,\n",
      "        0.15892863, 0.5256789 , 0.        , 0.0158416 , 0.        ,\n",
      "        0.270314  , 0.        , 0.        , 0.        , 0.        ,\n",
      "        0.        , 0.        , 0.        , 0.42029902, 0.08074347,\n",
      "        0.        , 0.        , 0.        , 0.28821057, 0.01576071,\n",
      "        0.        , 0.        , 1.0086972 , 0.        , 0.        ,\n",
      "        0.        , 0.00227111, 0.16692142, 0.        , 0.        ,\n",
      "        0.18410912, 0.        , 0.        , 0.        , 0.        ,\n",
      "        0.16487835, 0.        , 0.        , 0.        , 0.286807  ,\n",
      "        0.        , 0.6377949 , 0.        , 0.15653989, 0.        ,\n",
      "        0.        , 0.        , 0.        , 0.        , 0.        ,\n",
      "        0.07542437, 0.        , 0.        , 0.39143407, 0.        ,\n",
      "        0.34861276, 0.05483668, 0.        , 0.19155654, 0.        ,\n",
      "        0.29549527, 0.17820752, 0.10774809, 0.05985924, 0.        ,\n",
      "        0.12279919, 0.06619886, 0.        , 0.021013  , 0.        ,\n",
      "        0.        , 0.        , 0.        , 0.        , 0.2764475 ,\n",
      "        0.        , 0.        , 0.        , 0.        , 0.        ,\n",
      "        0.        , 0.        , 0.        , 0.        , 0.        ,\n",
      "        0.        , 0.        , 0.        , 0.        , 0.        ,\n",
      "        0.        , 0.47852254, 0.25486362, 0.        , 0.0825642 ,\n"
     ]
    },
    {
     "name": "stdout",
     "output_type": "stream",
     "text": [
      "        0.        , 0.06264307, 0.2215037 ]], dtype=float32)]\n",
      "\n",
      "h2_seq\n",
      "[array([[2.3113449 , 0.        , 0.        , 0.53008044, 0.        ,\n",
      "        0.        , 0.        , 0.        , 0.        , 0.        ,\n",
      "        3.842878  , 0.3507939 , 0.        , 1.6253008 , 0.        ,\n",
      "        0.        , 0.        , 0.        , 0.        , 2.0973408 ,\n",
      "        0.        , 0.        , 0.        , 0.        , 1.2628742 ,\n",
      "        0.        , 0.        , 0.        , 0.6609036 , 0.        ,\n",
      "        0.        , 4.836417  , 0.        , 3.2073948 , 0.        ,\n",
      "        0.        , 0.        , 1.5880854 , 0.        , 0.70575255,\n",
      "        0.35698032, 0.        , 0.        , 0.68910795, 0.        ,\n",
      "        0.        , 0.        , 0.        , 0.        , 0.25589725,\n",
      "        0.        , 0.        , 0.        , 0.        , 0.        ,\n",
      "        2.9065537 , 0.        , 0.        , 2.5989685 , 0.        ,\n",
      "        0.94587994, 0.        , 0.        , 0.        , 4.037211  ,\n",
      "        0.        , 0.        , 0.        , 0.        , 0.        ,\n",
      "        0.        , 0.        , 0.        , 0.        , 2.2829797 ,\n",
      "        0.        , 0.6005496 , 0.        , 0.        , 0.        ,\n",
      "        3.1997838 , 0.        , 0.82087517, 0.        , 2.610905  ,\n",
      "        0.        , 0.        , 0.        , 0.        , 0.        ,\n",
      "        0.        , 0.        , 0.        , 0.        , 1.431276  ,\n",
      "        0.        , 0.3978855 , 0.        , 0.        , 0.        ,\n",
      "        0.        , 0.        , 0.        , 0.15990964, 3.9354095 ,\n",
      "        0.01318225, 0.        , 3.60462   , 0.92695457, 0.        ,\n",
      "        0.52151734, 1.3614144 , 0.        , 4.2901874 , 0.        ,\n",
      "        0.        , 0.        , 3.655147  , 0.        , 0.        ,\n",
      "        1.8624233 , 0.        , 0.        , 0.        , 0.        ,\n",
      "        0.        , 0.        , 0.        ]], dtype=float32), array([[0.        , 0.        , 1.2691165 , 3.1807508 , 0.        ,\n",
      "        0.        , 0.        , 0.        , 0.        , 0.        ,\n",
      "        2.1565914 , 0.        , 0.        , 4.286104  , 0.        ,\n",
      "        0.        , 0.        , 0.9562784 , 0.        , 0.        ,\n",
      "        0.        , 0.        , 0.        , 0.        , 0.9717994 ,\n",
      "        0.        , 0.        , 0.        , 0.        , 3.677414  ,\n",
      "        0.        , 0.        , 4.8293967 , 1.956709  , 0.5810663 ,\n",
      "        0.        , 0.        , 0.        , 0.        , 0.5862014 ,\n",
      "        0.        , 0.        , 0.        , 0.6885665 , 0.        ,\n",
      "        0.        , 0.        , 0.        , 0.        , 1.5506538 ,\n",
      "        3.488751  , 1.642437  , 2.0632746 , 0.        , 2.244714  ,\n",
      "        0.        , 0.        , 0.        , 0.        , 0.        ,\n",
      "        0.        , 0.        , 1.1783223 , 1.7256978 , 0.        ,\n",
      "        0.        , 2.2178752 , 0.        , 0.        , 0.        ,\n",
      "        3.7234178 , 0.        , 0.        , 0.        , 1.1012315 ,\n",
      "        4.1485767 , 1.0894234 , 0.        , 0.        , 0.        ,\n",
      "        0.        , 0.        , 0.        , 0.        , 0.        ,\n",
      "        0.        , 0.        , 0.05399598, 0.        , 0.        ,\n",
      "        0.        , 0.        , 1.3490471 , 0.        , 0.        ,\n",
      "        0.        , 1.83864   , 0.        , 0.03452185, 0.        ,\n",
      "        0.        , 0.        , 3.6739104 , 1.8692641 , 0.        ,\n",
      "        0.        , 0.        , 0.        , 0.        , 0.        ,\n",
      "        0.10801472, 2.7617757 , 0.21947822, 2.8584533 , 0.        ,\n",
      "        0.        , 2.996312  , 0.        , 0.        , 0.        ,\n",
      "        3.329123  , 1.1840614 , 0.        , 0.        , 0.        ,\n",
      "        0.        , 0.        , 0.19225548]], dtype=float32), array([[5.996806  , 0.        , 0.        , 0.        , 0.        ,\n",
      "        0.        , 0.        , 1.9402192 , 0.        , 0.        ,\n",
      "        0.        , 2.1930099 , 0.        , 0.        , 0.        ,\n",
      "        0.        , 0.        , 0.        , 0.        , 6.981941  ,\n",
      "        0.53704226, 0.        , 0.        , 0.        , 2.7039835 ,\n",
      "        1.5651711 , 0.        , 0.        , 0.3919107 , 0.        ,\n",
      "        0.        , 2.7717042 , 0.        , 6.9923663 , 0.        ,\n",
      "        3.4206388 , 0.        , 4.4643373 , 0.        , 0.        ,\n",
      "        0.        , 0.        , 0.        , 3.4729173 , 0.        ,\n",
      "        0.        , 0.56125194, 0.        , 0.        , 0.        ,\n",
      "        0.        , 0.        , 0.        , 0.6047182 , 0.        ,\n",
      "        2.5767899 , 1.5320673 , 0.        , 0.        , 2.530911  ,\n",
      "        2.1838694 , 0.        , 0.        , 0.        , 5.946007  ,\n",
      "        0.        , 0.        , 0.        , 0.33338153, 0.        ,\n",
      "        0.        , 4.4578295 , 2.5142174 , 2.056808  , 4.470573  ,\n",
      "        0.        , 0.        , 0.        , 0.        , 1.6823927 ,\n",
      "        4.8941536 , 3.5338259 , 2.0059848 , 0.        , 4.1690216 ,\n",
      "        0.        , 0.        , 0.        , 0.        , 0.        ,\n",
      "        0.        , 0.        , 0.        , 0.8414374 , 5.4706817 ,\n",
      "        2.3721104 , 0.        , 1.0092497 , 0.        , 0.        ,\n",
      "        2.0938287 , 1.8350728 , 0.        , 0.        , 0.        ,\n",
      "        0.        , 0.        , 0.        , 0.        , 0.        ,\n",
      "        8.227183  , 0.        , 0.15014514, 0.        , 0.22018749,\n",
      "        0.        , 0.        , 0.        , 0.        , 0.03993803,\n",
      "        0.        , 0.        , 0.        , 3.3955371 , 0.        ,\n",
      "        0.        , 0.        , 0.        ]], dtype=float32)]\n"
     ]
    }
   ],
   "source": [
    "for k,v in rv[1].items():\n",
    "    print()\n",
    "    print(k)\n",
    "    print(v)"
   ]
  },
  {
   "cell_type": "code",
   "execution_count": 125,
   "metadata": {},
   "outputs": [
    {
     "name": "stdout",
     "output_type": "stream",
     "text": [
      "[[309 398 193]]\n",
      "[[2 0 1]]\n",
      "[array([[-11.986955,   2.68754 , -12.87569 ]], dtype=float32), array([[-20.87973   , -14.591713  ,   0.43009904]], dtype=float32), array([[  6.545301,  -9.575035, -17.306194]], dtype=float32)]\n"
     ]
    }
   ],
   "source": [
    "print(val_X[0:1])\n",
    "print(val_y[0:1])\n",
    "print(rv[2])"
   ]
  },
  {
   "cell_type": "code",
   "execution_count": 131,
   "metadata": {},
   "outputs": [
    {
     "name": "stdout",
     "output_type": "stream",
     "text": [
      "[4.2359187e-07 9.9999934e-01 1.7417049e-07]\n",
      "[5.5623539e-10 2.9930214e-07 9.9999970e-01]\n",
      "[9.9999994e-01 9.9776194e-08 4.3795266e-11]\n"
     ]
    }
   ],
   "source": [
    "for x in rv[2]:\n",
    "    for xx in x:\n",
    "        print(np.exp(xx)/np.sum(np.exp(x)))"
   ]
  },
  {
   "cell_type": "code",
   "execution_count": 127,
   "metadata": {},
   "outputs": [
    {
     "data": {
      "text/plain": [
       "17.664467"
      ]
     },
     "execution_count": 127,
     "metadata": {},
     "output_type": "execute_result"
    }
   ],
   "source": [
    "rv[3]"
   ]
  },
  {
   "cell_type": "code",
   "execution_count": 128,
   "metadata": {},
   "outputs": [
    {
     "data": {
      "text/plain": [
       "[array([[1]], dtype=int64),\n",
       " array([[2]], dtype=int64),\n",
       " array([[0]], dtype=int64)]"
      ]
     },
     "execution_count": 128,
     "metadata": {},
     "output_type": "execute_result"
    }
   ],
   "source": [
    "rv[4]"
   ]
  },
  {
   "cell_type": "code",
   "execution_count": 129,
   "metadata": {},
   "outputs": [
    {
     "data": {
      "text/plain": [
       "[array([[[0., 1., 0.]]], dtype=float32),\n",
       " array([[[0., 0., 1.]]], dtype=float32),\n",
       " array([[[1., 0., 0.]]], dtype=float32)]"
      ]
     },
     "execution_count": 129,
     "metadata": {},
     "output_type": "execute_result"
    }
   ],
   "source": [
    "rv[5]"
   ]
  },
  {
   "cell_type": "code",
   "execution_count": 130,
   "metadata": {
    "scrolled": true
   },
   "outputs": [
    {
     "ename": "NameError",
     "evalue": "name 'history' is not defined",
     "output_type": "error",
     "traceback": [
      "\u001b[1;31m---------------------------------------------------------------------------\u001b[0m",
      "\u001b[1;31mNameError\u001b[0m                                 Traceback (most recent call last)",
      "\u001b[1;32m<ipython-input-130-e48b0a1c6145>\u001b[0m in \u001b[0;36m<module>\u001b[1;34m()\u001b[0m\n\u001b[1;32m----> 1\u001b[1;33m \u001b[0mplt\u001b[0m\u001b[1;33m.\u001b[0m\u001b[0mplot\u001b[0m\u001b[1;33m(\u001b[0m\u001b[0mhistory\u001b[0m\u001b[1;33m[\u001b[0m\u001b[1;34m'reward'\u001b[0m\u001b[1;33m]\u001b[0m\u001b[1;33m,\u001b[0m \u001b[1;34m'*'\u001b[0m\u001b[1;33m)\u001b[0m\u001b[1;33m\u001b[0m\u001b[0m\n\u001b[0m\u001b[0;32m      2\u001b[0m \u001b[0mplt\u001b[0m\u001b[1;33m.\u001b[0m\u001b[0mshow\u001b[0m\u001b[1;33m(\u001b[0m\u001b[1;33m)\u001b[0m\u001b[1;33m\u001b[0m\u001b[0m\n\u001b[0;32m      3\u001b[0m \u001b[0mplt\u001b[0m\u001b[1;33m.\u001b[0m\u001b[0mplot\u001b[0m\u001b[1;33m(\u001b[0m\u001b[0mhistory\u001b[0m\u001b[1;33m[\u001b[0m\u001b[1;34m'loss'\u001b[0m\u001b[1;33m]\u001b[0m\u001b[1;33m,\u001b[0m \u001b[1;34m'*'\u001b[0m\u001b[1;33m)\u001b[0m\u001b[1;33m\u001b[0m\u001b[0m\n\u001b[0;32m      4\u001b[0m \u001b[0mplt\u001b[0m\u001b[1;33m.\u001b[0m\u001b[0mshow\u001b[0m\u001b[1;33m(\u001b[0m\u001b[1;33m)\u001b[0m\u001b[1;33m\u001b[0m\u001b[0m\n",
      "\u001b[1;31mNameError\u001b[0m: name 'history' is not defined"
     ]
    }
   ],
   "source": [
    "plt.plot(history['reward'], '*')\n",
    "plt.show()\n",
    "plt.plot(history['loss'], '*')\n",
    "plt.show()"
   ]
  },
  {
   "cell_type": "code",
   "execution_count": null,
   "metadata": {},
   "outputs": [],
   "source": [
    "q_val.mean(axis = 1)"
   ]
  },
  {
   "cell_type": "code",
   "execution_count": null,
   "metadata": {},
   "outputs": [],
   "source": []
  },
  {
   "cell_type": "code",
   "execution_count": null,
   "metadata": {},
   "outputs": [],
   "source": []
  }
 ],
 "metadata": {
  "kernelspec": {
   "display_name": "Python 3",
   "language": "python",
   "name": "python3"
  },
  "language_info": {
   "codemirror_mode": {
    "name": "ipython",
    "version": 3
   },
   "file_extension": ".py",
   "mimetype": "text/x-python",
   "name": "python",
   "nbconvert_exporter": "python",
   "pygments_lexer": "ipython3",
   "version": "3.6.6"
  }
 },
 "nbformat": 4,
 "nbformat_minor": 2
}
