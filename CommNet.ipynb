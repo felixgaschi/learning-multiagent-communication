{
 "cells": [
  {
   "cell_type": "code",
   "execution_count": 4,
   "metadata": {},
   "outputs": [],
   "source": [
    "import numpy as np\n",
    "import tensorflow as tf\n",
    "from tqdm import tqdm\n",
    "import matplotlib.pyplot as plt"
   ]
  },
  {
   "cell_type": "code",
   "execution_count": 5,
   "metadata": {},
   "outputs": [],
   "source": [
    "def custom_one_hot(x, depth):\n",
    "    \n",
    "    n,p = x.shape\n",
    "    one_hot_x = np.zeros((n, p, depth))\n",
    "    \n",
    "    for i in range(n):\n",
    "        for j in range(p):\n",
    "            one_hot_x[i,j,x[i,j]] = 1\n",
    "            \n",
    "    return one_hot_x"
   ]
  },
  {
   "cell_type": "markdown",
   "metadata": {},
   "source": [
    "$b(s,\\theta)  = mean((p(a_j| \\theta))_j)$"
   ]
  },
  {
   "cell_type": "code",
   "execution_count": 14,
   "metadata": {},
   "outputs": [],
   "source": [
    "class CommNet:\n",
    "    \n",
    "    def __init__(self, sess, N, J, embedding_size = 128, lr = 1e-3, training_mode = 'supervised', alpha = 0.03):\n",
    "        \n",
    "        self.N = N\n",
    "        self.J = J\n",
    "        self.embedding_size = embedding_size\n",
    "        \n",
    "        self.build_controler()\n",
    "        \n",
    "        self.training_mode = training_mode\n",
    "        \n",
    "        if training_mode == 'supervised':\n",
    "            self.build_supervised()\n",
    "            with tf.variable_scope('Supervised_optimizer'):\n",
    "                self.train_op = tf.train.AdamOptimizer(lr).minimize(self.supervised_loss)\n",
    "                \n",
    "        elif training_mode == 'reinforce':\n",
    "            self.alpha = 0.03\n",
    "            self.build_reinforce()\n",
    "            with tf.variable_scope('Reinforce_optimizer'):\n",
    "                self.train_op =  tf.train.AdamOptimizer(lr).minimize(self.reinforce_loss)\n",
    "            \n",
    "        else:\n",
    "            raise(ValueError(\"Unknown training mode: %s\" % training_mode))\n",
    "        \n",
    "        print(\"All variables\")\n",
    "        for var in tf.global_variables():\n",
    "            print(var)\n",
    "            \n",
    "        \n",
    "        self.sess = sess\n",
    "        self.sess.run(tf.global_variables_initializer())\n",
    "        \n",
    "    def encode(self, inputs):\n",
    "        \n",
    "        with tf.variable_scope('Encoder'):\n",
    "        \n",
    "            identity_embeddings = tf.get_variable(\"identity_embeddings\",\n",
    "                                             [self.N, self.embedding_size])\n",
    "            \n",
    "            embedded_identities = tf.nn.embedding_lookup(identity_embeddings, inputs)\n",
    "            \n",
    "        return tf.unstack(embedded_identities, axis = 1)\n",
    "    \n",
    "    def build_f(self, name, h, c, h0 = None):\n",
    "        \n",
    "        with tf.variable_scope(name, reuse = tf.AUTO_REUSE):\n",
    "            \n",
    "            if h0 is not None:\n",
    "                \n",
    "                W1 = tf.get_variable('W1', shape = (3 * self.embedding_size,\n",
    "                                                  self.embedding_size))\n",
    "                \n",
    "                concat = tf.concat([h, c, h0], axis = 1)\n",
    "            \n",
    "            else:\n",
    "                W1 = tf.get_variable('W1', shape = (2 * self.embedding_size,\n",
    "                                                  self.embedding_size))\n",
    "                \n",
    "                concat = tf.concat([h, c], axis = 1)\n",
    "            \n",
    "            W2 = tf.get_variable('W2', shape = (self.embedding_size,\n",
    "                                                  self.embedding_size))\n",
    "            \n",
    "            dense1 =  tf.nn.relu(tf.einsum(\"ij,jk->ik\", concat, W1))\n",
    "            dense2 = tf.nn.relu(tf.einsum(\"ij,jk->ik\", dense1, W2))\n",
    "            \n",
    "            return dense2\n",
    "        \n",
    "    def decode(self, h):\n",
    "        \n",
    "        with tf.variable_scope('Decoder', reuse = tf.AUTO_REUSE):\n",
    "            \n",
    "            W = tf.get_variable('W', shape = (self.embedding_size,\n",
    "                                                  self.J))\n",
    "            \n",
    "            policy_logit = tf.einsum(\"ij,jk->ik\", h, W)\n",
    "        \n",
    "            return policy_logit\n",
    "    \n",
    "    \n",
    "    def communicate(self, h_seq):\n",
    "        \n",
    "        return tf.add_n(h_seq) / (self.J - 1)\n",
    "    \n",
    "    def sample_actions(self, policy_logit):\n",
    "        \n",
    "        \n",
    "        action = tf.multinomial(policy_logit, num_samples = 1)\n",
    "        \n",
    "        return action\n",
    "    \n",
    "        \n",
    "    def build_controler(self):\n",
    "        \n",
    "        self.inputs = tf.placeholder(tf.int32, shape = (None, self.J))\n",
    "        \n",
    "        h0_seq = self.encode(self.inputs)\n",
    "        c0_seq = [self.communicate([h0_seq[j] for j in range(self.J) if j != i]) for i in range(self.J)]\n",
    "        \n",
    "        h1_seq = [self.build_f(\"Comm_step_1\", h0_seq[j], c0_seq[j], None) for j in range(self.J)]\n",
    "        c1_seq = [self.communicate([h1_seq[j] for j in range(self.J) if j != i]) for i in range(self.J)]\n",
    "        \n",
    "        h2_seq = [self.build_f(\"Comm_step_2\", h1_seq[j], c1_seq[j], h0_seq[j]) for j in range(self.J)]\n",
    "        \n",
    "        \n",
    "        self.policy_logit_seq = [self.decode(h2) for h2 in h2_seq]\n",
    "        \n",
    "        self.proba_seq = [tf.nn.softmax(policy_logit, axis = 1) for policy_logit in self.policy_logit_seq]\n",
    "        \n",
    "        self.action_seq = [self.sample_actions(policy_logit) for policy_logit in self.policy_logit_seq]\n",
    "        \n",
    "        self.one_hot_action_seq = [tf.one_hot(action, depth = self.J) for action in self.action_seq]\n",
    "        \n",
    "        \n",
    "        \n",
    "    def build_supervised(self):\n",
    "        \n",
    "        assert self.training_mode == 'supervised', 'Wrong training mode'\n",
    "        \n",
    "        self.targets = tf.placeholder(tf.int32, shape = (None, self.J))\n",
    "        unstacked_targets = tf.unstack(self.targets, axis = 1)\n",
    "        \n",
    "        supervised_loss_seq = [tf.nn.sparse_softmax_cross_entropy_with_logits(labels=unstacked_targets[j],\n",
    "                                                                                   logits=self.policy_logit_seq[j])\n",
    "                                    for j in range(self.J)]\n",
    "        \n",
    "        self.supervised_loss = tf.reduce_sum(tf.add_n(supervised_loss_seq))\n",
    "        \n",
    "        \n",
    "        \n",
    "    def supervised_train(self, X, y, val_X, val_y, env, batch_size = 32, epochs = 1):\n",
    "        \n",
    "        assert self.training_mode == 'supervised', 'Wrong training mode'\n",
    "        \n",
    "        n = X.shape[0]\n",
    "        \n",
    "        val_n = val_X.shape[0]\n",
    "        \n",
    "        data_inds = np.array(range(n))\n",
    "        for ep in range(1, epochs + 1):\n",
    "            np.random.shuffle(data_inds)\n",
    "            supervised_loss_sum = 0\n",
    "            reward_sum = 0\n",
    "            for i in tqdm(range(0, n, batch_size), \"Epoch: %d\" % ep):\n",
    "                inds_batch = data_inds[i:i+batch_size]\n",
    "                X_batch = X[inds_batch]\n",
    "                y_batch = y[inds_batch]\n",
    "                _, supervised_loss, one_hot_action_seq = sess.run([self.train_op, self.supervised_loss, self.one_hot_action_seq], feed_dict={self.inputs: X_batch, self.targets: y_batch})\n",
    "                supervised_loss_sum += supervised_loss\n",
    "                reward_sum += env.get_reward(one_hot_action_seq)\n",
    "            \n",
    "            print(\"loss = %f\" % (supervised_loss_sum / n))\n",
    "            print(\"reward = %f\" % (reward_sum / n))\n",
    "            print()\n",
    "            \n",
    "            val_supervised_loss, val_one_hot_action_seq = sess.run([self.supervised_loss, self.one_hot_action_seq], feed_dict={self.inputs: val_X, self.targets: val_y})\n",
    "            print('val loss = %f' % (val_supervised_loss / val_n))\n",
    "            print('val reward = %f' % (env.get_reward(val_one_hot_action_seq) / val_n))\n",
    "            \n",
    "\n",
    "    def build_reinforce(self):\n",
    "        \n",
    "        assert self.training_mode == 'reinforce', 'Wrong training mode'\n",
    "        \n",
    "        self.G = tf.placeholder(tf.float32)\n",
    "        self.advantage = tf.placeholder(tf.float32)\n",
    "  \n",
    "        \n",
    "        self.action_taken = tf.placeholder(tf.int32, shape = (None, self.J))\n",
    "        unstacked_action_taken = tf.unstack(self.action_taken, axis = 1)\n",
    "        one_hot_action_taken_seq = [tf.one_hot(action, depth = 5, dtype = tf.int32) for action in unstacked_action_taken]\n",
    "        \n",
    "        self.neg_log_p_seq = [tf.nn.sparse_softmax_cross_entropy_with_logits(labels=unstacked_action_taken[j],\n",
    "                                                    logits=self.policy_logit_seq[j]) for j in range(self.J)]\n",
    "        \n",
    "        self.proba_action_taken = tf.concat([[tf.dynamic_partition(self.proba_seq[j], one_hot_action_taken_seq[j], num_partitions = 2)[1] for j in range(self.J)]], axis = 0)\n",
    "        \n",
    "        \n",
    "        baseline = tf.reduce_mean(self.proba_action_taken, axis = 0)\n",
    "        unstacked_baseline = tf.unstack(baseline, axis = 0)\n",
    "        \n",
    "        print(unstacked_baseline)\n",
    "        \n",
    "        #surrogate loss\n",
    "        self.reinforce_loss =  tf.add_n([tf.reduce_sum(tf.multiply(self.advantage, self.neg_log_p_seq[j]), axis = 0) for j in range(self.J)])\n",
    "        self.reinforce_loss += self.alpha * (self.G - baseline) ** 2\n",
    "        \n",
    "        \n",
    "    def take_action(self, state):\n",
    "        \n",
    "        assert self.training_mode == 'reinforce', 'Wrong training mode'\n",
    "        \n",
    "        action_seq, proba_seq = self.sess.run([self.action_seq, self.proba_seq], {self.inputs: [state]})\n",
    "        \n",
    "        return [a[0,0] for a in action_seq], proba_seq\n",
    "    \n",
    "    def reinforce_train(self, env, n_episodes, T):\n",
    "        \n",
    "        assert self.training_mode == 'reinforce', 'Wrong training mode'\n",
    "        \n",
    "        \n",
    "        history = {'reward' : [],  'loss': []}\n",
    "    \n",
    "        \n",
    "        for _ in tqdm(range(n_episodes), \"REINFORCE\"):\n",
    "            \n",
    "            # todo: change code to avoid this seq_seq name (sequence of sequence)\n",
    "            state_seq, action_seq, reward_seq, proba_seq = policy_rollout(T, env, commNet)\n",
    "            t = reward_seq.shape[0]\n",
    "            G = np.sum(reward_seq)\n",
    "            \n",
    "            one_hot_action_seq = custom_one_hot(action_seq, self.J)\n",
    "            \n",
    "            history['reward'].append(np.mean(reward_seq))\n",
    "            \n",
    "            baseline = proba_seq[np.where(one_hot_action_seq)].reshape(t, self.J).mean(axis = 1).sum()\n",
    "            \n",
    "            feed_dict = {}\n",
    "            feed_dict[self.inputs] = state_seq\n",
    "            feed_dict[self.G] = G\n",
    "            feed_dict[self.advantage] = G - baseline\n",
    "            feed_dict[self.action_taken] = action_seq\n",
    "            \n",
    "            _, loss = self.sess.run([self.train_op, self.reinforce_loss], feed_dict = feed_dict)\n",
    "            \n",
    "            history['loss'].append(loss)\n",
    "            \n",
    "        return history\n",
    "            \n",
    "            \n",
    "            \n",
    "            \n",
    "            \n",
    "            \n",
    "            \n",
    "        "
   ]
  },
  {
   "cell_type": "code",
   "execution_count": 7,
   "metadata": {},
   "outputs": [],
   "source": [
    "class LeverEnv:\n",
    "    \n",
    "    def __init__(self, N, J):\n",
    "        \n",
    "        self.J = J\n",
    "        self.N = N\n",
    "        \n",
    "    def reset(self):\n",
    "        \n",
    "        state = np.sort(np.random.choice(self.N, size = self.J, replace = False))\n",
    "        \n",
    "        terminal_state = False\n",
    "        \n",
    "        return state, terminal_state        \n",
    "    \n",
    "    def get_reward(self, one_hot_action_seq):        \n",
    "        \n",
    "        reward = np.sum(np.sum(one_hot_action_seq, axis = 0) > 0) /self.J\n",
    "        \n",
    "        return reward\n",
    "        \n",
    "    def step(self, state, action):\n",
    "        \n",
    "        next_state = np.sort(np.random.choice(self.N, size = self.J, replace = False))\n",
    "        \n",
    "        one_hot_action_seq = np.zeros((self.J, self.J))\n",
    "        one_hot_action_seq[range(self.J), action] = 1\n",
    "        reward = self.get_reward(one_hot_action_seq)\n",
    "        \n",
    "        terminal_state = False\n",
    "        \n",
    "        return next_state, reward, terminal_state\n",
    "        "
   ]
  },
  {
   "cell_type": "code",
   "execution_count": 8,
   "metadata": {},
   "outputs": [],
   "source": [
    "# data generation for supervised learning\n",
    "def generate_data(n, N, J):\n",
    "    \n",
    "    X = np.empty((n, J), dtype = int)\n",
    "    \n",
    "    for i in range(n):\n",
    "        \n",
    "        X[i] = np.sort(np.random.choice(N, size = J, replace = False))\n",
    "        \n",
    "    y = np.tile([j for j in range(J)], (n,1))\n",
    "        \n",
    "    return X, y"
   ]
  },
  {
   "cell_type": "code",
   "execution_count": 9,
   "metadata": {},
   "outputs": [],
   "source": [
    "# episode generation for reinforcement learning\n",
    "def policy_rollout(T, env, agent):\n",
    "    \n",
    "    state_seq = []\n",
    "    action_seq = []\n",
    "    reward_seq = []\n",
    "    proba_seq = []\n",
    "    \n",
    "    \n",
    "    state, terminal_state = env.reset()\n",
    "    \n",
    "    t = 0\n",
    "    \n",
    "    while not terminal_state and t < T:\n",
    "        t +=1\n",
    "        \n",
    "        state_seq.append(state)\n",
    "        action, proba = agent.take_action(state)\n",
    "        \n",
    "        state, reward, terminal_state = env.step(state, action)\n",
    "        \n",
    "        \n",
    "        action_seq.append(action)\n",
    "        reward_seq.append(reward)\n",
    "        proba_seq.append(proba)\n",
    "        \n",
    "    return np.array(state_seq), np.array(action_seq), np.array(reward_seq), np.squeeze(np.array(proba_seq))"
   ]
  },
  {
   "cell_type": "code",
   "execution_count": 10,
   "metadata": {},
   "outputs": [],
   "source": [
    "N = 30\n",
    "J = 5\n",
    "batch_size = 64\n",
    "n = batch_size * 50000"
   ]
  },
  {
   "cell_type": "code",
   "execution_count": 11,
   "metadata": {},
   "outputs": [],
   "source": [
    "X, y = generate_data(n, N, J)\n",
    "val_X, val_y = generate_data(1024, N, J)"
   ]
  },
  {
   "cell_type": "code",
   "execution_count": 17,
   "metadata": {
    "scrolled": true
   },
   "outputs": [
    {
     "name": "stdout",
     "output_type": "stream",
     "text": [
      "All variables\n",
      "<tf.Variable 'Encoder/identity_embeddings:0' shape=(30, 128) dtype=float32_ref>\n",
      "<tf.Variable 'Comm_step_1/W1:0' shape=(256, 128) dtype=float32_ref>\n",
      "<tf.Variable 'Comm_step_1/W2:0' shape=(128, 128) dtype=float32_ref>\n",
      "<tf.Variable 'Comm_step_2/W1:0' shape=(384, 128) dtype=float32_ref>\n",
      "<tf.Variable 'Comm_step_2/W2:0' shape=(128, 128) dtype=float32_ref>\n",
      "<tf.Variable 'Decoder/W:0' shape=(128, 5) dtype=float32_ref>\n",
      "<tf.Variable 'Reinforce_optimizer/beta1_power:0' shape=() dtype=float32_ref>\n",
      "<tf.Variable 'Reinforce_optimizer/beta2_power:0' shape=() dtype=float32_ref>\n",
      "<tf.Variable 'Reinforce_optimizer/Encoder/identity_embeddings/Adam:0' shape=(30, 128) dtype=float32_ref>\n",
      "<tf.Variable 'Reinforce_optimizer/Encoder/identity_embeddings/Adam_1:0' shape=(30, 128) dtype=float32_ref>\n",
      "<tf.Variable 'Reinforce_optimizer/Comm_step_1/W1/Adam:0' shape=(256, 128) dtype=float32_ref>\n",
      "<tf.Variable 'Reinforce_optimizer/Comm_step_1/W1/Adam_1:0' shape=(256, 128) dtype=float32_ref>\n",
      "<tf.Variable 'Reinforce_optimizer/Comm_step_1/W2/Adam:0' shape=(128, 128) dtype=float32_ref>\n",
      "<tf.Variable 'Reinforce_optimizer/Comm_step_1/W2/Adam_1:0' shape=(128, 128) dtype=float32_ref>\n",
      "<tf.Variable 'Reinforce_optimizer/Comm_step_2/W1/Adam:0' shape=(384, 128) dtype=float32_ref>\n",
      "<tf.Variable 'Reinforce_optimizer/Comm_step_2/W1/Adam_1:0' shape=(384, 128) dtype=float32_ref>\n",
      "<tf.Variable 'Reinforce_optimizer/Comm_step_2/W2/Adam:0' shape=(128, 128) dtype=float32_ref>\n",
      "<tf.Variable 'Reinforce_optimizer/Comm_step_2/W2/Adam_1:0' shape=(128, 128) dtype=float32_ref>\n",
      "<tf.Variable 'Reinforce_optimizer/Decoder/W/Adam:0' shape=(128, 5) dtype=float32_ref>\n",
      "<tf.Variable 'Reinforce_optimizer/Decoder/W/Adam_1:0' shape=(128, 5) dtype=float32_ref>\n"
     ]
    },
    {
     "name": "stderr",
     "output_type": "stream",
     "text": [
      "REINFORCE: 100%|███████████████████████████████████████████████████████████████████| 5000/5000 [10:03<00:00,  8.77it/s]\n"
     ]
    },
    {
     "name": "stdout",
     "output_type": "stream",
     "text": [
      "[[ 9 10 19 23 24]\n",
      " [ 9 17 24 26 28]\n",
      " [ 3  7  9 17 24]]\n",
      "[[3 1 3 3 3]\n",
      " [3 3 3 3 3]\n",
      " [3 1 4 3 3]]\n",
      "[0.4 0.2 0.6]\n",
      "[[[0.12197567 0.15292808 0.19459106 0.33669734 0.19380786]\n",
      "  [0.0846713  0.12718467 0.13650987 0.5213051  0.1303291 ]\n",
      "  [0.08051589 0.0845012  0.14567246 0.59571224 0.09359819]\n",
      "  [0.03128992 0.04031158 0.05624179 0.829091   0.04306565]\n",
      "  [0.01915087 0.02279905 0.04358577 0.8875542  0.02691004]]\n",
      "\n",
      " [[0.10476508 0.13678366 0.18159473 0.39483508 0.18202144]\n",
      "  [0.01189783 0.01575293 0.03525042 0.91933525 0.01776353]\n",
      "  [0.01082885 0.01328594 0.02815929 0.93140024 0.01632566]\n",
      "  [0.08337448 0.10201924 0.19088803 0.49328545 0.13043281]\n",
      "  [0.11510612 0.09579564 0.16882874 0.46021608 0.16005337]]\n",
      "\n",
      " [[0.05125308 0.05187578 0.08804622 0.7249606  0.0838643 ]\n",
      "  [0.13870683 0.12731509 0.18893147 0.3774651  0.16758141]\n",
      "  [0.10789581 0.13742039 0.18275164 0.3938433  0.17808884]\n",
      "  [0.01380787 0.01760307 0.04042571 0.90777117 0.02039217]\n",
      "  [0.01227196 0.01494504 0.03123317 0.92348206 0.01806783]]]\n",
      "1.2000000000000002\n"
     ]
    }
   ],
   "source": [
    "tf.reset_default_graph()\n",
    "with tf.Session() as sess:\n",
    "    commNet = CommNet(sess, N, J, lr = 1e-3, training_mode = 'reinforce')\n",
    "    env = LeverEnv(N, J)\n",
    "    #commNet.supervised_train(X, y, val_X, val_y, env, batch_size = batch_size, epochs = 10)\n",
    "    \n",
    "    history = commNet.reinforce_train(env, n_episodes = 5000, T = 64)\n",
    "\n",
    "    \n",
    "    state_seq, action_seq, reward_seq, proba_seq = policy_rollout(3, env, commNet)\n",
    "    \n",
    "    print(state_seq)\n",
    "    print(action_seq)\n",
    "    print(reward_seq)\n",
    "    print(proba_seq)\n",
    "    G = np.sum(reward_seq)\n",
    "    print(G)\n",
    "    \n",
    "    '''one_hot_action_seq = custom_one_hot(action_seq, J)\n",
    "    print(one_hot_action_seq)\n",
    "    print(one_hot_action_seq.shape)\n",
    "    print(proba_seq.shape)\n",
    "    print(proba_seq[np.where(one_hot_action_seq)])\n",
    "    \n",
    "    feed_dict = {}\n",
    "    feed_dict[commNet.inputs] = state_seq\n",
    "    feed_dict[commNet.advantage] = G \n",
    "    feed_dict[commNet.G] = G\n",
    "    feed_dict[commNet.action_taken] = action_seq\n",
    "    \n",
    "    rv = sess.run([commNet.policy_logit_seq, commNet.neg_log_p_seq, commNet.reinforce_loss,commNet.proba_seq, commNet.proba_action_taken], feed_dict= feed_dict)'''"
   ]
  },
  {
   "cell_type": "code",
   "execution_count": 18,
   "metadata": {
    "scrolled": true
   },
   "outputs": [
    {
     "data": {
      "image/png": "[encoded data removed]",
      "text/plain": [
       "<matplotlib.figure.Figure at 0x1f83718b7f0>"
      ]
     },
     "metadata": {},
     "output_type": "display_data"
    },
    {
     "data": {
      "image/png": "[encoded data removed]",
      "text/plain": [
       "<matplotlib.figure.Figure at 0x1f8370e94e0>"
      ]
     },
     "metadata": {},
     "output_type": "display_data"
    }
   ],
   "source": [
    "plt.plot(history['reward'], '*')\n",
    "plt.show()\n",
    "plt.plot(history['loss'], '*')\n",
    "plt.show()"
   ]
  },
  {
   "cell_type": "code",
   "execution_count": 304,
   "metadata": {},
   "outputs": [
    {
     "data": {
      "text/plain": [
       "[array([[-0.01550326, -0.06095476, -0.08454122,  0.06006548, -0.04466429],\n",
       "        [-0.04558367, -0.00680673, -0.04336035, -0.02344662, -0.01138418],\n",
       "        [-0.0813165 , -0.00136766, -0.05536251,  0.01403373,  0.05939031]],\n",
       "       dtype=float32),\n",
       " array([[-0.00366695, -0.03861616, -0.03034972, -0.01532622,  0.03480891],\n",
       "        [-0.0692573 , -0.00908686,  0.02021708, -0.02005982,  0.07532652],\n",
       "        [-0.09119473, -0.07786055, -0.0379112 , -0.0194352 , -0.00491425]],\n",
       "       dtype=float32),\n",
       " array([[-0.01751562, -0.02474396, -0.05196398,  0.02885003,  0.09337485],\n",
       "        [-0.04017974, -0.01426794,  0.03844426,  0.00406101,  0.07148421],\n",
       "        [-0.04668672, -0.03390773, -0.01655139,  0.04524863,  0.0108991 ]],\n",
       "       dtype=float32),\n",
       " array([[-0.07846864, -0.00847453, -0.0013264 , -0.01965727,  0.00346846],\n",
       "        [-0.0763255 , -0.0871232 ,  0.01907603, -0.02311294,  0.02413899],\n",
       "        [-0.06033857, -0.04021598, -0.03098896, -0.02062482,  0.05070095]],\n",
       "       dtype=float32),\n",
       " array([[-0.07372886, -0.0059178 , -0.08685951,  0.00865324, -0.01169841],\n",
       "        [-0.08158267,  0.08308432, -0.04547997, -0.04629073,  0.02663593],\n",
       "        [-0.05933438, -0.04120488, -0.0102155 , -0.06238602,  0.04220837]],\n",
       "       dtype=float32)]"
      ]
     },
     "execution_count": 304,
     "metadata": {},
     "output_type": "execute_result"
    }
   ],
   "source": [
    "rv[0]"
   ]
  },
  {
   "cell_type": "code",
   "execution_count": 305,
   "metadata": {},
   "outputs": [
    {
     "data": {
      "text/plain": [
       "[array([1.6661228, 1.6268092, 1.5991377], dtype=float32),\n",
       " array([1.6294904, 1.6190926, 1.65492  ], dtype=float32),\n",
       " array([1.5875045, 1.6363878, 1.5908853], dtype=float32),\n",
       " array([1.6086427, 1.5627692, 1.650208 ], dtype=float32),\n",
       " array([1.5879703, 1.6800783, 1.6433504], dtype=float32)]"
      ]
     },
     "execution_count": 305,
     "metadata": {},
     "output_type": "execute_result"
    }
   ],
   "source": [
    "rv[1]"
   ]
  },
  {
   "cell_type": "code",
   "execution_count": 306,
   "metadata": {},
   "outputs": [
    {
     "data": {
      "text/plain": [
       "14.606021"
      ]
     },
     "execution_count": 306,
     "metadata": {},
     "output_type": "execute_result"
    }
   ],
   "source": [
    "rv[2]"
   ]
  },
  {
   "cell_type": "code",
   "execution_count": 307,
   "metadata": {},
   "outputs": [
    {
     "data": {
      "text/plain": [
       "[array([[0.20248593, 0.19348866, 0.18897834, 0.21838054, 0.19666651],\n",
       "        [0.1961192 , 0.20387349, 0.19655573, 0.20050913, 0.2029424 ],\n",
       "        [0.18654433, 0.2020707 , 0.19144925, 0.20520696, 0.21472876]],\n",
       "       dtype=float32),\n",
       " array([[0.20133044, 0.19441564, 0.19602942, 0.19899671, 0.20922776],\n",
       "        [0.18651138, 0.19807835, 0.20396872, 0.19591674, 0.21552482],\n",
       "        [0.19110735, 0.19367267, 0.2015664 , 0.20532516, 0.20832843]],\n",
       "       dtype=float32),\n",
       " array([[0.19517276, 0.19376707, 0.18856387, 0.20443515, 0.21806116],\n",
       "        [0.18970223, 0.194682  , 0.2052194 , 0.19828321, 0.2121131 ],\n",
       "        [0.19234376, 0.1948175 , 0.19822833, 0.2108653 , 0.20374517]],\n",
       "       dtype=float32),\n",
       " array([[0.18872695, 0.20241001, 0.20386204, 0.20015913, 0.20484188],\n",
       "        [0.19048712, 0.18844137, 0.20955497, 0.20089796, 0.21061863],\n",
       "        [0.19200996, 0.19591284, 0.19772889, 0.19978884, 0.21455944]],\n",
       "       dtype=float32),\n",
       " array([[0.19204977, 0.20552458, 0.18954451, 0.20854121, 0.20433995],\n",
       "        [0.1863594 , 0.21971782, 0.19321041, 0.19305381, 0.20765866],\n",
       "        [0.19333121, 0.19686818, 0.20306452, 0.19274214, 0.21399392]],\n",
       "       dtype=float32)]"
      ]
     },
     "execution_count": 307,
     "metadata": {},
     "output_type": "execute_result"
    }
   ],
   "source": [
    "rv[3]"
   ]
  },
  {
   "cell_type": "code",
   "execution_count": 310,
   "metadata": {},
   "outputs": [
    {
     "ename": "SyntaxError",
     "evalue": "invalid syntax (<ipython-input-310-262fc6ab6e89>, line 1)",
     "output_type": "error",
     "traceback": [
      "\u001b[1;36m  File \u001b[1;32m\"<ipython-input-310-262fc6ab6e89>\"\u001b[1;36m, line \u001b[1;32m1\u001b[0m\n\u001b[1;33m    np.array([[2 2 3 3 4],\u001b[0m\n\u001b[1;37m                 ^\u001b[0m\n\u001b[1;31mSyntaxError\u001b[0m\u001b[1;31m:\u001b[0m invalid syntax\n"
     ]
    }
   ],
   "source": [
    "[[2 2 3 3 4]\n",
    " [2 1 1 2 0]\n",
    " [1 0 4 0 0]]"
   ]
  },
  {
   "cell_type": "code",
   "execution_count": 308,
   "metadata": {},
   "outputs": [
    {
     "data": {
      "text/plain": [
       "[array([0.18897834, 0.19655573, 0.2020707 ], dtype=float32),\n",
       " array([0.19602942, 0.19807835, 0.19110735], dtype=float32),\n",
       " array([0.20443515, 0.194682  , 0.20374517], dtype=float32),\n",
       " array([0.20015913, 0.20955497, 0.19200996], dtype=float32),\n",
       " array([0.20433995, 0.1863594 , 0.19333121], dtype=float32)]"
      ]
     },
     "execution_count": 308,
     "metadata": {},
     "output_type": "execute_result"
    }
   ],
   "source": [
    "rv[4]"
   ]
  },
  {
   "cell_type": "code",
   "execution_count": 341,
   "metadata": {},
   "outputs": [
    {
     "data": {
      "text/plain": [
       "array([[0, 1, 2],\n",
       "       [0, 2, 3]])"
      ]
     },
     "execution_count": 341,
     "metadata": {},
     "output_type": "execute_result"
    }
   ],
   "source": [
    "with tf.Session() as sess:\n",
    "    \n",
    "    x = [[[0,1,2]], [[0,2,3]]]\n",
    "    c = tf.concat(x, axis = 0)\n",
    "    \n",
    "    cv = sess.run(c)\n",
    "cv"
   ]
  },
  {
   "cell_type": "code",
   "execution_count": 311,
   "metadata": {},
   "outputs": [
    {
     "data": {
      "text/plain": [
       "array([[2, 2, 3, 3, 4],\n",
       "       [2, 1, 1, 2, 0],\n",
       "       [1, 0, 4, 0, 0]], dtype=int64)"
      ]
     },
     "execution_count": 311,
     "metadata": {},
     "output_type": "execute_result"
    }
   ],
   "source": [
    "action_seq"
   ]
  },
  {
   "cell_type": "code",
   "execution_count": 333,
   "metadata": {},
   "outputs": [
    {
     "data": {
      "text/plain": [
       "array([[[0, 0, 1, 0, 0],\n",
       "        [0, 0, 1, 0, 0],\n",
       "        [0, 0, 0, 1, 0],\n",
       "        [0, 0, 0, 1, 0],\n",
       "        [0, 0, 0, 0, 1]],\n",
       "\n",
       "       [[0, 0, 1, 0, 0],\n",
       "        [0, 1, 0, 0, 0],\n",
       "        [0, 1, 0, 0, 0],\n",
       "        [0, 0, 1, 0, 0],\n",
       "        [1, 0, 0, 0, 0]],\n",
       "\n",
       "       [[0, 1, 0, 0, 0],\n",
       "        [1, 0, 0, 0, 0],\n",
       "        [0, 0, 0, 0, 1],\n",
       "        [1, 0, 0, 0, 0],\n",
       "        [1, 0, 0, 0, 0]]])"
      ]
     },
     "execution_count": 333,
     "metadata": {},
     "output_type": "execute_result"
    }
   ],
   "source": [
    "custom_one_hot(action_seq, 5).astype(int)"
   ]
  },
  {
   "cell_type": "code",
   "execution_count": 332,
   "metadata": {},
   "outputs": [
    {
     "data": {
      "text/plain": [
       "(array([0, 0, 0, 0, 0, 1, 1, 1, 1, 1, 2, 2, 2, 2, 2], dtype=int64),\n",
       " array([0, 1, 2, 3, 4, 0, 1, 2, 3, 4, 0, 1, 2, 3, 4], dtype=int64),\n",
       " array([2, 2, 3, 3, 4, 2, 1, 1, 2, 0, 1, 0, 4, 0, 0], dtype=int64))"
      ]
     },
     "execution_count": 332,
     "metadata": {},
     "output_type": "execute_result"
    }
   ],
   "source": [
    "np.where(custom_one_hot(action_seq, 5).astype(int))"
   ]
  },
  {
   "cell_type": "code",
   "execution_count": 334,
   "metadata": {},
   "outputs": [
    {
     "data": {
      "text/plain": [
       "array([0.18897833, 0.19602942, 0.20443515, 0.20015912, 0.20433994,\n",
       "       0.19655573, 0.19807835, 0.19468199, 0.20955497, 0.18635936,\n",
       "       0.2020707 , 0.19110735, 0.20374517, 0.19200996, 0.19333121],\n",
       "      dtype=float32)"
      ]
     },
     "execution_count": 334,
     "metadata": {},
     "output_type": "execute_result"
    }
   ],
   "source": [
    "proba_seq[np.where(custom_one_hot(action_seq, 5).astype(int))]"
   ]
  },
  {
   "cell_type": "code",
   "execution_count": 335,
   "metadata": {},
   "outputs": [
    {
     "data": {
      "text/plain": [
       "array([[0.18897833, 0.19602942, 0.20443515, 0.20015912, 0.20433994],\n",
       "       [0.19655573, 0.19807835, 0.19468199, 0.20955497, 0.18635936],\n",
       "       [0.2020707 , 0.19110735, 0.20374517, 0.19200996, 0.19333121]],\n",
       "      dtype=float32)"
      ]
     },
     "execution_count": 335,
     "metadata": {},
     "output_type": "execute_result"
    }
   ],
   "source": [
    "proba_seq[np.where(custom_one_hot(action_seq, 5).astype(int))].reshape(3,5)"
   ]
  }
 ],
 "metadata": {
  "kernelspec": {
   "display_name": "Python 3",
   "language": "python",
   "name": "python3"
  },
  "language_info": {
   "codemirror_mode": {
    "name": "ipython",
    "version": 3
   },
   "file_extension": ".py",
   "mimetype": "text/x-python",
   "name": "python",
   "nbconvert_exporter": "python",
   "pygments_lexer": "ipython3",
   "version": "3.6.6"
  }
 },
 "nbformat": 4,
 "nbformat_minor": 2
}
