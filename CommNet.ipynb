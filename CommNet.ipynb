{
 "cells": [
  {
   "cell_type": "code",
   "execution_count": 1,
   "metadata": {},
   "outputs": [
    {
     "name": "stderr",
     "output_type": "stream",
     "text": [
      "C:\\Users\\Romain Zimmer\\Anaconda3\\lib\\site-packages\\h5py\\__init__.py:72: UserWarning: h5py is running against HDF5 1.10.2 when it was built against 1.10.3, this may cause problems\n",
      "  '{0}.{1}.{2}'.format(*version.hdf5_built_version_tuple)\n"
     ]
    }
   ],
   "source": [
    "import numpy as np\n",
    "import tensorflow as tf\n",
    "from tqdm import tqdm\n",
    "import matplotlib.pyplot as plt"
   ]
  },
  {
   "cell_type": "code",
   "execution_count": 37,
   "metadata": {},
   "outputs": [],
   "source": [
    "class CommNet:\n",
    "    \n",
    "    def __init__(self, sess, N, J, embedding_size = 128, lr = 1e-3, training_mode = 'supervised', alpha = 0.03):\n",
    "        \n",
    "        self.N = N\n",
    "        self.J = J\n",
    "        self.embedding_size = embedding_size\n",
    "        \n",
    "        self.build_controler()\n",
    "        \n",
    "        self.training_mode = training_mode\n",
    "        \n",
    "        if training_mode == 'supervised':\n",
    "            self.build_supervised()\n",
    "            with tf.variable_scope('Supervised_optimizer'):\n",
    "                self.train_op = tf.train.AdamOptimizer(lr).minimize(self.supervised_loss)\n",
    "                \n",
    "        elif training_mode == 'reinforce':\n",
    "            self.alpha = 0.03\n",
    "            self.build_reinforce()\n",
    "            with tf.variable_scope('Reinforce_optimizer'):\n",
    "                self.train_op =  tf.train.RMSPropOptimizer(lr).minimize(self.reinforce_loss)\n",
    "            \n",
    "        else:\n",
    "            raise(ValueError(\"Unknown training mode: %s\" % training_mode))\n",
    "        \n",
    "        print(\"All variables\")\n",
    "        for var in tf.global_variables():\n",
    "            print(var)\n",
    "            \n",
    "        \n",
    "        self.sess = sess\n",
    "        self.sess.run(tf.global_variables_initializer())\n",
    "        \n",
    "    def encode(self, inputs):\n",
    "        \n",
    "        with tf.variable_scope('Encoder'):\n",
    "        \n",
    "            identity_embeddings = tf.get_variable(\"identity_embeddings\",\n",
    "                                             [self.N, self.embedding_size])\n",
    "            \n",
    "            self.embedded_identities = tf.nn.embedding_lookup(identity_embeddings, inputs)\n",
    "        \n",
    "            \n",
    "        return tf.unstack(self.embedded_identities, axis = 1)\n",
    "    \n",
    "    def build_f(self, name, h, c, h0 = None):\n",
    "        \n",
    "        with tf.variable_scope(name, reuse = tf.AUTO_REUSE):\n",
    "            \n",
    "            if h0 is not None:\n",
    "                \n",
    "                b1 = tf.get_variable('b1', shape = (1, self.embedding_size))\n",
    "                W1 = tf.get_variable('W1', shape = (3 * self.embedding_size,\n",
    "                                                  self.embedding_size))\n",
    "                \n",
    "                W2 = tf.get_variable('W2', shape = (self.embedding_size,\n",
    "                                                  self.embedding_size))\n",
    "                \n",
    "                concat = tf.concat([h, c, h0], axis = 1)\n",
    "            \n",
    "            else:\n",
    "                b1 = tf.get_variable('b1', shape = (1, self.embedding_size))\n",
    "                \n",
    "                W1 = tf.get_variable('W1', shape = (2 * self.embedding_size,\n",
    "                                                  self.embedding_size))\n",
    "                \n",
    "                W2 = tf.get_variable('W2', shape = (self.embedding_size,\n",
    "                                                  self.embedding_size))\n",
    "                \n",
    "                concat = tf.concat([h, c], axis = 1)\n",
    "            \n",
    "            b2 = tf.get_variable('b2', shape = (1, self.embedding_size))\n",
    "            \n",
    "            dense1 =tf.nn.relu(tf.einsum(\"ij,jk->ik\", concat, W1) + b1)\n",
    "            dense2 = tf.nn.relu(tf.einsum(\"ij,jk->ik\", dense1, W2) + b2)\n",
    "            \n",
    "            return dense2\n",
    "        \n",
    "    def decode(self, h):\n",
    "        \n",
    "        with tf.variable_scope('Decoder', reuse = tf.AUTO_REUSE):\n",
    "            \n",
    "            W = tf.get_variable('W', shape = (self.embedding_size,\n",
    "                                                  self.J))\n",
    "            \n",
    "            b = tf.get_variable('b', shape = (1, self.J))\n",
    "            \n",
    "            policy_logit = tf.einsum(\"ij,jk->ik\", h, W) + b\n",
    "        \n",
    "            return policy_logit\n",
    "    \n",
    "    \n",
    "    def communicate(self, h_seq):\n",
    "        \n",
    "        return tf.add_n(h_seq) / (self.J - 1)\n",
    "    \n",
    "    def sample_actions(self, policy_logit):\n",
    "        \n",
    "        action = tf.multinomial(policy_logit, num_samples = 1)\n",
    "        \n",
    "        return action\n",
    "    \n",
    "        \n",
    "    def build_controler(self):\n",
    "        \n",
    "        self.inputs = tf.placeholder(tf.int32, shape = (None, self.J))\n",
    "        \n",
    "        h0_seq = self.encode(self.inputs)\n",
    "        c0_seq = [self.communicate([h0_seq[j] for j in range(self.J) if j != i]) for i in range(self.J)]\n",
    "        \n",
    "        h1_seq = [self.build_f(\"Comm_step_1\", h0_seq[j], c0_seq[j], None) for j in range(self.J)]\n",
    "        c1_seq = [self.communicate([h1_seq[j] for j in range(self.J) if j != i]) for i in range(self.J)]\n",
    "        \n",
    "        h2_seq = [self.build_f(\"Comm_step_2\", h1_seq[j], c1_seq[j], h0_seq[j]) for j in range(self.J)]\n",
    "        \n",
    "        self.layers = {'h0_seq': h0_seq, 'c0_seq': c0_seq, 'h1_seq': h1_seq, 'c1_seq':c1_seq, 'h2_seq': h2_seq}\n",
    "        \n",
    "        \n",
    "        self.policy_logit_seq = [self.decode(h2) for h2 in h2_seq]\n",
    "        \n",
    "        self.proba_seq = [tf.nn.softmax(policy_logit, axis = 1) for policy_logit in self.policy_logit_seq]\n",
    "        \n",
    "        self.action_seq = [self.sample_actions(policy_logit) for policy_logit in self.policy_logit_seq]\n",
    "        \n",
    "        self.one_hot_action_seq = [tf.one_hot(action, depth = self.J) for action in self.action_seq]\n",
    "        \n",
    "        \n",
    "        \n",
    "    def build_supervised(self):\n",
    "        \n",
    "        assert self.training_mode == 'supervised', 'Wrong training mode'\n",
    "        \n",
    "        self.targets = tf.placeholder(tf.int32, shape = (None, self.J))\n",
    "        unstacked_targets = tf.unstack(self.targets, axis = 1)\n",
    "        \n",
    "        supervised_loss_seq = [tf.nn.sparse_softmax_cross_entropy_with_logits(labels=unstacked_targets[j],\n",
    "                                                                                   logits=self.policy_logit_seq[j])\n",
    "                                    for j in range(self.J)]\n",
    "        \n",
    "        self.supervised_loss = tf.reduce_mean(supervised_loss_seq)\n",
    "        \n",
    "        \n",
    "    def supervised_train(self, X, y, val_X, val_y, env, batch_size = 32, epochs = 1):\n",
    "        \n",
    "        assert self.training_mode == 'supervised', 'Wrong training mode'\n",
    "        \n",
    "        n = X.shape[0]\n",
    "        \n",
    "        val_n = val_X.shape[0]\n",
    "        \n",
    "        data_inds = np.array(range(n))\n",
    "        for ep in range(1, epochs + 1):\n",
    "            np.random.shuffle(data_inds)\n",
    "            supervised_loss_sum = 0\n",
    "            reward_sum = 0\n",
    "            for i in tqdm(range(0, n, batch_size), \"Epoch: %d\" % ep):\n",
    "                inds_batch = data_inds[i:i+batch_size]\n",
    "                X_batch = X[inds_batch]\n",
    "                y_batch = y[inds_batch]\n",
    "                _, supervised_loss, one_hot_action_seq = sess.run([self.train_op, self.supervised_loss, self.one_hot_action_seq], feed_dict={self.inputs: X_batch, self.targets: y_batch})\n",
    "                supervised_loss_sum += supervised_loss * batch_size\n",
    "                reward_sum += env.get_reward(one_hot_action_seq)\n",
    "            \n",
    "            print(\"loss = %f\" % (supervised_loss_sum / n))\n",
    "            print(\"reward = %f\" % (reward_sum / n))\n",
    "            print()\n",
    "            \n",
    "            val_supervised_loss, val_one_hot_action_seq = sess.run([self.supervised_loss, self.one_hot_action_seq], feed_dict={self.inputs: val_X, self.targets: val_y})\n",
    "            print('val loss = %f' % (val_supervised_loss))\n",
    "            print('val reward = %f' % (env.get_reward(val_one_hot_action_seq) / val_n))\n",
    "            \n",
    "\n",
    "    def build_reinforce(self):\n",
    "        \n",
    "        assert self.training_mode == 'reinforce', 'Wrong training mode'\n",
    "        \n",
    "        \n",
    "        self.state_q_val_seq = tf.placeholder(tf.float32, shape = (None, self.J, self.J))\n",
    "        \n",
    "        self.reward_sum_values = tf.placeholder(tf.float32, shape = (None,))\n",
    "        self.advantage_values = tf.placeholder(tf.float32, shape = (None,))\n",
    "  \n",
    "        \n",
    "        self.action_taken = tf.placeholder(tf.int32, shape = (None, self.J))\n",
    "        unstacked_action_taken = tf.unstack(self.action_taken, axis = 1)\n",
    "        one_hot_action_taken_seq = [tf.one_hot(action, depth = self.J, dtype = tf.int32) for action in unstacked_action_taken]\n",
    "        \n",
    "        self.neg_log_p_seq = [tf.nn.sparse_softmax_cross_entropy_with_logits(labels=unstacked_action_taken[j],\n",
    "                                                    logits=self.policy_logit_seq[j]) for j in range(self.J)]\n",
    "        \n",
    "        neg_log_p_sums = tf.reduce_sum(self.neg_log_p_seq, axis = 0)\n",
    "        \n",
    "        \n",
    "        stacked_proba_seq = tf.stack(self.proba_seq, axis = 1)\n",
    "        \n",
    "        baseline = tf.einsum('ijk, ijk-> ij', self.state_q_val_seq, stacked_proba_seq)\n",
    "        baseline = tf.reduce_mean(baseline, axis = 1)\n",
    "        \n",
    "        #surrogate loss (- dtheta)\n",
    "        advantage = self.reward_sum_values - baseline\n",
    "    \n",
    "        self.reinforce_loss =  tf.multiply(neg_log_p_sums, self.advantage_values)\n",
    "        self.reinforce_loss += self.alpha * tf.square(advantage)\n",
    "        self.reinforce_loss = tf.reduce_sum(self.reinforce_loss, axis = 0)\n",
    "        \n",
    "        \n",
    "    def take_action(self, state):\n",
    "        \n",
    "        assert self.training_mode == 'reinforce', 'Wrong training mode'\n",
    "        \n",
    "        action_seq, proba_seq = self.sess.run([self.action_seq, self.proba_seq], {self.inputs: [state]})\n",
    "        \n",
    "        return [a[0,0] for a in action_seq], np.array(proba_seq)\n",
    "    \n",
    "    def reinforce_train(self, env, n_episodes, T):\n",
    "        \n",
    "        assert self.training_mode == 'reinforce', 'Wrong training mode'\n",
    "        \n",
    "        \n",
    "        history = {'reward' : [],  'loss': []}\n",
    "        \n",
    "        q_reward_sum = np.zeros((self.N, self.J))\n",
    "        q_state_action_count = np.zeros((self.N, self.J))\n",
    "        q_val = np.zeros((self.N, self.J))\n",
    "    \n",
    "        \n",
    "        for _ in tqdm(range(n_episodes), \"REINFORCE\"):\n",
    "            \n",
    "            # todo: change code to avoid this seq_seq name (sequence of sequence)\n",
    "            state_seq, action_seq, reward_seq, proba_seq = policy_rollout(T, env, commNet)\n",
    "            episode_len = reward_seq.shape[0]\n",
    "            \n",
    "            history['reward'].append(np.mean(reward_seq))\n",
    "        \n",
    "            state_q_val_seq = np.array([q_val[state] for state in state_seq])\n",
    "            \n",
    "            baseline = np.einsum('ijk, ijk-> ij', state_q_val_seq, proba_seq)\n",
    "            \n",
    "            baseline = baseline.mean(axis = 1)\n",
    "            \n",
    "            reward_sum_values = np.array([reward_seq[t:].sum() for t in range(episode_len)])\n",
    "            advantage_values = np.array([reward_sum_values[t] - baseline[t] for t in range(episode_len)])          \n",
    "            \n",
    "            \n",
    "            feed_dict = {}\n",
    "            feed_dict[self.inputs] = state_seq\n",
    "            feed_dict[self.state_q_val_seq] = state_q_val_seq\n",
    "            feed_dict[self.reward_sum_values] = reward_sum_values\n",
    "            feed_dict[self.advantage_values] = advantage_values\n",
    "            feed_dict[self.action_taken] = action_seq\n",
    "            \n",
    "            _, loss = self.sess.run([self.train_op, self.reinforce_loss], feed_dict = feed_dict)\n",
    "            \n",
    "            history['loss'].append(loss)  \n",
    "            \n",
    "            # udpate_q_val\n",
    "            for i in range(episode_len):\n",
    "                \n",
    "                state = state_seq[i]\n",
    "                action = action_seq[i]\n",
    "                \n",
    "                cummul_reward = reward_seq[i:].sum()\n",
    "                q_state_action_count[state, action] += 1\n",
    "                q_reward_sum[state, action] += cummul_reward\n",
    "            \n",
    "            q_val = q_reward_sum/np.maximum(1,q_state_action_count)\n",
    "            \n",
    "            \n",
    "        return history, q_val\n",
    "            \n",
    "            \n",
    "            \n",
    "            \n",
    "            \n",
    "            \n",
    "            \n",
    "        "
   ]
  },
  {
   "cell_type": "code",
   "execution_count": 38,
   "metadata": {},
   "outputs": [],
   "source": [
    "class LeverEnv:\n",
    "    \n",
    "    def __init__(self, N, J):\n",
    "        \n",
    "        self.J = J\n",
    "        self.N = N\n",
    "        \n",
    "    def reset(self):\n",
    "        \n",
    "        state = np.random.choice(self.N, size = self.J, replace = False)\n",
    "        \n",
    "        terminal_state = False\n",
    "        \n",
    "        return state, terminal_state\n",
    "    \n",
    "    def get_reward(self, one_hot_action_seq):        \n",
    "        \n",
    "        reward = np.sum(np.sum(one_hot_action_seq, axis = 0) > 0) /self.J\n",
    "        \n",
    "        return reward\n",
    "        \n",
    "    def step(self, state, action):\n",
    "        \n",
    "        next_state = np.random.choice(self.N, size = self.J, replace = False)\n",
    "        \n",
    "        one_hot_action_seq = np.zeros((self.J, self.J))\n",
    "        one_hot_action_seq[range(self.J), action] = 1\n",
    "        reward = self.get_reward(one_hot_action_seq)\n",
    "        \n",
    "        terminal_state = False\n",
    "        \n",
    "        return next_state, reward, terminal_state\n",
    "        "
   ]
  },
  {
   "cell_type": "code",
   "execution_count": 59,
   "metadata": {},
   "outputs": [],
   "source": [
    "# data generation for supervised learning\n",
    "def generate_data(n, N, J):\n",
    "    \n",
    "    X = np.empty((n, J), dtype = int)\n",
    "    y= np.empty((n,J), dtype = int)\n",
    "    \n",
    "    for i in range(n):\n",
    "        \n",
    "        X[i] = np.random.choice(N, size = J, replace = False)\n",
    "        y[i] = np.argsort(X[i])\n",
    "        \n",
    "    return X, y"
   ]
  },
  {
   "cell_type": "code",
   "execution_count": 60,
   "metadata": {},
   "outputs": [],
   "source": [
    "# episode generation for reinforcement learning\n",
    "def policy_rollout(T, env, agent):\n",
    "    \n",
    "    state_seq = []\n",
    "    action_seq = []\n",
    "    reward_seq = []\n",
    "    proba_seq = []\n",
    "    \n",
    "    \n",
    "    state, terminal_state = env.reset()\n",
    "    \n",
    "    t = 0\n",
    "    \n",
    "    while not terminal_state and t < T:\n",
    "        t +=1\n",
    "        \n",
    "        state_seq.append(state)\n",
    "        action, proba = agent.take_action(state)\n",
    "        \n",
    "        state, reward, terminal_state = env.step(state, action)\n",
    "        \n",
    "        \n",
    "        action_seq.append(action)\n",
    "        reward_seq.append(reward)\n",
    "        proba_seq.append(proba)\n",
    "        \n",
    "    return np.array(state_seq), np.array(action_seq), np.array(reward_seq), np.squeeze(np.array(proba_seq))"
   ]
  },
  {
   "cell_type": "code",
   "execution_count": 61,
   "metadata": {},
   "outputs": [],
   "source": [
    "N = 500\n",
    "J = 3\n",
    "batch_size = 32\n",
    "n = batch_size * 1000"
   ]
  },
  {
   "cell_type": "code",
   "execution_count": 62,
   "metadata": {},
   "outputs": [],
   "source": [
    "X, y = generate_data(n, N, J)\n",
    "val_X, val_y = generate_data(500, N, J)"
   ]
  },
  {
   "cell_type": "code",
   "execution_count": 63,
   "metadata": {
    "scrolled": true
   },
   "outputs": [
    {
     "name": "stdout",
     "output_type": "stream",
     "text": [
      "All variables\n",
      "<tf.Variable 'Encoder/identity_embeddings:0' shape=(500, 128) dtype=float32_ref>\n",
      "<tf.Variable 'Comm_step_1/b1:0' shape=(1, 128) dtype=float32_ref>\n",
      "<tf.Variable 'Comm_step_1/W1:0' shape=(256, 128) dtype=float32_ref>\n",
      "<tf.Variable 'Comm_step_1/W2:0' shape=(128, 128) dtype=float32_ref>\n",
      "<tf.Variable 'Comm_step_1/b2:0' shape=(1, 128) dtype=float32_ref>\n",
      "<tf.Variable 'Comm_step_2/b1:0' shape=(1, 128) dtype=float32_ref>\n",
      "<tf.Variable 'Comm_step_2/W1:0' shape=(384, 128) dtype=float32_ref>\n",
      "<tf.Variable 'Comm_step_2/W2:0' shape=(128, 128) dtype=float32_ref>\n",
      "<tf.Variable 'Comm_step_2/b2:0' shape=(1, 128) dtype=float32_ref>\n",
      "<tf.Variable 'Decoder/W:0' shape=(128, 3) dtype=float32_ref>\n",
      "<tf.Variable 'Decoder/b:0' shape=(1, 3) dtype=float32_ref>\n",
      "<tf.Variable 'Supervised_optimizer/beta1_power:0' shape=() dtype=float32_ref>\n",
      "<tf.Variable 'Supervised_optimizer/beta2_power:0' shape=() dtype=float32_ref>\n",
      "<tf.Variable 'Supervised_optimizer/Encoder/identity_embeddings/Adam:0' shape=(500, 128) dtype=float32_ref>\n",
      "<tf.Variable 'Supervised_optimizer/Encoder/identity_embeddings/Adam_1:0' shape=(500, 128) dtype=float32_ref>\n",
      "<tf.Variable 'Supervised_optimizer/Comm_step_1/b1/Adam:0' shape=(1, 128) dtype=float32_ref>\n",
      "<tf.Variable 'Supervised_optimizer/Comm_step_1/b1/Adam_1:0' shape=(1, 128) dtype=float32_ref>\n",
      "<tf.Variable 'Supervised_optimizer/Comm_step_1/W1/Adam:0' shape=(256, 128) dtype=float32_ref>\n",
      "<tf.Variable 'Supervised_optimizer/Comm_step_1/W1/Adam_1:0' shape=(256, 128) dtype=float32_ref>\n",
      "<tf.Variable 'Supervised_optimizer/Comm_step_1/W2/Adam:0' shape=(128, 128) dtype=float32_ref>\n",
      "<tf.Variable 'Supervised_optimizer/Comm_step_1/W2/Adam_1:0' shape=(128, 128) dtype=float32_ref>\n",
      "<tf.Variable 'Supervised_optimizer/Comm_step_1/b2/Adam:0' shape=(1, 128) dtype=float32_ref>\n",
      "<tf.Variable 'Supervised_optimizer/Comm_step_1/b2/Adam_1:0' shape=(1, 128) dtype=float32_ref>\n",
      "<tf.Variable 'Supervised_optimizer/Comm_step_2/b1/Adam:0' shape=(1, 128) dtype=float32_ref>\n",
      "<tf.Variable 'Supervised_optimizer/Comm_step_2/b1/Adam_1:0' shape=(1, 128) dtype=float32_ref>\n",
      "<tf.Variable 'Supervised_optimizer/Comm_step_2/W1/Adam:0' shape=(384, 128) dtype=float32_ref>\n",
      "<tf.Variable 'Supervised_optimizer/Comm_step_2/W1/Adam_1:0' shape=(384, 128) dtype=float32_ref>\n",
      "<tf.Variable 'Supervised_optimizer/Comm_step_2/W2/Adam:0' shape=(128, 128) dtype=float32_ref>\n",
      "<tf.Variable 'Supervised_optimizer/Comm_step_2/W2/Adam_1:0' shape=(128, 128) dtype=float32_ref>\n",
      "<tf.Variable 'Supervised_optimizer/Comm_step_2/b2/Adam:0' shape=(1, 128) dtype=float32_ref>\n",
      "<tf.Variable 'Supervised_optimizer/Comm_step_2/b2/Adam_1:0' shape=(1, 128) dtype=float32_ref>\n",
      "<tf.Variable 'Supervised_optimizer/Decoder/W/Adam:0' shape=(128, 3) dtype=float32_ref>\n",
      "<tf.Variable 'Supervised_optimizer/Decoder/W/Adam_1:0' shape=(128, 3) dtype=float32_ref>\n",
      "<tf.Variable 'Supervised_optimizer/Decoder/b/Adam:0' shape=(1, 3) dtype=float32_ref>\n",
      "<tf.Variable 'Supervised_optimizer/Decoder/b/Adam_1:0' shape=(1, 3) dtype=float32_ref>\n"
     ]
    },
    {
     "name": "stderr",
     "output_type": "stream",
     "text": [
      "Epoch: 1: 100%|███████████████████████████████████████████████████████████████████| 1000/1000 [00:08<00:00, 118.48it/s]\n"
     ]
    },
    {
     "name": "stdout",
     "output_type": "stream",
     "text": [
      "loss = 0.958269\n",
      "reward = 0.740688\n",
      "\n",
      "val loss = 0.951322\n",
      "val reward = 0.750667\n"
     ]
    },
    {
     "name": "stderr",
     "output_type": "stream",
     "text": [
      "Epoch: 2: 100%|███████████████████████████████████████████████████████████████████| 1000/1000 [00:07<00:00, 128.28it/s]\n"
     ]
    },
    {
     "name": "stdout",
     "output_type": "stream",
     "text": [
      "loss = 0.912195\n",
      "reward = 0.753563\n",
      "\n",
      "val loss = 0.950508\n",
      "val reward = 0.764667\n"
     ]
    },
    {
     "name": "stderr",
     "output_type": "stream",
     "text": [
      "Epoch: 3: 100%|███████████████████████████████████████████████████████████████████| 1000/1000 [00:07<00:00, 132.23it/s]\n"
     ]
    },
    {
     "name": "stdout",
     "output_type": "stream",
     "text": [
      "loss = 0.898543\n",
      "reward = 0.757719\n",
      "\n",
      "val loss = 0.940379\n",
      "val reward = 0.753333\n"
     ]
    },
    {
     "name": "stderr",
     "output_type": "stream",
     "text": [
      "Epoch: 4: 100%|███████████████████████████████████████████████████████████████████| 1000/1000 [00:07<00:00, 131.61it/s]\n"
     ]
    },
    {
     "name": "stdout",
     "output_type": "stream",
     "text": [
      "loss = 0.886771\n",
      "reward = 0.762479\n",
      "\n",
      "val loss = 0.938874\n",
      "val reward = 0.749333\n"
     ]
    },
    {
     "name": "stderr",
     "output_type": "stream",
     "text": [
      "Epoch: 5: 100%|███████████████████████████████████████████████████████████████████| 1000/1000 [00:08<00:00, 124.28it/s]\n"
     ]
    },
    {
     "name": "stdout",
     "output_type": "stream",
     "text": [
      "loss = 0.874831\n",
      "reward = 0.764229\n",
      "\n",
      "val loss = 0.955544\n",
      "val reward = 0.771333\n"
     ]
    },
    {
     "name": "stderr",
     "output_type": "stream",
     "text": [
      "Epoch: 6: 100%|███████████████████████████████████████████████████████████████████| 1000/1000 [00:07<00:00, 126.54it/s]\n"
     ]
    },
    {
     "name": "stdout",
     "output_type": "stream",
     "text": [
      "loss = 0.857208\n",
      "reward = 0.769406\n",
      "\n",
      "val loss = 0.965873\n",
      "val reward = 0.755333\n"
     ]
    },
    {
     "name": "stderr",
     "output_type": "stream",
     "text": [
      "Epoch: 7: 100%|███████████████████████████████████████████████████████████████████| 1000/1000 [00:07<00:00, 130.69it/s]\n"
     ]
    },
    {
     "name": "stdout",
     "output_type": "stream",
     "text": [
      "loss = 0.836705\n",
      "reward = 0.775125\n",
      "\n",
      "val loss = 0.973045\n",
      "val reward = 0.800000\n"
     ]
    },
    {
     "name": "stderr",
     "output_type": "stream",
     "text": [
      "Epoch: 8: 100%|███████████████████████████████████████████████████████████████████| 1000/1000 [00:07<00:00, 106.70it/s]\n"
     ]
    },
    {
     "name": "stdout",
     "output_type": "stream",
     "text": [
      "loss = 0.810875\n",
      "reward = 0.779698\n",
      "\n",
      "val loss = 0.991745\n",
      "val reward = 0.783333\n"
     ]
    },
    {
     "name": "stderr",
     "output_type": "stream",
     "text": [
      "Epoch: 9: 100%|███████████████████████████████████████████████████████████████████| 1000/1000 [00:07<00:00, 125.64it/s]\n"
     ]
    },
    {
     "name": "stdout",
     "output_type": "stream",
     "text": [
      "loss = 0.777414\n",
      "reward = 0.785937\n",
      "\n",
      "val loss = 1.034859\n",
      "val reward = 0.772667\n"
     ]
    },
    {
     "name": "stderr",
     "output_type": "stream",
     "text": [
      "Epoch: 10: 100%|██████████████████████████████████████████████████████████████████| 1000/1000 [00:07<00:00, 128.36it/s]\n"
     ]
    },
    {
     "name": "stdout",
     "output_type": "stream",
     "text": [
      "loss = 0.739056\n",
      "reward = 0.797583\n",
      "\n",
      "val loss = 1.062836\n",
      "val reward = 0.784667\n"
     ]
    },
    {
     "name": "stderr",
     "output_type": "stream",
     "text": [
      "Epoch: 11: 100%|██████████████████████████████████████████████████████████████████| 1000/1000 [00:07<00:00, 132.42it/s]\n"
     ]
    },
    {
     "name": "stdout",
     "output_type": "stream",
     "text": [
      "loss = 0.694408\n",
      "reward = 0.805375\n",
      "\n",
      "val loss = 1.124752\n",
      "val reward = 0.791333\n"
     ]
    },
    {
     "name": "stderr",
     "output_type": "stream",
     "text": [
      "Epoch: 12: 100%|██████████████████████████████████████████████████████████████████| 1000/1000 [00:07<00:00, 131.90it/s]\n"
     ]
    },
    {
     "name": "stdout",
     "output_type": "stream",
     "text": [
      "loss = 0.644262\n",
      "reward = 0.817562\n",
      "\n",
      "val loss = 1.237067\n",
      "val reward = 0.822667\n"
     ]
    },
    {
     "name": "stderr",
     "output_type": "stream",
     "text": [
      "Epoch: 13: 100%|██████████████████████████████████████████████████████████████████| 1000/1000 [00:07<00:00, 132.81it/s]\n"
     ]
    },
    {
     "name": "stdout",
     "output_type": "stream",
     "text": [
      "loss = 0.587624\n",
      "reward = 0.828833\n",
      "\n",
      "val loss = 1.340490\n",
      "val reward = 0.820667\n"
     ]
    },
    {
     "name": "stderr",
     "output_type": "stream",
     "text": [
      "Epoch: 14: 100%|██████████████████████████████████████████████████████████████████| 1000/1000 [00:07<00:00, 132.44it/s]\n"
     ]
    },
    {
     "name": "stdout",
     "output_type": "stream",
     "text": [
      "loss = 0.535959\n",
      "reward = 0.841521\n",
      "\n",
      "val loss = 1.451961\n",
      "val reward = 0.818000\n"
     ]
    },
    {
     "name": "stderr",
     "output_type": "stream",
     "text": [
      "Epoch: 15: 100%|██████████████████████████████████████████████████████████████████| 1000/1000 [00:07<00:00, 131.64it/s]\n"
     ]
    },
    {
     "name": "stdout",
     "output_type": "stream",
     "text": [
      "loss = 0.476522\n",
      "reward = 0.853667\n",
      "\n",
      "val loss = 1.519025\n",
      "val reward = 0.820667\n"
     ]
    },
    {
     "name": "stderr",
     "output_type": "stream",
     "text": [
      "Epoch: 16: 100%|██████████████████████████████████████████████████████████████████| 1000/1000 [00:07<00:00, 132.23it/s]\n"
     ]
    },
    {
     "name": "stdout",
     "output_type": "stream",
     "text": [
      "loss = 0.427613\n",
      "reward = 0.866781\n",
      "\n",
      "val loss = 1.635605\n",
      "val reward = 0.839333\n"
     ]
    },
    {
     "name": "stderr",
     "output_type": "stream",
     "text": [
      "Epoch: 17: 100%|██████████████████████████████████████████████████████████████████| 1000/1000 [00:07<00:00, 134.67it/s]\n"
     ]
    },
    {
     "name": "stdout",
     "output_type": "stream",
     "text": [
      "loss = 0.377175\n",
      "reward = 0.877719\n",
      "\n",
      "val loss = 1.851481\n",
      "val reward = 0.857333\n"
     ]
    },
    {
     "name": "stderr",
     "output_type": "stream",
     "text": [
      "Epoch: 18: 100%|██████████████████████████████████████████████████████████████████| 1000/1000 [00:07<00:00, 129.89it/s]\n"
     ]
    },
    {
     "name": "stdout",
     "output_type": "stream",
     "text": [
      "loss = 0.334701\n",
      "reward = 0.889979\n",
      "\n",
      "val loss = 2.052011\n",
      "val reward = 0.858000\n"
     ]
    },
    {
     "name": "stderr",
     "output_type": "stream",
     "text": [
      "Epoch: 19: 100%|██████████████████████████████████████████████████████████████████| 1000/1000 [00:07<00:00, 131.82it/s]\n"
     ]
    },
    {
     "name": "stdout",
     "output_type": "stream",
     "text": [
      "loss = 0.298881\n",
      "reward = 0.899573\n",
      "\n",
      "val loss = 2.231171\n",
      "val reward = 0.882000\n"
     ]
    },
    {
     "name": "stderr",
     "output_type": "stream",
     "text": [
      "Epoch: 20: 100%|██████████████████████████████████████████████████████████████████| 1000/1000 [00:07<00:00, 132.10it/s]\n"
     ]
    },
    {
     "name": "stdout",
     "output_type": "stream",
     "text": [
      "loss = 0.262009\n",
      "reward = 0.909385\n",
      "\n",
      "val loss = 2.388979\n",
      "val reward = 0.879333\n"
     ]
    },
    {
     "name": "stderr",
     "output_type": "stream",
     "text": [
      "Epoch: 21: 100%|██████████████████████████████████████████████████████████████████| 1000/1000 [00:07<00:00, 134.59it/s]\n"
     ]
    },
    {
     "name": "stdout",
     "output_type": "stream",
     "text": [
      "loss = 0.237004\n",
      "reward = 0.917635\n",
      "\n",
      "val loss = 2.419396\n",
      "val reward = 0.865333\n"
     ]
    },
    {
     "name": "stderr",
     "output_type": "stream",
     "text": [
      "Epoch: 22: 100%|██████████████████████████████████████████████████████████████████| 1000/1000 [00:07<00:00, 131.21it/s]\n"
     ]
    },
    {
     "name": "stdout",
     "output_type": "stream",
     "text": [
      "loss = 0.217600\n",
      "reward = 0.923271\n",
      "\n",
      "val loss = 2.615762\n",
      "val reward = 0.888000\n"
     ]
    },
    {
     "name": "stderr",
     "output_type": "stream",
     "text": [
      "Epoch: 23: 100%|██████████████████████████████████████████████████████████████████| 1000/1000 [00:07<00:00, 128.59it/s]\n"
     ]
    },
    {
     "name": "stdout",
     "output_type": "stream",
     "text": [
      "loss = 0.196278\n",
      "reward = 0.930198\n",
      "\n",
      "val loss = 2.704153\n",
      "val reward = 0.894000\n"
     ]
    },
    {
     "name": "stderr",
     "output_type": "stream",
     "text": [
      "Epoch: 24: 100%|██████████████████████████████████████████████████████████████████| 1000/1000 [00:07<00:00, 127.26it/s]\n"
     ]
    },
    {
     "name": "stdout",
     "output_type": "stream",
     "text": [
      "loss = 0.178634\n",
      "reward = 0.936260\n",
      "\n",
      "val loss = 2.772824\n",
      "val reward = 0.895333\n"
     ]
    },
    {
     "name": "stderr",
     "output_type": "stream",
     "text": [
      "Epoch: 25: 100%|██████████████████████████████████████████████████████████████████| 1000/1000 [00:07<00:00, 126.24it/s]\n"
     ]
    },
    {
     "name": "stdout",
     "output_type": "stream",
     "text": [
      "loss = 0.163033\n",
      "reward = 0.940198\n",
      "\n",
      "val loss = 2.858088\n",
      "val reward = 0.901333\n"
     ]
    },
    {
     "name": "stderr",
     "output_type": "stream",
     "text": [
      "Epoch: 26: 100%|██████████████████████████████████████████████████████████████████| 1000/1000 [00:07<00:00, 126.56it/s]\n"
     ]
    },
    {
     "name": "stdout",
     "output_type": "stream",
     "text": [
      "loss = 0.151979\n",
      "reward = 0.944604\n",
      "\n",
      "val loss = 2.993100\n",
      "val reward = 0.900000\n"
     ]
    },
    {
     "name": "stderr",
     "output_type": "stream",
     "text": [
      "Epoch: 27: 100%|██████████████████████████████████████████████████████████████████| 1000/1000 [00:07<00:00, 122.32it/s]\n"
     ]
    },
    {
     "name": "stdout",
     "output_type": "stream",
     "text": [
      "loss = 0.142891\n",
      "reward = 0.948979\n",
      "\n",
      "val loss = 2.958428\n",
      "val reward = 0.888000\n"
     ]
    },
    {
     "name": "stderr",
     "output_type": "stream",
     "text": [
      "Epoch: 28: 100%|██████████████████████████████████████████████████████████████████| 1000/1000 [00:07<00:00, 128.15it/s]\n"
     ]
    },
    {
     "name": "stdout",
     "output_type": "stream",
     "text": [
      "loss = 0.131046\n",
      "reward = 0.951573\n",
      "\n",
      "val loss = 3.236578\n",
      "val reward = 0.905333\n"
     ]
    },
    {
     "name": "stderr",
     "output_type": "stream",
     "text": [
      "Epoch: 29: 100%|██████████████████████████████████████████████████████████████████| 1000/1000 [00:08<00:00, 122.38it/s]\n"
     ]
    },
    {
     "name": "stdout",
     "output_type": "stream",
     "text": [
      "loss = 0.128227\n",
      "reward = 0.953313\n",
      "\n",
      "val loss = 3.284424\n",
      "val reward = 0.894667\n"
     ]
    },
    {
     "name": "stderr",
     "output_type": "stream",
     "text": [
      "Epoch: 30: 100%|██████████████████████████████████████████████████████████████████| 1000/1000 [00:07<00:00, 125.94it/s]\n"
     ]
    },
    {
     "name": "stdout",
     "output_type": "stream",
     "text": [
      "loss = 0.116195\n",
      "reward = 0.956073\n",
      "\n",
      "val loss = 3.403419\n",
      "val reward = 0.898000\n"
     ]
    }
   ],
   "source": [
    "tf.reset_default_graph()\n",
    "with tf.Session() as sess:\n",
    "    commNet = CommNet(sess, N, J, lr = 1e-3, embedding_size= 128, training_mode = 'supervised', alpha = 0.1)\n",
    "    env = LeverEnv(N, J)\n",
    "    commNet.supervised_train(X, y, val_X, val_y, env, batch_size = batch_size, epochs = 30)\n",
    "    \n",
    "    #history, q_val = commNet.reinforce_train(env, n_episodes = 5000, T = 7)\n",
    "    \n",
    "    rv = sess.run([commNet.embedded_identities, commNet.layers, commNet.policy_logit_seq, commNet.supervised_loss, commNet.action_seq, commNet.one_hot_action_seq], feed_dict={commNet.inputs: X_val[0:1], commNet.targets: y_val[0:1]})\n"
   ]
  },
  {
   "cell_type": "code",
   "execution_count": 64,
   "metadata": {},
   "outputs": [
    {
     "data": {
      "text/plain": [
       "array([[[-5.10748150e-03, -3.20997648e-02, -1.04814671e-01,\n",
       "         -2.27938145e-01, -5.02550155e-02, -4.41683643e-02,\n",
       "         -4.76616696e-02,  7.95302913e-02,  6.21396936e-02,\n",
       "         -2.30499320e-02, -1.11377783e-01, -1.75294772e-01,\n",
       "          9.23990756e-02,  1.61471993e-01, -1.95223987e-01,\n",
       "         -5.54309152e-02,  2.82358646e-01,  6.98827058e-02,\n",
       "         -7.15444088e-02,  2.04189450e-01, -5.23562372e-01,\n",
       "         -1.07234751e-03,  4.69769925e-01,  2.57480323e-01,\n",
       "          1.97885931e-01,  1.92171976e-01, -7.03487992e-02,\n",
       "          1.46886647e-01, -2.13827774e-01,  7.34612020e-03,\n",
       "         -3.16562876e-02, -4.47391905e-03,  1.97891429e-01,\n",
       "         -3.43837708e-01,  2.40249798e-01,  1.69338614e-01,\n",
       "          2.11372390e-01,  8.56575519e-02, -5.10145128e-01,\n",
       "          2.55431861e-01,  2.52566487e-01, -7.67974257e-02,\n",
       "         -8.91311169e-02,  8.75707865e-02,  3.53021664e-03,\n",
       "         -1.47335947e-01,  3.47888350e-01,  2.61123657e-01,\n",
       "         -5.71802892e-02,  2.04764120e-02,  1.14856906e-01,\n",
       "          1.14198007e-01,  5.57840914e-02, -1.02296822e-01,\n",
       "          1.09514579e-01,  1.54900312e-01,  3.74944836e-01,\n",
       "          3.72026605e-03,  1.88126132e-01,  4.17670198e-02,\n",
       "         -1.12546757e-01, -1.15125231e-01, -3.69914100e-02,\n",
       "          4.62620854e-01,  2.30787337e-01,  8.14186782e-02,\n",
       "         -4.27377550e-03,  7.19142556e-02, -3.17467861e-02,\n",
       "          2.32592106e-01,  1.39855951e-01, -2.32475415e-01,\n",
       "         -3.73072810e-02, -5.23791946e-02,  1.12536147e-01,\n",
       "         -1.35942087e-01, -1.32218570e-01, -2.02169403e-01,\n",
       "          3.34019780e-01,  2.16452599e-01,  2.31633727e-02,\n",
       "          9.36622918e-02, -1.94416184e-03,  1.27063626e-02,\n",
       "          2.50924099e-02,  1.66668072e-01, -1.18800977e-04,\n",
       "         -2.78498113e-01,  1.27817905e-02,  3.74475211e-01,\n",
       "          1.88120782e-01,  2.25132048e-01,  6.72004223e-02,\n",
       "         -1.95023343e-01,  1.23309590e-01, -1.37834370e-01,\n",
       "          1.84567831e-02, -2.09129173e-02, -1.84419632e-01,\n",
       "         -4.12123799e-02,  3.04367095e-01, -7.05743805e-02,\n",
       "         -5.53004928e-02,  5.60174622e-02,  1.03729837e-01,\n",
       "         -1.66578561e-01,  3.65378074e-02,  4.67684702e-04,\n",
       "          2.13651299e-01, -8.88444409e-02, -2.29428366e-01,\n",
       "         -4.06402290e-01, -1.44289717e-01,  3.22727934e-02,\n",
       "         -1.46648111e-02,  2.24327352e-02,  2.08640546e-02,\n",
       "          1.68636069e-02,  1.86869279e-02,  9.11271870e-02,\n",
       "         -1.65771708e-01,  1.26912594e-01, -8.62491224e-03,\n",
       "          7.83022940e-02, -9.89718959e-02, -1.28363714e-01,\n",
       "          1.17707346e-02,  1.00115351e-01],\n",
       "        [ 6.20580874e-02,  2.54607588e-01, -7.12763295e-02,\n",
       "          2.58668475e-02, -1.52546972e-01, -8.31518322e-04,\n",
       "         -1.73565149e-02,  1.49246484e-01, -2.83455133e-01,\n",
       "          2.91078717e-01,  1.78903729e-01, -7.92460069e-02,\n",
       "         -2.81345323e-02, -1.20569795e-01, -1.07329600e-01,\n",
       "         -1.29073719e-02,  2.76051193e-01,  1.37816519e-01,\n",
       "          9.56511497e-02, -2.79955477e-01, -7.31759742e-02,\n",
       "          1.58017322e-01,  1.31197441e-02,  3.12698871e-01,\n",
       "          1.66992649e-01,  3.09016645e-01,  2.36896053e-01,\n",
       "          1.46160826e-01, -9.21361297e-02, -2.30373651e-01,\n",
       "         -6.52936623e-02,  6.58182353e-02,  3.57653230e-01,\n",
       "          2.52520964e-02, -6.70093372e-02,  2.04037368e-01,\n",
       "         -5.04682243e-01, -3.11821967e-01, -7.73370862e-02,\n",
       "         -1.47637531e-01,  3.28532346e-02,  3.11880037e-02,\n",
       "          1.33710265e-01,  2.27182209e-01,  9.41087976e-02,\n",
       "          9.55468789e-02,  1.64168194e-01, -4.31135446e-02,\n",
       "         -2.80284196e-01, -6.95031211e-02, -2.80635566e-01,\n",
       "          5.16550131e-02,  9.68481153e-02, -1.57111913e-01,\n",
       "          1.94523260e-01,  6.50916696e-02, -1.86081715e-02,\n",
       "          7.44386390e-02, -1.43118843e-01,  8.13764185e-02,\n",
       "          2.53974169e-01,  2.34525353e-02, -3.79827470e-01,\n",
       "          1.84620455e-01,  1.94066256e-01,  1.06165841e-01,\n",
       "          1.04096249e-01,  9.48402192e-03,  3.91418546e-01,\n",
       "         -1.02047972e-01,  2.21566156e-01,  5.63407987e-02,\n",
       "         -1.63779378e-01, -5.59554026e-02, -1.77405894e-01,\n",
       "         -5.32379784e-02,  3.59322578e-02, -2.11063132e-01,\n",
       "          6.76091388e-02,  1.14899300e-01, -1.58330787e-03,\n",
       "          1.26705274e-01, -3.65114063e-02,  6.96056411e-02,\n",
       "          7.46510550e-02, -6.97130114e-02,  9.14548151e-03,\n",
       "          1.16696544e-01, -1.19827926e-01, -3.15263778e-01,\n",
       "          2.92278111e-01,  7.01960027e-02, -2.22981915e-01,\n",
       "          1.99858584e-02,  3.35189700e-01, -1.29127443e-01,\n",
       "          1.47143351e-02,  1.15660876e-01,  6.11827672e-02,\n",
       "          1.26848772e-01,  5.63990921e-02,  7.57706002e-04,\n",
       "         -2.54989803e-01, -7.82213882e-02, -1.18593745e-01,\n",
       "         -2.11246744e-01,  1.94119185e-01,  1.33651765e-02,\n",
       "          2.04574227e-01, -1.78690612e-01,  2.21884213e-02,\n",
       "          2.38476142e-01, -1.86117798e-01, -2.03836992e-01,\n",
       "         -1.46655917e-01, -9.00841802e-02,  2.72207737e-01,\n",
       "         -8.72711558e-03, -2.93105990e-01, -2.18175948e-01,\n",
       "          9.88789350e-02, -1.70871347e-01, -7.29852393e-02,\n",
       "         -2.06883624e-01, -8.37403461e-02,  5.50899245e-02,\n",
       "         -4.50160913e-02, -1.82580911e-02],\n",
       "        [-8.63783807e-02,  4.23011696e-03,  3.37769061e-01,\n",
       "         -2.90167660e-01,  1.62157807e-02,  4.85355081e-03,\n",
       "          9.82706472e-02,  2.31417012e-03, -1.60280108e-01,\n",
       "          2.92998105e-01,  4.79167886e-02,  2.09447369e-01,\n",
       "         -1.86019182e-01,  5.24033047e-02,  1.90273196e-01,\n",
       "          1.35693297e-01, -3.42748851e-01,  2.27594167e-01,\n",
       "          3.54319103e-02, -3.64563078e-01,  1.14822416e-02,\n",
       "         -1.04657926e-01, -9.97429620e-03, -2.74810702e-01,\n",
       "          1.06803320e-01, -1.21627189e-01,  1.65232182e-01,\n",
       "         -1.12673896e-03, -1.74076427e-02,  9.21431258e-02,\n",
       "          8.45707804e-02,  9.77868065e-02,  8.83787647e-02,\n",
       "          1.12956189e-01,  1.67708192e-02, -3.00863564e-01,\n",
       "         -4.20829952e-02, -8.99331868e-02,  8.75133052e-02,\n",
       "          1.97168767e-01,  1.53016537e-01,  1.04607329e-01,\n",
       "          2.29106754e-01, -2.57825911e-01,  8.71164948e-02,\n",
       "          3.36879827e-02, -2.19309792e-01, -2.63529599e-01,\n",
       "          2.01371416e-01,  4.74566184e-02,  3.26646529e-02,\n",
       "         -3.90241817e-02, -6.53691739e-02, -1.62686050e-01,\n",
       "         -1.41946420e-01, -1.95164651e-01,  3.48188847e-01,\n",
       "         -1.36112213e-01, -2.80574467e-02, -2.46401370e-01,\n",
       "          3.46253738e-02,  2.81231761e-01,  1.08161718e-01,\n",
       "          2.46820599e-01, -1.47813827e-01, -2.95826029e-02,\n",
       "          2.73821387e-03, -1.55065820e-01,  6.28730878e-02,\n",
       "          5.36912680e-02,  1.46237165e-01, -1.24649949e-01,\n",
       "         -1.15554489e-01, -1.88442528e-01, -4.56527136e-02,\n",
       "         -9.21913013e-02,  1.39936000e-01,  6.38154969e-02,\n",
       "          5.44243045e-02,  3.07550449e-02,  2.71572322e-01,\n",
       "          3.89197990e-02, -3.57221253e-02, -3.20380903e-03,\n",
       "          2.14008868e-01, -7.81713054e-02, -8.53237975e-03,\n",
       "          4.16934609e-01,  7.96582103e-02,  5.78187220e-03,\n",
       "          1.53576452e-02, -4.65899445e-02,  3.99321347e-01,\n",
       "          1.36305884e-01, -2.56378174e-01,  2.47242048e-01,\n",
       "          9.26497430e-02, -1.48705781e-01,  3.27494979e-01,\n",
       "          7.40002084e-04,  2.12298393e-01,  1.49053216e-01,\n",
       "          1.96771830e-01,  1.30394340e-01,  6.22775033e-02,\n",
       "         -2.29681939e-01,  1.10341705e-01,  1.92006782e-01,\n",
       "          1.87920779e-01, -7.20445439e-02,  5.18170698e-03,\n",
       "         -1.87646255e-01, -3.94083321e-01, -3.26879978e-01,\n",
       "         -3.12104560e-02, -4.09523994e-01, -7.89475664e-02,\n",
       "          1.72848612e-01, -8.77548475e-03, -1.30366370e-01,\n",
       "         -1.17242843e-01,  2.34405011e-01, -2.43025318e-01,\n",
       "         -1.86907962e-01,  1.48905441e-01,  8.73905271e-02,\n",
       "          2.92054117e-01, -3.86978269e-01]]], dtype=float32)"
      ]
     },
     "execution_count": 64,
     "metadata": {},
     "output_type": "execute_result"
    }
   ],
   "source": [
    "rv[0]"
   ]
  },
  {
   "cell_type": "code",
   "execution_count": 65,
   "metadata": {},
   "outputs": [
    {
     "name": "stdout",
     "output_type": "stream",
     "text": [
      "\n",
      "h0_seq\n",
      "[array([[-5.10748150e-03, -3.20997648e-02, -1.04814671e-01,\n",
      "        -2.27938145e-01, -5.02550155e-02, -4.41683643e-02,\n",
      "        -4.76616696e-02,  7.95302913e-02,  6.21396936e-02,\n",
      "        -2.30499320e-02, -1.11377783e-01, -1.75294772e-01,\n",
      "         9.23990756e-02,  1.61471993e-01, -1.95223987e-01,\n",
      "        -5.54309152e-02,  2.82358646e-01,  6.98827058e-02,\n",
      "        -7.15444088e-02,  2.04189450e-01, -5.23562372e-01,\n",
      "        -1.07234751e-03,  4.69769925e-01,  2.57480323e-01,\n",
      "         1.97885931e-01,  1.92171976e-01, -7.03487992e-02,\n",
      "         1.46886647e-01, -2.13827774e-01,  7.34612020e-03,\n",
      "        -3.16562876e-02, -4.47391905e-03,  1.97891429e-01,\n",
      "        -3.43837708e-01,  2.40249798e-01,  1.69338614e-01,\n",
      "         2.11372390e-01,  8.56575519e-02, -5.10145128e-01,\n",
      "         2.55431861e-01,  2.52566487e-01, -7.67974257e-02,\n",
      "        -8.91311169e-02,  8.75707865e-02,  3.53021664e-03,\n",
      "        -1.47335947e-01,  3.47888350e-01,  2.61123657e-01,\n",
      "        -5.71802892e-02,  2.04764120e-02,  1.14856906e-01,\n",
      "         1.14198007e-01,  5.57840914e-02, -1.02296822e-01,\n",
      "         1.09514579e-01,  1.54900312e-01,  3.74944836e-01,\n",
      "         3.72026605e-03,  1.88126132e-01,  4.17670198e-02,\n",
      "        -1.12546757e-01, -1.15125231e-01, -3.69914100e-02,\n",
      "         4.62620854e-01,  2.30787337e-01,  8.14186782e-02,\n",
      "        -4.27377550e-03,  7.19142556e-02, -3.17467861e-02,\n",
      "         2.32592106e-01,  1.39855951e-01, -2.32475415e-01,\n",
      "        -3.73072810e-02, -5.23791946e-02,  1.12536147e-01,\n",
      "        -1.35942087e-01, -1.32218570e-01, -2.02169403e-01,\n",
      "         3.34019780e-01,  2.16452599e-01,  2.31633727e-02,\n",
      "         9.36622918e-02, -1.94416184e-03,  1.27063626e-02,\n",
      "         2.50924099e-02,  1.66668072e-01, -1.18800977e-04,\n",
      "        -2.78498113e-01,  1.27817905e-02,  3.74475211e-01,\n",
      "         1.88120782e-01,  2.25132048e-01,  6.72004223e-02,\n",
      "        -1.95023343e-01,  1.23309590e-01, -1.37834370e-01,\n",
      "         1.84567831e-02, -2.09129173e-02, -1.84419632e-01,\n",
      "        -4.12123799e-02,  3.04367095e-01, -7.05743805e-02,\n",
      "        -5.53004928e-02,  5.60174622e-02,  1.03729837e-01,\n",
      "        -1.66578561e-01,  3.65378074e-02,  4.67684702e-04,\n",
      "         2.13651299e-01, -8.88444409e-02, -2.29428366e-01,\n",
      "        -4.06402290e-01, -1.44289717e-01,  3.22727934e-02,\n",
      "        -1.46648111e-02,  2.24327352e-02,  2.08640546e-02,\n",
      "         1.68636069e-02,  1.86869279e-02,  9.11271870e-02,\n",
      "        -1.65771708e-01,  1.26912594e-01, -8.62491224e-03,\n",
      "         7.83022940e-02, -9.89718959e-02, -1.28363714e-01,\n",
      "         1.17707346e-02,  1.00115351e-01]], dtype=float32), array([[ 0.06205809,  0.2546076 , -0.07127633,  0.02586685, -0.15254697,\n",
      "        -0.00083152, -0.01735651,  0.14924648, -0.28345513,  0.29107872,\n",
      "         0.17890373, -0.07924601, -0.02813453, -0.1205698 , -0.1073296 ,\n",
      "        -0.01290737,  0.2760512 ,  0.13781652,  0.09565115, -0.27995548,\n",
      "        -0.07317597,  0.15801732,  0.01311974,  0.31269887,  0.16699265,\n",
      "         0.30901664,  0.23689605,  0.14616083, -0.09213613, -0.23037365,\n",
      "        -0.06529366,  0.06581824,  0.35765323,  0.0252521 , -0.06700934,\n",
      "         0.20403737, -0.50468224, -0.31182197, -0.07733709, -0.14763753,\n",
      "         0.03285323,  0.031188  ,  0.13371027,  0.22718221,  0.0941088 ,\n",
      "         0.09554688,  0.1641682 , -0.04311354, -0.2802842 , -0.06950312,\n",
      "        -0.28063557,  0.05165501,  0.09684812, -0.15711191,  0.19452326,\n",
      "         0.06509167, -0.01860817,  0.07443864, -0.14311884,  0.08137642,\n",
      "         0.25397417,  0.02345254, -0.37982747,  0.18462045,  0.19406626,\n",
      "         0.10616584,  0.10409625,  0.00948402,  0.39141855, -0.10204797,\n",
      "         0.22156616,  0.0563408 , -0.16377938, -0.0559554 , -0.1774059 ,\n",
      "        -0.05323798,  0.03593226, -0.21106313,  0.06760914,  0.1148993 ,\n",
      "        -0.00158331,  0.12670527, -0.03651141,  0.06960564,  0.07465106,\n",
      "        -0.06971301,  0.00914548,  0.11669654, -0.11982793, -0.31526378,\n",
      "         0.2922781 ,  0.070196  , -0.22298191,  0.01998586,  0.3351897 ,\n",
      "        -0.12912744,  0.01471434,  0.11566088,  0.06118277,  0.12684877,\n",
      "         0.05639909,  0.00075771, -0.2549898 , -0.07822139, -0.11859374,\n",
      "        -0.21124674,  0.19411919,  0.01336518,  0.20457423, -0.17869061,\n",
      "         0.02218842,  0.23847614, -0.1861178 , -0.20383699, -0.14665592,\n",
      "        -0.09008418,  0.27220774, -0.00872712, -0.293106  , -0.21817595,\n",
      "         0.09887893, -0.17087135, -0.07298524, -0.20688362, -0.08374035,\n",
      "         0.05508992, -0.04501609, -0.01825809]], dtype=float32), array([[-0.08637838,  0.00423012,  0.33776906, -0.29016766,  0.01621578,\n",
      "         0.00485355,  0.09827065,  0.00231417, -0.16028011,  0.2929981 ,\n",
      "         0.04791679,  0.20944737, -0.18601918,  0.0524033 ,  0.1902732 ,\n",
      "         0.1356933 , -0.34274885,  0.22759417,  0.03543191, -0.36456308,\n",
      "         0.01148224, -0.10465793, -0.0099743 , -0.2748107 ,  0.10680332,\n",
      "        -0.12162719,  0.16523218, -0.00112674, -0.01740764,  0.09214313,\n",
      "         0.08457078,  0.09778681,  0.08837876,  0.11295619,  0.01677082,\n",
      "        -0.30086356, -0.042083  , -0.08993319,  0.08751331,  0.19716877,\n",
      "         0.15301654,  0.10460733,  0.22910675, -0.2578259 ,  0.08711649,\n",
      "         0.03368798, -0.21930979, -0.2635296 ,  0.20137142,  0.04745662,\n",
      "         0.03266465, -0.03902418, -0.06536917, -0.16268605, -0.14194642,\n",
      "        -0.19516465,  0.34818885, -0.13611221, -0.02805745, -0.24640137,\n",
      "         0.03462537,  0.28123176,  0.10816172,  0.2468206 , -0.14781383,\n",
      "        -0.0295826 ,  0.00273821, -0.15506582,  0.06287309,  0.05369127,\n",
      "         0.14623716, -0.12464995, -0.11555449, -0.18844253, -0.04565271,\n",
      "        -0.0921913 ,  0.139936  ,  0.0638155 ,  0.0544243 ,  0.03075504,\n",
      "         0.27157232,  0.0389198 , -0.03572213, -0.00320381,  0.21400887,\n",
      "        -0.07817131, -0.00853238,  0.4169346 ,  0.07965821,  0.00578187,\n",
      "         0.01535765, -0.04658994,  0.39932135,  0.13630588, -0.25637817,\n",
      "         0.24724205,  0.09264974, -0.14870578,  0.32749498,  0.00074   ,\n",
      "         0.2122984 ,  0.14905322,  0.19677183,  0.13039434,  0.0622775 ,\n",
      "        -0.22968194,  0.11034171,  0.19200678,  0.18792078, -0.07204454,\n",
      "         0.00518171, -0.18764625, -0.39408332, -0.32687998, -0.03121046,\n",
      "        -0.409524  , -0.07894757,  0.17284861, -0.00877548, -0.13036637,\n",
      "        -0.11724284,  0.23440501, -0.24302532, -0.18690796,  0.14890544,\n",
      "         0.08739053,  0.29205412, -0.38697827]], dtype=float32)]\n",
      "\n",
      "c0_seq\n",
      "[array([[-1.21601466e-02,  1.29418850e-01,  1.33246362e-01,\n",
      "        -1.32150412e-01, -6.81655928e-02,  2.01101624e-03,\n",
      "         4.04570661e-02,  7.57803246e-02, -2.21867621e-01,\n",
      "         2.92038411e-01,  1.13410257e-01,  6.51006848e-02,\n",
      "        -1.07076854e-01, -3.40832472e-02,  4.14717980e-02,\n",
      "         6.13929629e-02, -3.33488286e-02,  1.82705343e-01,\n",
      "         6.55415282e-02, -3.22259277e-01, -3.08468658e-02,\n",
      "         2.66796984e-02,  1.57272397e-03,  1.89440846e-02,\n",
      "         1.36897981e-01,  9.36947316e-02,  2.01064110e-01,\n",
      "         7.25170448e-02, -5.47718853e-02, -6.91152662e-02,\n",
      "         9.63855907e-03,  8.18025172e-02,  2.23015994e-01,\n",
      "         6.91041425e-02, -2.51192600e-02, -4.84130979e-02,\n",
      "        -2.73382604e-01, -2.00877577e-01,  5.08810952e-03,\n",
      "         2.47656181e-02,  9.29348841e-02,  6.78976625e-02,\n",
      "         1.81408510e-01, -1.53218508e-02,  9.06126499e-02,\n",
      "         6.46174327e-02, -2.75707990e-02, -1.53321564e-01,\n",
      "        -3.94563898e-02, -1.10232513e-02, -1.23985454e-01,\n",
      "         6.31541573e-03,  1.57394707e-02, -1.59898981e-01,\n",
      "         2.62884200e-02, -6.50364906e-02,  1.64790332e-01,\n",
      "        -3.08367871e-02, -8.55881423e-02, -8.25124756e-02,\n",
      "         1.44299775e-01,  1.52342141e-01, -1.35832876e-01,\n",
      "         2.15720534e-01,  2.31262147e-02,  3.82916182e-02,\n",
      "         5.34172319e-02, -7.27908984e-02,  2.27145821e-01,\n",
      "        -2.41783522e-02,  1.83901668e-01, -3.41545753e-02,\n",
      "        -1.39666930e-01, -1.22198969e-01, -1.11529306e-01,\n",
      "        -7.27146417e-02,  8.79341289e-02, -7.36238211e-02,\n",
      "         6.10167235e-02,  7.28271753e-02,  1.34994507e-01,\n",
      "         8.28125328e-02, -3.61167639e-02,  3.32009159e-02,\n",
      "         1.44329965e-01, -7.39421546e-02,  3.06550879e-04,\n",
      "         2.66815573e-01, -2.00848579e-02, -1.54740959e-01,\n",
      "         1.53817877e-01,  1.18030291e-02,  8.81697163e-02,\n",
      "         7.81458691e-02,  3.94057631e-02,  5.90573028e-02,\n",
      "         5.36820404e-02, -1.65224522e-02,  1.94338873e-01,\n",
      "         6.37943894e-02,  1.34348750e-01,  7.49054626e-02,\n",
      "        -2.91089863e-02,  2.60864757e-02, -2.81581208e-02,\n",
      "        -2.20464349e-01,  1.52230442e-01,  1.02685980e-01,\n",
      "         1.96247503e-01, -1.25367582e-01,  1.36850644e-02,\n",
      "         2.54149437e-02, -2.90100574e-01, -2.65358478e-01,\n",
      "        -8.89331847e-02, -2.49804080e-01,  9.66300815e-02,\n",
      "         8.20607468e-02, -1.50940731e-01, -1.74271166e-01,\n",
      "        -9.18195397e-03,  3.17668319e-02, -1.58005282e-01,\n",
      "        -1.96895793e-01,  3.25825475e-02,  7.12402239e-02,\n",
      "         1.23519011e-01, -2.02618182e-01]], dtype=float32), array([[-0.04574293, -0.01393482,  0.11647719, -0.2590529 , -0.01701962,\n",
      "        -0.01965741,  0.02530449,  0.04092223, -0.04907021,  0.13497409,\n",
      "        -0.0317305 ,  0.0170763 , -0.04681005,  0.10693765, -0.0024754 ,\n",
      "         0.04013119, -0.0301951 ,  0.14873844, -0.01805625, -0.08018681,\n",
      "        -0.25604007, -0.05286514,  0.22989781, -0.00866519,  0.15234463,\n",
      "         0.03527239,  0.04744169,  0.07287996, -0.11561771,  0.04974462,\n",
      "         0.02645725,  0.04665644,  0.1431351 , -0.11544076,  0.12851031,\n",
      "        -0.06576248,  0.0846447 , -0.00213782, -0.21131591,  0.22630031,\n",
      "         0.20279151,  0.01390495,  0.06998782, -0.08512756,  0.04532336,\n",
      "        -0.05682398,  0.06428928, -0.00120297,  0.07209557,  0.03396652,\n",
      "         0.07376078,  0.03758691, -0.00479254, -0.13249144, -0.01621592,\n",
      "        -0.02013217,  0.36156684, -0.06619597,  0.08003435, -0.10231718,\n",
      "        -0.03896069,  0.08305326,  0.03558515,  0.3547207 ,  0.04148676,\n",
      "         0.02591804, -0.00076778, -0.04157578,  0.01556315,  0.14314169,\n",
      "         0.14304656, -0.17856269, -0.07643089, -0.12041086,  0.03344171,\n",
      "        -0.11406669,  0.00385872, -0.06917696,  0.19422205,  0.12360382,\n",
      "         0.14736785,  0.06629105, -0.01883314,  0.00475128,  0.11955064,\n",
      "         0.04424838, -0.00432559,  0.06921825,  0.04622   ,  0.19012854,\n",
      "         0.10173921,  0.08927105,  0.23326088, -0.02935873, -0.0665343 ,\n",
      "         0.05470384,  0.05555326, -0.08480935,  0.07153767, -0.02023619,\n",
      "         0.25833273,  0.03923942,  0.07073567,  0.0932059 ,  0.08300367,\n",
      "        -0.19813025,  0.07343975,  0.09623723,  0.20078604, -0.08044449,\n",
      "        -0.11212333, -0.29702428, -0.26918653, -0.1473036 , -0.02293763,\n",
      "        -0.19354562, -0.02904176,  0.09485611,  0.00495572, -0.01961959,\n",
      "        -0.14150727,  0.1806588 , -0.12582512, -0.05430283,  0.02496677,\n",
      "        -0.02048659,  0.15191242, -0.14343145]], dtype=float32), array([[ 0.0284753 ,  0.11125391, -0.0880455 , -0.10103565, -0.10140099,\n",
      "        -0.02249994, -0.03250909,  0.11438839, -0.11065772,  0.1340144 ,\n",
      "         0.03376297, -0.12727039,  0.03213227,  0.0204511 , -0.1512768 ,\n",
      "        -0.03416914,  0.2792049 ,  0.10384961,  0.01205337, -0.03788301,\n",
      "        -0.29836917,  0.07847249,  0.24144484,  0.2850896 ,  0.1824393 ,\n",
      "         0.25059432,  0.08327363,  0.14652374, -0.15298195, -0.11151376,\n",
      "        -0.04847497,  0.03067216,  0.27777234, -0.1592928 ,  0.08662023,\n",
      "         0.18668799, -0.14665493, -0.11308221, -0.2937411 ,  0.05389716,\n",
      "         0.14270987, -0.02280471,  0.02228957,  0.1573765 ,  0.04881951,\n",
      "        -0.02589453,  0.25602826,  0.10900506, -0.16873224, -0.02451335,\n",
      "        -0.08288933,  0.08292651,  0.0763161 , -0.12970437,  0.15201892,\n",
      "         0.10999599,  0.17816833,  0.03907945,  0.02250364,  0.06157172,\n",
      "         0.07071371, -0.04583635, -0.20840944,  0.32362065,  0.2124268 ,\n",
      "         0.09379226,  0.04991124,  0.04069914,  0.17983589,  0.06527206,\n",
      "         0.18071106, -0.08806731, -0.10054333, -0.0541673 , -0.03243487,\n",
      "        -0.09459003, -0.04814316, -0.20661627,  0.20081446,  0.16567595,\n",
      "         0.01079003,  0.11018378, -0.01922778,  0.041156  ,  0.04987173,\n",
      "         0.04847753,  0.00451334, -0.08090079, -0.05352307,  0.02960572,\n",
      "         0.24019945,  0.14766403, -0.07789075, -0.08751874,  0.22924964,\n",
      "        -0.1334809 ,  0.01658556,  0.04737398, -0.06161843,  0.0428182 ,\n",
      "         0.18038309, -0.03490834, -0.15514515, -0.01110196, -0.00743195,\n",
      "        -0.18891266,  0.1153285 ,  0.00691643,  0.20911276, -0.13376753,\n",
      "        -0.10361997, -0.08396307, -0.16520375, -0.0857821 , -0.08066037,\n",
      "        -0.03382572,  0.1465359 ,  0.00406825, -0.13720953, -0.06352438,\n",
      "        -0.03344639, -0.02197938, -0.04080508, -0.06429067, -0.09135612,\n"
     ]
    },
    {
     "name": "stdout",
     "output_type": "stream",
     "text": [
      "        -0.0366369 , -0.01662268,  0.04092863]], dtype=float32)]\n",
      "\n",
      "h1_seq\n",
      "[array([[0.18914533, 0.        , 0.        , 0.        , 0.        ,\n",
      "        0.        , 0.        , 0.1113388 , 0.        , 0.        ,\n",
      "        0.        , 0.        , 0.        , 0.        , 0.00630035,\n",
      "        0.        , 0.        , 0.        , 0.65145993, 0.        ,\n",
      "        0.        , 0.        , 0.        , 0.        , 0.        ,\n",
      "        0.1571116 , 0.        , 0.        , 0.        , 0.        ,\n",
      "        0.        , 0.        , 0.        , 0.        , 0.        ,\n",
      "        0.        , 0.        , 0.        , 0.12746245, 0.        ,\n",
      "        0.        , 0.        , 0.        , 0.        , 0.        ,\n",
      "        0.        , 0.        , 0.        , 0.        , 0.        ,\n",
      "        0.        , 0.        , 0.        , 0.18780066, 0.        ,\n",
      "        0.        , 0.        , 0.        , 0.        , 0.        ,\n",
      "        0.        , 0.        , 0.        , 0.        , 0.        ,\n",
      "        0.        , 0.00480404, 0.        , 0.        , 0.        ,\n",
      "        0.        , 0.        , 0.        , 0.        , 0.        ,\n",
      "        0.        , 0.        , 0.        , 0.        , 0.21618383,\n",
      "        0.13221344, 0.        , 0.        , 0.        , 0.        ,\n",
      "        0.        , 0.03458275, 0.        , 0.        , 0.        ,\n",
      "        0.        , 0.40898123, 0.        , 0.        , 0.        ,\n",
      "        0.        , 0.        , 0.        , 0.        , 0.        ,\n",
      "        0.        , 0.        , 0.        , 0.        , 0.        ,\n",
      "        0.        , 0.        , 0.        , 0.        , 0.        ,\n",
      "        0.        , 0.        , 0.        , 0.        , 0.        ,\n",
      "        0.07122348, 0.        , 0.        , 0.        , 0.        ,\n",
      "        0.        , 0.        , 0.        , 0.        , 0.        ,\n",
      "        0.        , 0.        , 0.        ]], dtype=float32), array([[0.04169723, 0.        , 0.        , 0.        , 0.        ,\n",
      "        0.        , 0.        , 0.02907237, 0.        , 0.        ,\n",
      "        0.        , 0.        , 0.5349439 , 0.        , 0.        ,\n",
      "        0.        , 0.        , 0.        , 0.        , 0.        ,\n",
      "        0.13168511, 0.        , 0.        , 0.        , 0.        ,\n",
      "        0.        , 0.        , 0.        , 0.        , 0.        ,\n",
      "        0.03201593, 0.        , 0.        , 0.        , 0.        ,\n",
      "        0.        , 0.        , 0.        , 0.08211365, 0.        ,\n",
      "        0.        , 0.        , 0.        , 0.        , 0.44936824,\n",
      "        0.        , 0.        , 0.        , 0.        , 0.        ,\n",
      "        0.        , 0.        , 0.        , 0.        , 0.5162122 ,\n",
      "        0.        , 0.        , 0.        , 0.        , 0.        ,\n",
      "        0.77386373, 0.        , 0.        , 0.        , 0.        ,\n",
      "        0.        , 0.        , 0.        , 0.        , 0.        ,\n",
      "        0.        , 0.        , 0.        , 0.        , 0.        ,\n",
      "        0.22814906, 0.        , 0.        , 0.        , 0.        ,\n",
      "        0.        , 0.        , 0.        , 0.31099415, 0.        ,\n",
      "        0.        , 0.0613344 , 0.        , 0.        , 0.        ,\n",
      "        0.1853063 , 0.45989797, 0.        , 0.        , 0.03438623,\n",
      "        0.        , 0.2625619 , 0.        , 0.        , 0.        ,\n",
      "        0.        , 0.        , 0.        , 0.        , 0.        ,\n",
      "        0.        , 0.        , 0.        , 0.15614969, 0.        ,\n",
      "        0.        , 0.        , 0.        , 0.        , 0.        ,\n",
      "        0.        , 0.        , 0.        , 0.        , 0.        ,\n",
      "        0.        , 0.        , 0.        , 0.        , 0.        ,\n",
      "        0.        , 0.5780319 , 0.        ]], dtype=float32), array([[0.14244868, 0.25499052, 0.        , 0.24210653, 0.        ,\n",
      "        0.51932406, 0.        , 0.        , 0.        , 0.        ,\n",
      "        0.        , 0.        , 0.        , 0.        , 0.22437775,\n",
      "        0.        , 0.        , 0.        , 0.        , 0.        ,\n",
      "        0.        , 0.        , 0.        , 0.        , 0.        ,\n",
      "        0.        , 0.        , 0.        , 0.        , 0.        ,\n",
      "        0.        , 0.        , 0.        , 0.        , 0.        ,\n",
      "        0.        , 0.        , 0.        , 0.        , 0.        ,\n",
      "        0.        , 0.        , 0.        , 0.        , 0.        ,\n",
      "        0.        , 0.        , 0.        , 0.        , 0.        ,\n",
      "        0.        , 0.        , 0.        , 0.        , 0.        ,\n",
      "        0.        , 0.        , 0.        , 0.        , 0.        ,\n",
      "        0.        , 0.        , 0.        , 0.        , 0.        ,\n",
      "        0.        , 0.19902131, 0.        , 0.        , 0.        ,\n",
      "        0.3904192 , 0.        , 0.        , 0.        , 0.        ,\n",
      "        0.        , 0.        , 0.        , 0.        , 0.        ,\n",
      "        0.        , 0.        , 0.        , 0.        , 0.        ,\n",
      "        0.        , 0.        , 0.        , 0.        , 0.        ,\n",
      "        0.        , 0.        , 0.        , 0.        , 0.        ,\n",
      "        0.        , 0.        , 0.        , 0.17948723, 0.        ,\n",
      "        0.        , 0.        , 0.        , 0.        , 0.7658495 ,\n",
      "        0.        , 0.        , 0.        , 0.        , 0.        ,\n",
      "        0.4720152 , 0.06445503, 0.        , 0.        , 0.        ,\n",
      "        0.        , 0.        , 0.01467316, 0.        , 0.23960857,\n",
      "        0.59385675, 0.        , 0.33599588, 0.        , 0.        ,\n",
      "        0.        , 0.        , 0.7110757 ]], dtype=float32)]\n",
      "\n",
      "c1_seq\n",
      "[array([[0.09207296, 0.12749526, 0.        , 0.12105326, 0.        ,\n",
      "        0.25966203, 0.        , 0.01453619, 0.        , 0.        ,\n",
      "        0.        , 0.        , 0.26747194, 0.        , 0.11218888,\n",
      "        0.        , 0.        , 0.        , 0.        , 0.        ,\n",
      "        0.06584255, 0.        , 0.        , 0.        , 0.        ,\n",
      "        0.        , 0.        , 0.        , 0.        , 0.        ,\n",
      "        0.01600797, 0.        , 0.        , 0.        , 0.        ,\n",
      "        0.        , 0.        , 0.        , 0.04105683, 0.        ,\n",
      "        0.        , 0.        , 0.        , 0.        , 0.22468412,\n",
      "        0.        , 0.        , 0.        , 0.        , 0.        ,\n",
      "        0.        , 0.        , 0.        , 0.        , 0.2581061 ,\n",
      "        0.        , 0.        , 0.        , 0.        , 0.        ,\n",
      "        0.38693187, 0.        , 0.        , 0.        , 0.        ,\n",
      "        0.        , 0.09951065, 0.        , 0.        , 0.        ,\n",
      "        0.1952096 , 0.        , 0.        , 0.        , 0.        ,\n",
      "        0.11407453, 0.        , 0.        , 0.        , 0.        ,\n",
      "        0.        , 0.        , 0.        , 0.15549707, 0.        ,\n",
      "        0.        , 0.0306672 , 0.        , 0.        , 0.        ,\n",
      "        0.09265315, 0.22994898, 0.        , 0.        , 0.01719312,\n",
      "        0.        , 0.13128094, 0.        , 0.08974361, 0.        ,\n",
      "        0.        , 0.        , 0.        , 0.        , 0.38292474,\n",
      "        0.        , 0.        , 0.        , 0.07807484, 0.        ,\n",
      "        0.2360076 , 0.03222752, 0.        , 0.        , 0.        ,\n",
      "        0.        , 0.        , 0.00733658, 0.        , 0.11980429,\n",
      "        0.29692838, 0.        , 0.16799794, 0.        , 0.        ,\n",
      "        0.        , 0.28901595, 0.35553786]], dtype=float32), array([[0.165797  , 0.12749526, 0.        , 0.12105326, 0.        ,\n",
      "        0.25966203, 0.        , 0.0556694 , 0.        , 0.        ,\n",
      "        0.        , 0.        , 0.        , 0.        , 0.11533905,\n",
      "        0.        , 0.        , 0.        , 0.32572997, 0.        ,\n",
      "        0.        , 0.        , 0.        , 0.        , 0.        ,\n",
      "        0.0785558 , 0.        , 0.        , 0.        , 0.        ,\n",
      "        0.        , 0.        , 0.        , 0.        , 0.        ,\n",
      "        0.        , 0.        , 0.        , 0.06373122, 0.        ,\n",
      "        0.        , 0.        , 0.        , 0.        , 0.        ,\n",
      "        0.        , 0.        , 0.        , 0.        , 0.        ,\n",
      "        0.        , 0.        , 0.        , 0.09390033, 0.        ,\n",
      "        0.        , 0.        , 0.        , 0.        , 0.        ,\n",
      "        0.        , 0.        , 0.        , 0.        , 0.        ,\n",
      "        0.        , 0.10191268, 0.        , 0.        , 0.        ,\n",
      "        0.1952096 , 0.        , 0.        , 0.        , 0.        ,\n",
      "        0.        , 0.        , 0.        , 0.        , 0.10809191,\n",
      "        0.06610672, 0.        , 0.        , 0.        , 0.        ,\n",
      "        0.        , 0.01729137, 0.        , 0.        , 0.        ,\n",
      "        0.        , 0.20449062, 0.        , 0.        , 0.        ,\n",
      "        0.        , 0.        , 0.        , 0.08974361, 0.        ,\n",
      "        0.        , 0.        , 0.        , 0.        , 0.38292474,\n",
      "        0.        , 0.        , 0.        , 0.        , 0.        ,\n",
      "        0.2360076 , 0.03222752, 0.        , 0.        , 0.        ,\n",
      "        0.03561174, 0.        , 0.00733658, 0.        , 0.11980429,\n",
      "        0.29692838, 0.        , 0.16799794, 0.        , 0.        ,\n",
      "        0.        , 0.        , 0.35553786]], dtype=float32), array([[0.11542128, 0.        , 0.        , 0.        , 0.        ,\n",
      "        0.        , 0.        , 0.07020558, 0.        , 0.        ,\n",
      "        0.        , 0.        , 0.26747194, 0.        , 0.00315017,\n",
      "        0.        , 0.        , 0.        , 0.32572997, 0.        ,\n",
      "        0.06584255, 0.        , 0.        , 0.        , 0.        ,\n",
      "        0.0785558 , 0.        , 0.        , 0.        , 0.        ,\n",
      "        0.01600797, 0.        , 0.        , 0.        , 0.        ,\n",
      "        0.        , 0.        , 0.        , 0.10478805, 0.        ,\n",
      "        0.        , 0.        , 0.        , 0.        , 0.22468412,\n",
      "        0.        , 0.        , 0.        , 0.        , 0.        ,\n",
      "        0.        , 0.        , 0.        , 0.09390033, 0.2581061 ,\n",
      "        0.        , 0.        , 0.        , 0.        , 0.        ,\n",
      "        0.38693187, 0.        , 0.        , 0.        , 0.        ,\n",
      "        0.        , 0.00240202, 0.        , 0.        , 0.        ,\n",
      "        0.        , 0.        , 0.        , 0.        , 0.        ,\n",
      "        0.11407453, 0.        , 0.        , 0.        , 0.10809191,\n",
      "        0.06610672, 0.        , 0.        , 0.15549707, 0.        ,\n",
      "        0.        , 0.04795858, 0.        , 0.        , 0.        ,\n",
      "        0.09265315, 0.4344396 , 0.        , 0.        , 0.01719312,\n",
      "        0.        , 0.13128094, 0.        , 0.        , 0.        ,\n",
      "        0.        , 0.        , 0.        , 0.        , 0.        ,\n",
      "        0.        , 0.        , 0.        , 0.07807484, 0.        ,\n",
      "        0.        , 0.        , 0.        , 0.        , 0.        ,\n",
      "        0.03561174, 0.        , 0.        , 0.        , 0.        ,\n",
      "        0.        , 0.        , 0.        , 0.        , 0.        ,\n"
     ]
    },
    {
     "name": "stdout",
     "output_type": "stream",
     "text": [
      "        0.        , 0.28901595, 0.        ]], dtype=float32)]\n",
      "\n",
      "h2_seq\n",
      "[array([[0.00729291, 0.18396285, 0.        , 0.        , 0.        ,\n",
      "        0.        , 0.48683316, 0.27852523, 0.        , 1.2282084 ,\n",
      "        0.41794506, 0.        , 0.06683498, 0.        , 0.        ,\n",
      "        0.        , 0.        , 0.        , 0.24257477, 0.        ,\n",
      "        0.        , 0.        , 0.5217738 , 0.        , 0.        ,\n",
      "        0.        , 0.        , 0.47582847, 0.        , 0.67290944,\n",
      "        0.3613212 , 0.        , 0.        , 0.        , 0.        ,\n",
      "        0.35419118, 0.        , 0.        , 0.77474916, 0.2862769 ,\n",
      "        0.        , 0.7201159 , 0.8947872 , 0.        , 1.5880848 ,\n",
      "        0.14781564, 0.        , 0.        , 0.        , 0.        ,\n",
      "        0.        , 0.        , 0.        , 0.9220301 , 0.        ,\n",
      "        0.32085794, 0.        , 0.        , 0.        , 2.1368413 ,\n",
      "        0.        , 1.1573666 , 2.2099125 , 1.0045053 , 1.8304641 ,\n",
      "        0.8906483 , 0.09131521, 0.        , 0.        , 0.83746135,\n",
      "        0.        , 0.        , 0.        , 0.        , 0.7585863 ,\n",
      "        0.        , 0.        , 0.        , 0.4659286 , 0.        ,\n",
      "        0.        , 0.        , 0.        , 0.        , 0.        ,\n",
      "        0.        , 0.        , 1.1847653 , 0.        , 0.        ,\n",
      "        0.        , 0.        , 0.95428884, 0.        , 0.63761073,\n",
      "        1.7258155 , 0.5003313 , 0.85133237, 0.        , 0.        ,\n",
      "        0.        , 0.        , 0.9683625 , 0.        , 0.        ,\n",
      "        0.        , 0.94790125, 1.3286752 , 0.        , 0.21250947,\n",
      "        0.47177202, 0.        , 0.32435364, 0.        , 0.        ,\n",
      "        0.        , 0.        , 2.3854458 , 0.        , 0.        ,\n",
      "        0.        , 0.34919125, 0.        , 0.        , 0.        ,\n",
      "        1.4503015 , 0.        , 1.0647606 ]], dtype=float32), array([[1.3275299 , 0.        , 0.44879535, 0.        , 0.        ,\n",
      "        0.        , 0.        , 0.        , 0.        , 0.17191887,\n",
      "        0.        , 0.        , 0.19280013, 0.        , 0.        ,\n",
      "        0.        , 0.        , 0.        , 0.        , 0.        ,\n",
      "        0.        , 0.        , 0.44937727, 0.        , 0.        ,\n",
      "        0.        , 0.        , 0.28732604, 0.        , 1.3589454 ,\n",
      "        0.23032176, 0.        , 0.        , 0.        , 0.        ,\n",
      "        0.        , 0.        , 0.        , 0.        , 0.        ,\n",
      "        0.        , 0.        , 0.8992076 , 0.        , 0.44917315,\n",
      "        0.        , 0.        , 0.        , 0.        , 0.        ,\n",
      "        0.        , 0.        , 0.        , 2.0279734 , 0.        ,\n",
      "        0.        , 0.        , 0.        , 0.        , 0.44330513,\n",
      "        0.        , 1.0667685 , 0.7811819 , 0.21219072, 0.8187606 ,\n",
      "        0.25544208, 0.        , 0.        , 0.        , 0.        ,\n",
      "        0.        , 0.14763704, 0.        , 0.        , 0.23383778,\n",
      "        0.        , 0.        , 0.12303627, 1.0625951 , 0.        ,\n",
      "        0.        , 0.        , 0.        , 0.        , 0.        ,\n",
      "        0.        , 0.        , 0.35775125, 0.        , 0.        ,\n",
      "        0.        , 0.        , 0.49316448, 0.        , 1.030954  ,\n",
      "        0.        , 1.9677986 , 0.        , 0.        , 0.        ,\n",
      "        0.        , 0.        , 0.00707284, 0.        , 0.        ,\n",
      "        0.07681356, 2.0120194 , 2.593365  , 0.        , 2.017113  ,\n",
      "        0.26184556, 0.        , 1.271708  , 0.        , 0.        ,\n",
      "        0.        , 0.        , 0.96959525, 0.        , 0.        ,\n",
      "        0.        , 0.        , 0.        , 0.        , 0.        ,\n",
      "        2.0244775 , 0.        , 1.7192469 ]], dtype=float32), array([[0.        , 0.5000714 , 0.        , 0.        , 0.43553132,\n",
      "        0.        , 0.        , 0.82408494, 0.        , 1.5951424 ,\n",
      "        0.        , 0.        , 0.        , 0.        , 0.        ,\n",
      "        0.41845557, 0.        , 0.        , 0.7936907 , 0.10050017,\n",
      "        0.        , 0.03349639, 0.        , 0.        , 0.        ,\n",
      "        0.        , 0.        , 0.22810186, 0.        , 0.        ,\n",
      "        0.        , 0.        , 0.        , 0.        , 0.7988392 ,\n",
      "        0.        , 0.        , 0.        , 0.49800047, 0.        ,\n",
      "        0.5065394 , 0.4439156 , 0.        , 0.        , 1.8310893 ,\n",
      "        0.        , 0.        , 0.        , 0.        , 0.        ,\n",
      "        0.29774445, 0.        , 0.        , 0.        , 0.        ,\n",
      "        1.3494728 , 0.        , 0.        , 0.        , 2.2119577 ,\n",
      "        0.2367351 , 0.        , 0.        , 1.4434427 , 0.        ,\n",
      "        0.        , 0.7593554 , 0.        , 0.        , 0.        ,\n",
      "        0.        , 0.53635395, 0.        , 0.        , 0.        ,\n",
      "        0.        , 0.        , 0.        , 0.        , 0.        ,\n",
      "        0.        , 0.        , 0.        , 0.        , 0.        ,\n",
      "        0.        , 0.        , 1.6743033 , 0.        , 0.        ,\n",
      "        0.01693472, 0.        , 0.        , 0.72145844, 0.4348908 ,\n",
      "        1.563888  , 0.        , 0.52924865, 0.        , 0.        ,\n",
      "        0.        , 0.        , 1.5579911 , 0.        , 0.        ,\n",
      "        0.        , 0.        , 0.        , 0.        , 0.        ,\n",
      "        0.        , 0.        , 0.36540908, 0.        , 0.74128354,\n",
      "        0.        , 0.09287483, 2.5948224 , 0.        , 0.        ,\n",
      "        0.12668797, 1.1174403 , 0.        , 0.        , 0.        ,\n",
      "        1.3331106 , 0.        , 0.        ]], dtype=float32)]\n"
     ]
    }
   ],
   "source": [
    "for k,v in rv[1].items():\n",
    "    print()\n",
    "    print(k)\n",
    "    print(v)"
   ]
  },
  {
   "cell_type": "code",
   "execution_count": 66,
   "metadata": {},
   "outputs": [
    {
     "name": "stdout",
     "output_type": "stream",
     "text": [
      "[[260 252 333]]\n",
      "[[1 0 2]]\n",
      "[array([[-3.571101 ,  2.017776 ,  1.3937404]], dtype=float32), array([[ 5.146556 , -3.2826242, -2.0817955]], dtype=float32), array([[-4.4597406,  2.2730567,  2.2016068]], dtype=float32)]\n"
     ]
    }
   ],
   "source": [
    "print(X[0:1])\n",
    "print(y[0:1])\n",
    "print(rv[2])"
   ]
  },
  {
   "cell_type": "code",
   "execution_count": 67,
   "metadata": {},
   "outputs": [
    {
     "name": "stdout",
     "output_type": "stream",
     "text": [
      "[0.00242883 0.6495543  0.34801686]\n",
      "[9.9905670e-01 2.1819446e-04 7.2503177e-04]\n",
      "[0.00061649 0.5175357  0.48184788]\n"
     ]
    }
   ],
   "source": [
    "for x in rv[2]:\n",
    "    for xx in x:\n",
    "        print(np.exp(xx)/np.sum(np.exp(x)))"
   ]
  },
  {
   "cell_type": "code",
   "execution_count": 68,
   "metadata": {},
   "outputs": [
    {
     "data": {
      "text/plain": [
       "0.38751313"
      ]
     },
     "execution_count": 68,
     "metadata": {},
     "output_type": "execute_result"
    }
   ],
   "source": [
    "rv[3]"
   ]
  },
  {
   "cell_type": "code",
   "execution_count": 69,
   "metadata": {},
   "outputs": [
    {
     "data": {
      "text/plain": [
       "[array([[1]], dtype=int64),\n",
       " array([[0]], dtype=int64),\n",
       " array([[2]], dtype=int64)]"
      ]
     },
     "execution_count": 69,
     "metadata": {},
     "output_type": "execute_result"
    }
   ],
   "source": [
    "rv[4]"
   ]
  },
  {
   "cell_type": "code",
   "execution_count": 70,
   "metadata": {},
   "outputs": [
    {
     "data": {
      "text/plain": [
       "[array([[[0., 1., 0.]]], dtype=float32),\n",
       " array([[[1., 0., 0.]]], dtype=float32),\n",
       " array([[[0., 0., 1.]]], dtype=float32)]"
      ]
     },
     "execution_count": 70,
     "metadata": {},
     "output_type": "execute_result"
    }
   ],
   "source": [
    "rv[5]"
   ]
  },
  {
   "cell_type": "code",
   "execution_count": 71,
   "metadata": {
    "scrolled": true
   },
   "outputs": [
    {
     "ename": "NameError",
     "evalue": "name 'history' is not defined",
     "output_type": "error",
     "traceback": [
      "\u001b[1;31m---------------------------------------------------------------------------\u001b[0m",
      "\u001b[1;31mNameError\u001b[0m                                 Traceback (most recent call last)",
      "\u001b[1;32m<ipython-input-71-e48b0a1c6145>\u001b[0m in \u001b[0;36m<module>\u001b[1;34m()\u001b[0m\n\u001b[1;32m----> 1\u001b[1;33m \u001b[0mplt\u001b[0m\u001b[1;33m.\u001b[0m\u001b[0mplot\u001b[0m\u001b[1;33m(\u001b[0m\u001b[0mhistory\u001b[0m\u001b[1;33m[\u001b[0m\u001b[1;34m'reward'\u001b[0m\u001b[1;33m]\u001b[0m\u001b[1;33m,\u001b[0m \u001b[1;34m'*'\u001b[0m\u001b[1;33m)\u001b[0m\u001b[1;33m\u001b[0m\u001b[0m\n\u001b[0m\u001b[0;32m      2\u001b[0m \u001b[0mplt\u001b[0m\u001b[1;33m.\u001b[0m\u001b[0mshow\u001b[0m\u001b[1;33m(\u001b[0m\u001b[1;33m)\u001b[0m\u001b[1;33m\u001b[0m\u001b[0m\n\u001b[0;32m      3\u001b[0m \u001b[0mplt\u001b[0m\u001b[1;33m.\u001b[0m\u001b[0mplot\u001b[0m\u001b[1;33m(\u001b[0m\u001b[0mhistory\u001b[0m\u001b[1;33m[\u001b[0m\u001b[1;34m'loss'\u001b[0m\u001b[1;33m]\u001b[0m\u001b[1;33m,\u001b[0m \u001b[1;34m'*'\u001b[0m\u001b[1;33m)\u001b[0m\u001b[1;33m\u001b[0m\u001b[0m\n\u001b[0;32m      4\u001b[0m \u001b[0mplt\u001b[0m\u001b[1;33m.\u001b[0m\u001b[0mshow\u001b[0m\u001b[1;33m(\u001b[0m\u001b[1;33m)\u001b[0m\u001b[1;33m\u001b[0m\u001b[0m\n",
      "\u001b[1;31mNameError\u001b[0m: name 'history' is not defined"
     ]
    }
   ],
   "source": [
    "plt.plot(history['reward'], '*')\n",
    "plt.show()\n",
    "plt.plot(history['loss'], '*')\n",
    "plt.show()"
   ]
  },
  {
   "cell_type": "code",
   "execution_count": 72,
   "metadata": {},
   "outputs": [
    {
     "ename": "NameError",
     "evalue": "name 'q_val' is not defined",
     "output_type": "error",
     "traceback": [
      "\u001b[1;31m---------------------------------------------------------------------------\u001b[0m",
      "\u001b[1;31mNameError\u001b[0m                                 Traceback (most recent call last)",
      "\u001b[1;32m<ipython-input-72-1308d7688f5b>\u001b[0m in \u001b[0;36m<module>\u001b[1;34m()\u001b[0m\n\u001b[1;32m----> 1\u001b[1;33m \u001b[0mq_val\u001b[0m\u001b[1;33m.\u001b[0m\u001b[0mmean\u001b[0m\u001b[1;33m(\u001b[0m\u001b[0maxis\u001b[0m \u001b[1;33m=\u001b[0m \u001b[1;36m1\u001b[0m\u001b[1;33m)\u001b[0m\u001b[1;33m\u001b[0m\u001b[0m\n\u001b[0m",
      "\u001b[1;31mNameError\u001b[0m: name 'q_val' is not defined"
     ]
    }
   ],
   "source": [
    "q_val.mean(axis = 1)"
   ]
  },
  {
   "cell_type": "code",
   "execution_count": null,
   "metadata": {},
   "outputs": [],
   "source": []
  }
 ],
 "metadata": {
  "kernelspec": {
   "display_name": "Python 3",
   "language": "python",
   "name": "python3"
  },
  "language_info": {
   "codemirror_mode": {
    "name": "ipython",
    "version": 3
   },
   "file_extension": ".py",
   "mimetype": "text/x-python",
   "name": "python",
   "nbconvert_exporter": "python",
   "pygments_lexer": "ipython3",
   "version": "3.6.6"
  }
 },
 "nbformat": 4,
 "nbformat_minor": 2
}
