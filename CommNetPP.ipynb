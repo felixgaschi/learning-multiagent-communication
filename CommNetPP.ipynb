{
 "cells": [
  {
   "cell_type": "code",
   "execution_count": 1,
   "metadata": {},
   "outputs": [
    {
     "name": "stderr",
     "output_type": "stream",
     "text": [
      "C:\\Users\\Romain Zimmer\\Anaconda3\\lib\\site-packages\\h5py\\__init__.py:72: UserWarning: h5py is running against HDF5 1.10.2 when it was built against 1.10.3, this may cause problems\n",
      "  '{0}.{1}.{2}'.format(*version.hdf5_built_version_tuple)\n"
     ]
    }
   ],
   "source": [
    "import numpy as np\n",
    "import tensorflow as tf\n",
    "from tqdm import tqdm_notebook\n",
    "import matplotlib.pyplot as plt\n",
    "from env import PredatorPreyTask"
   ]
  },
  {
   "cell_type": "code",
   "execution_count": 157,
   "metadata": {},
   "outputs": [],
   "source": [
    "class CommNetPP:\n",
    "    \n",
    "    def __init__(self, sess, N, grid_size, embedding_size = 50, lr = 1e-3, alpha = 0.03, lstm_controler = False):\n",
    "        \n",
    "        self.N = N\n",
    "        self.embedding_size = embedding_size\n",
    "        self.n_actions = 6 # Stay, North, South, East, West, Communicate\n",
    "        self.grid_size = grid_size\n",
    "        \n",
    "        if lstm_controler:\n",
    "            self.build_lstm_controler()\n",
    "        else:\n",
    "            self.build_controler()\n",
    "        \n",
    "        \n",
    "        self.alpha = alpha\n",
    "        self.build_reinforce()\n",
    "        with tf.variable_scope('Reinforce_optimizer'):\n",
    "            self.train_op =  tf.train.RMSPropOptimizer(lr).minimize(self.reinforce_loss)\n",
    "            \n",
    "        \n",
    "        print(\"All variables\")\n",
    "        for var in tf.global_variables():\n",
    "            print(var)\n",
    "            \n",
    "        \n",
    "        self.sess = sess\n",
    "        self.sess.run(tf.global_variables_initializer())\n",
    "        \n",
    "    def encode(self, inputs):\n",
    "        \n",
    "        agent_positions = inputs[0]\n",
    "        prey_positions = inputs[1]\n",
    "        \n",
    "        print(agent_positions)\n",
    "        print(prey_positions)\n",
    "        \n",
    "        with tf.variable_scope('Encoder'):\n",
    "        \n",
    "            self.agent_position_embedding = tf.get_variable(\"agent_position_embedding\",\n",
    "                                             [self.grid_size**2 + 1, self.embedding_size]) # 0 not used\n",
    "            \n",
    "            self.embedded_agent_position = tf.nn.embedding_lookup(self.agent_position_embedding, agent_positions)\n",
    "            \n",
    "            \n",
    "            \n",
    "            \n",
    "            self.prey_position_embedding = tf.get_variable(\"prey_position_embedding\",\n",
    "                                             [self.grid_size**2 + 1, self.embedding_size]) # 0 --> cannot see the prey\n",
    "            \n",
    "            self.embedded_prey_position = tf.nn.embedding_lookup(self.prey_position_embedding, prey_positions)\n",
    "        \n",
    "        \n",
    "        h0 = tf.concat([self.embedded_agent_position, self.embedded_prey_position], axis = 2)\n",
    "        h0_seq = tf.unstack(h0, axis = 1)\n",
    "        \n",
    "        return h0_seq\n",
    "    \n",
    "    def build_f(self, name, h, c, h0 = None):\n",
    "        \n",
    "        with tf.variable_scope(name, reuse = tf.AUTO_REUSE):\n",
    "            \n",
    "            if h0 is not None and c is not None:\n",
    "            \n",
    "                b1 = tf.get_variable('b1', shape = (1, 2 * self.embedding_size))\n",
    "                W1 = tf.get_variable('W1', shape = (3 * 2 * self.embedding_size,\n",
    "                                                  2 * self.embedding_size))\n",
    "                \n",
    "                W2 = tf.get_variable('W2', shape = (2 * self.embedding_size,\n",
    "                                                  2 * self.embedding_size))\n",
    "                \n",
    "                concat = tf.concat([h, c, h0], axis = 1)\n",
    "            \n",
    "            elif h0 is not None and c is None:\n",
    "                b1 = tf.get_variable('b1', shape = (1, 2* self.embedding_size))\n",
    "                \n",
    "                W1 = tf.get_variable('W1', shape = (2 * 2 * self.embedding_size,\n",
    "                                                  2 * self.embedding_size))\n",
    "                \n",
    "                W2 = tf.get_variable('W2', shape = (2 * self.embedding_size,\n",
    "                                                  2 * self.embedding_size))\n",
    "                \n",
    "                concat = tf.concat([h, h0], axis = 1)\n",
    "                \n",
    "            elif c is not None and h0 is None:\n",
    "                \n",
    "                b1 = tf.get_variable('b1', shape = (1, 2 * self.embedding_size))\n",
    "                \n",
    "                W1 = tf.get_variable('W1', shape = (2 * 2 *self.embedding_size,\n",
    "                                                  2 * self.embedding_size))\n",
    "                \n",
    "                W2 = tf.get_variable('W2', shape = (2 * self.embedding_size,\n",
    "                                                  2 * self.embedding_size))\n",
    "                \n",
    "                concat = tf.concat([h, c], axis = 1)\n",
    "                \n",
    "            else:\n",
    "                \n",
    "                b1 = tf.get_variable('b1', shape = (1, 2 *self.embedding_size))\n",
    "                \n",
    "                W1 = tf.get_variable('W1', shape = (2 * self.embedding_size,\n",
    "                                                  2 * self.embedding_size))\n",
    "                \n",
    "                W2 = tf.get_variable('W2', shape = (2 * self.embedding_size,\n",
    "                                                  2 * self.embedding_size))\n",
    "                \n",
    "                concat = h\n",
    "                \n",
    "                \n",
    "            b2 = tf.get_variable('b2', shape = (1, 2 * self.embedding_size))\n",
    "            \n",
    "            dense1 =tf.nn.relu(tf.einsum(\"ij,jk->ik\", concat, W1) + b1)\n",
    "            dense2 = tf.nn.relu(tf.einsum(\"ij,jk->ik\", dense1, W2) + b2)\n",
    "            \n",
    "            return dense2\n",
    "        \n",
    "    def decode_movement(self, h):\n",
    "        \n",
    "        with tf.variable_scope('Decoder_movement', reuse = tf.AUTO_REUSE):\n",
    "            \n",
    "            W = tf.get_variable('W', shape = (2 * self.embedding_size,\n",
    "                                                  self.n_actions - 1))\n",
    "            \n",
    "            b = tf.get_variable('b', shape = (1, self.n_actions - 1))\n",
    "            \n",
    "            policy_logit = tf.einsum(\"ij,jk->ik\", h, W) + b\n",
    "        \n",
    "            return policy_logit\n",
    "        \n",
    "    def decode_communication(self, h):\n",
    "        \n",
    "        with tf.variable_scope('Decoder_communication', reuse = tf.AUTO_REUSE):\n",
    "            \n",
    "            W = tf.get_variable('W', shape = (2 * self.embedding_size,\n",
    "                                                  2))\n",
    "            \n",
    "            b = tf.get_variable('b', shape = (1, 2))\n",
    "            \n",
    "            policy_logit = tf.einsum(\"ij,jk->ik\", h, W) + b\n",
    "        \n",
    "            return policy_logit\n",
    "        \n",
    "    def communicate(self, h_seq):\n",
    "        \n",
    "        return tf.add_n(h_seq) / tf.maximum(1. ,(tf.reduce_sum(self.communication_mask, axis = 1, keepdims = True) - 1))\n",
    "    \n",
    "    def sample_actions(self, log_proba):\n",
    "        \n",
    "        action = tf.multinomial(log_proba, num_samples = 1)\n",
    "        \n",
    "        return action\n",
    "    \n",
    "        \n",
    "    def build_controler(self):\n",
    "        \n",
    "        self.inputs = tf.placeholder(tf.int32, shape = (None, 2, self.N))\n",
    "        self.communication_mask = tf.placeholder(tf.float32, shape = (None, self.N))\n",
    "        unstacked_communication_mask = [tf.reshape(m, [-1,1]) for m in tf.unstack(self.communication_mask, axis = 1)]\n",
    "        \n",
    "        h0_seq = self.encode(tf.unstack(self.inputs, axis = 1))\n",
    "        \n",
    "        print(h0_seq)\n",
    "        \n",
    "        c0_seq = [self.communicate([h0_seq[j] * unstacked_communication_mask[j]  for j in range(self.N) if j != i]) for i in range(self.N)]\n",
    "        \n",
    "        h1_seq = [self.build_f(\"Comm_step_1\", h0_seq[j], c0_seq[j], None) for j in range(self.N)]\n",
    "        c1_seq = [self.communicate([h1_seq[j] * unstacked_communication_mask[j] for j in range(self.N) if j != i]) for i in range(self.N)]\n",
    "        \n",
    "        self.h2_seq = [self.build_f(\"Comm_step_2\", h1_seq[j], c1_seq[j], h0_seq[j]) for j in range(self.N)]\n",
    "        \n",
    "        self.layers = {'h0_seq': h0_seq, 'c0_seq': c0_seq, 'h1_seq': h1_seq, 'c1_seq':c1_seq, 'h2_seq': self.h2_seq}\n",
    "        \n",
    "        \n",
    "        self.movement_policy_logit_seq = [self.decode_movement(h2) for h2 in self.h2_seq]\n",
    "        self.communication_policy_logit_seq = [self.decode_communication(h2) for h2 in self.h2_seq]\n",
    "        \n",
    "        self.movement_log_proba_seq = [tf.nn.log_softmax(policy_logit, axis = 1) for policy_logit in self.movement_policy_logit_seq]\n",
    "        self.communication_log_proba_seq = [tf.nn.log_softmax(policy_logit, axis = 1) for policy_logit in self.communication_policy_logit_seq]\n",
    "        \n",
    "        self.movement_action_seq = [self.sample_actions(log_proba) for log_proba in self.movement_log_proba_seq]\n",
    "        self.communication_action_seq = [self.sample_actions(log_proba) for log_proba in self.communication_log_proba_seq]\n",
    "        \n",
    "    def build_lstm(self, name, cell_state):\n",
    "        \n",
    "        with tf.variable_scope(name, reuse = tf.AUTO_REUSE):\n",
    "            \n",
    "            lstm_cell = tf.nn.rnn_cell.BasicLSTMCell(2 * 2 * self.embedding_size)\n",
    "            concat = tf.concat([h, c, h0], axis = 1)\n",
    "            \n",
    "            tf.nn.dynamic_rnn(inputs = concat, cell = lstm_cell, initial_state = cell_state)\n",
    "            \n",
    "            #TODO --> gérer le state du RNN\n",
    "    \n",
    "    def build_lstm_controler(self):\n",
    "        \n",
    "        self.inputs = tf.placeholder(tf.int32, shape = (None, 2, self.N))\n",
    "        \n",
    "        h_seq = self.encode(tf.unstack(self.inputs, axis = 1))\n",
    "        \n",
    "        c_seq = [self.communicate([h_seq[j] for j in range(self.N) if j != i]) for i in range(self.N)]\n",
    "        \n",
    "        h_seq = [self.build_lstm(\"Comm_step_lstm\", h0_seq[j], c_seq[j]) for j in range(self.N)]\n",
    "                \n",
    "        \n",
    "        self.movement_policy_logit_seq = [self.decode_movement(h) for h in self.h_seq]\n",
    "        self.communication_policy_logit_seq = [self.decode_communication(h) for h in self.h_seq]\n",
    "        \n",
    "        self.movement_log_proba_seq = [tf.nn.log_softmax(policy_logit, axis = 1) for policy_logit in self.movement_policy_logit_seq]\n",
    "        self.communication_log_proba_seq = [tf.nn.log_softmax(policy_logit, axis = 1) for policy_logit in self.communication_policy_logit_seq]\n",
    "        \n",
    "        self.movement_action_seq = [self.sample_actions(log_proba) for log_proba in self.movement_log_proba_seq]\n",
    "        self.communication_action_seq = [self.sample_actions(log_proba) for log_proba in self.communication_log_proba_seq]\n",
    "            \n",
    "    def build_baseline(self, h):\n",
    "        \n",
    "        with tf.variable_scope('Baseline', reuse = tf.AUTO_REUSE):\n",
    "            \n",
    "            W = tf.get_variable('W', shape = (2 * self.embedding_size,\n",
    "                                                  1))\n",
    "            \n",
    "            b = tf.get_variable('b', shape = (1,))\n",
    "            \n",
    "            \n",
    "            baseline = tf.einsum(\"ij,jk->ik\", h, W) + b\n",
    "            \n",
    "            return baseline\n",
    "            \n",
    "\n",
    "    def build_reinforce(self):\n",
    "        \n",
    "        \n",
    "        self.baselines = tf.concat([self.build_baseline(h2) for h2 in self.h2_seq], axis = 1)\n",
    "                    \n",
    "        self.reward_values = tf.placeholder(tf.float32, shape = (None, self.N))\n",
    "        self.reward_values_cumsum = tf.cumsum(self.reward_values, axis = 0, reverse = True)\n",
    "        \n",
    "        self.baseline_values =  tf.placeholder(tf.float32, shape = (None, self.N))\n",
    "               \n",
    "        \n",
    "        self.movement_action_taken = tf.placeholder(tf.int32, shape = (None, self.N))\n",
    "        unstacked_movement_action_taken = tf.unstack(self.movement_action_taken, axis = 1)\n",
    "        \n",
    "        self.movement_neg_log_p = tf.transpose(tf.concat([[tf.nn.sparse_softmax_cross_entropy_with_logits(labels=unstacked_movement_action_taken[j],\n",
    "                                                    logits=self.movement_policy_logit_seq[j])] for j in range(self.N)], axis = 0))\n",
    "        \n",
    "        \n",
    "        self.communication_action_taken = tf.placeholder(tf.int32, shape = (None, self.N))\n",
    "        unstacked_communication_action_taken = tf.unstack(self.communication_action_taken, axis = 1)\n",
    "        \n",
    "        self.communication_neg_log_p = tf.transpose(tf.concat([[tf.nn.sparse_softmax_cross_entropy_with_logits(labels=unstacked_communication_action_taken[j],\n",
    "                                                    logits=self.communication_policy_logit_seq[j])] for j in range(self.N)], axis = 0))\n",
    "        \n",
    "        self.neg_log_p = self.movement_neg_log_p + self.communication_neg_log_p\n",
    "        #surrogate loss (- dtheta)\n",
    "        \n",
    "        self.reinforce_loss = tf.reduce_sum(tf.multiply(self.neg_log_p, self.reward_values_cumsum - self.baseline_values))\n",
    "        self.reinforce_loss += self.alpha * tf.reduce_sum(tf.square(self.reward_values_cumsum - self.baselines))\n",
    "        self.reinforce_loss /= self.N\n",
    "        \n",
    "    def take_action(self, state, communication_mask):\n",
    "        \n",
    "        \n",
    "        movement_action_seq, communication_action_seq, baselines= self.sess.run([self.movement_action_seq, \n",
    "                                                                                 self.communication_action_seq, self.baselines], \n",
    "                                                                                {self.inputs: [state],\n",
    "                                                                                self.communication_mask: [communication_mask]})\n",
    "        \n",
    "        return [a[0,0] for a in movement_action_seq], [a[0,0] for a in communication_action_seq],  baselines\n",
    "    \n",
    "    def reinforce_train(self, env, n_episodes, T):\n",
    "        \n",
    "        \n",
    "        history = {'reward' : [],  'loss': [], 'terminal_state': []}\n",
    "        \n",
    "        for _ in tqdm_notebook(range(n_episodes), \"REINFORCE\"):\n",
    "            \n",
    "            \n",
    "            state_seq, movement_action_seq, communication_action_seq , reward_seq, baseline_seq, terminal_state = policy_rollout(T, env, self)\n",
    "            episode_len = reward_seq.shape[0]\n",
    "            \n",
    "            history['reward'].append(np.sum(np.mean(reward_seq, axis = 1)))\n",
    "            history['terminal_state'].append(terminal_state)\n",
    "                \n",
    "            feed_dict = {}\n",
    "            feed_dict[self.inputs] = state_seq\n",
    "            feed_dict[self.communication_mask] = communication_action_seq[:-1]\n",
    "            feed_dict[self.reward_values] = reward_seq\n",
    "            feed_dict[self.baseline_values] = baseline_seq\n",
    "            feed_dict[self.movement_action_taken] = movement_action_seq\n",
    "            feed_dict[self.communication_action_taken] = communication_action_seq[1:]\n",
    "            \n",
    "            _, loss = self.sess.run([self.train_op, self.reinforce_loss], feed_dict = feed_dict)\n",
    "            \n",
    "            history['loss'].append(loss)\n",
    "            \n",
    "        return history\n",
    "            \n",
    "            \n",
    "            \n",
    "            \n",
    "            \n",
    "            \n",
    "            \n",
    "        "
   ]
  },
  {
   "cell_type": "code",
   "execution_count": 145,
   "metadata": {},
   "outputs": [],
   "source": [
    "# episode generation for reinforcement learning\n",
    "def policy_rollout(T, env, agent):\n",
    "    \n",
    "    state_seq = []\n",
    "    movement_action_seq = []\n",
    "    communication_action_seq = [np.zeros(agent.N)]\n",
    "    reward_seq = []\n",
    "    baseline_seq = []\n",
    "    \n",
    "    \n",
    "    state, terminal_state = env.reset()\n",
    "    while terminal_state:\n",
    "        state, terminal_state = env.reset()\n",
    "    \n",
    "    t = 0\n",
    "    \n",
    "    while not terminal_state and t < T:\n",
    "        t +=1\n",
    "        \n",
    "        state_seq.append(state)\n",
    "        movement_action, communication_action, baseline = agent.take_action(state, communication_action_seq[-1])\n",
    "        \n",
    "        state, reward, terminal_state = env.step(movement_action, communication_action)\n",
    "        \n",
    "        movement_action_seq.append(movement_action)\n",
    "        communication_action_seq.append(communication_action)\n",
    "        reward_seq.append(reward)\n",
    "        baseline_seq.append(baseline)\n",
    "    \n",
    "    return np.array(state_seq), np.array(movement_action_seq), np.array(communication_action_seq),np.array(reward_seq), np.squeeze(np.array(baseline_seq), axis = (1,)), terminal_state"
   ]
  },
  {
   "cell_type": "code",
   "execution_count": 146,
   "metadata": {},
   "outputs": [],
   "source": [
    "N = 5\n",
    "grid_size = 8\n",
    "T = 30"
   ]
  },
  {
   "cell_type": "code",
   "execution_count": 147,
   "metadata": {
    "scrolled": true
   },
   "outputs": [
    {
     "name": "stdout",
     "output_type": "stream",
     "text": [
      "Tensor(\"unstack_1:0\", shape=(?, 5), dtype=int32)\n",
      "Tensor(\"unstack_1:1\", shape=(?, 5), dtype=int32)\n",
      "[<tf.Tensor 'unstack_2:0' shape=(?, 100) dtype=float32>, <tf.Tensor 'unstack_2:1' shape=(?, 100) dtype=float32>, <tf.Tensor 'unstack_2:2' shape=(?, 100) dtype=float32>, <tf.Tensor 'unstack_2:3' shape=(?, 100) dtype=float32>, <tf.Tensor 'unstack_2:4' shape=(?, 100) dtype=float32>]\n",
      "All variables\n",
      "<tf.Variable 'Encoder/agent_position_embedding:0' shape=(65, 50) dtype=float32_ref>\n",
      "<tf.Variable 'Encoder/prey_position_embedding:0' shape=(65, 50) dtype=float32_ref>\n",
      "<tf.Variable 'Comm_step_1/b1:0' shape=(1, 100) dtype=float32_ref>\n",
      "<tf.Variable 'Comm_step_1/W1:0' shape=(200, 100) dtype=float32_ref>\n",
      "<tf.Variable 'Comm_step_1/W2:0' shape=(100, 100) dtype=float32_ref>\n",
      "<tf.Variable 'Comm_step_1/b2:0' shape=(1, 100) dtype=float32_ref>\n",
      "<tf.Variable 'Comm_step_2/b1:0' shape=(1, 100) dtype=float32_ref>\n",
      "<tf.Variable 'Comm_step_2/W1:0' shape=(300, 100) dtype=float32_ref>\n",
      "<tf.Variable 'Comm_step_2/W2:0' shape=(100, 100) dtype=float32_ref>\n",
      "<tf.Variable 'Comm_step_2/b2:0' shape=(1, 100) dtype=float32_ref>\n",
      "<tf.Variable 'Decoder_movement/W:0' shape=(100, 5) dtype=float32_ref>\n",
      "<tf.Variable 'Decoder_movement/b:0' shape=(1, 5) dtype=float32_ref>\n",
      "<tf.Variable 'Decoder_communication/W:0' shape=(100, 2) dtype=float32_ref>\n",
      "<tf.Variable 'Decoder_communication/b:0' shape=(1, 2) dtype=float32_ref>\n",
      "<tf.Variable 'Baseline/W:0' shape=(100, 1) dtype=float32_ref>\n",
      "<tf.Variable 'Baseline/b:0' shape=(1,) dtype=float32_ref>\n",
      "<tf.Variable 'Reinforce_optimizer/Encoder/agent_position_embedding/RMSProp:0' shape=(65, 50) dtype=float32_ref>\n",
      "<tf.Variable 'Reinforce_optimizer/Encoder/agent_position_embedding/RMSProp_1:0' shape=(65, 50) dtype=float32_ref>\n",
      "<tf.Variable 'Reinforce_optimizer/Encoder/prey_position_embedding/RMSProp:0' shape=(65, 50) dtype=float32_ref>\n",
      "<tf.Variable 'Reinforce_optimizer/Encoder/prey_position_embedding/RMSProp_1:0' shape=(65, 50) dtype=float32_ref>\n",
      "<tf.Variable 'Reinforce_optimizer/Comm_step_1/b1/RMSProp:0' shape=(1, 100) dtype=float32_ref>\n",
      "<tf.Variable 'Reinforce_optimizer/Comm_step_1/b1/RMSProp_1:0' shape=(1, 100) dtype=float32_ref>\n",
      "<tf.Variable 'Reinforce_optimizer/Comm_step_1/W1/RMSProp:0' shape=(200, 100) dtype=float32_ref>\n",
      "<tf.Variable 'Reinforce_optimizer/Comm_step_1/W1/RMSProp_1:0' shape=(200, 100) dtype=float32_ref>\n",
      "<tf.Variable 'Reinforce_optimizer/Comm_step_1/W2/RMSProp:0' shape=(100, 100) dtype=float32_ref>\n",
      "<tf.Variable 'Reinforce_optimizer/Comm_step_1/W2/RMSProp_1:0' shape=(100, 100) dtype=float32_ref>\n",
      "<tf.Variable 'Reinforce_optimizer/Comm_step_1/b2/RMSProp:0' shape=(1, 100) dtype=float32_ref>\n",
      "<tf.Variable 'Reinforce_optimizer/Comm_step_1/b2/RMSProp_1:0' shape=(1, 100) dtype=float32_ref>\n",
      "<tf.Variable 'Reinforce_optimizer/Comm_step_2/b1/RMSProp:0' shape=(1, 100) dtype=float32_ref>\n",
      "<tf.Variable 'Reinforce_optimizer/Comm_step_2/b1/RMSProp_1:0' shape=(1, 100) dtype=float32_ref>\n",
      "<tf.Variable 'Reinforce_optimizer/Comm_step_2/W1/RMSProp:0' shape=(300, 100) dtype=float32_ref>\n",
      "<tf.Variable 'Reinforce_optimizer/Comm_step_2/W1/RMSProp_1:0' shape=(300, 100) dtype=float32_ref>\n",
      "<tf.Variable 'Reinforce_optimizer/Comm_step_2/W2/RMSProp:0' shape=(100, 100) dtype=float32_ref>\n",
      "<tf.Variable 'Reinforce_optimizer/Comm_step_2/W2/RMSProp_1:0' shape=(100, 100) dtype=float32_ref>\n",
      "<tf.Variable 'Reinforce_optimizer/Comm_step_2/b2/RMSProp:0' shape=(1, 100) dtype=float32_ref>\n",
      "<tf.Variable 'Reinforce_optimizer/Comm_step_2/b2/RMSProp_1:0' shape=(1, 100) dtype=float32_ref>\n",
      "<tf.Variable 'Reinforce_optimizer/Decoder_movement/W/RMSProp:0' shape=(100, 5) dtype=float32_ref>\n",
      "<tf.Variable 'Reinforce_optimizer/Decoder_movement/W/RMSProp_1:0' shape=(100, 5) dtype=float32_ref>\n",
      "<tf.Variable 'Reinforce_optimizer/Decoder_movement/b/RMSProp:0' shape=(1, 5) dtype=float32_ref>\n",
      "<tf.Variable 'Reinforce_optimizer/Decoder_movement/b/RMSProp_1:0' shape=(1, 5) dtype=float32_ref>\n",
      "<tf.Variable 'Reinforce_optimizer/Decoder_communication/W/RMSProp:0' shape=(100, 2) dtype=float32_ref>\n",
      "<tf.Variable 'Reinforce_optimizer/Decoder_communication/W/RMSProp_1:0' shape=(100, 2) dtype=float32_ref>\n",
      "<tf.Variable 'Reinforce_optimizer/Decoder_communication/b/RMSProp:0' shape=(1, 2) dtype=float32_ref>\n",
      "<tf.Variable 'Reinforce_optimizer/Decoder_communication/b/RMSProp_1:0' shape=(1, 2) dtype=float32_ref>\n",
      "<tf.Variable 'Reinforce_optimizer/Baseline/W/RMSProp:0' shape=(100, 1) dtype=float32_ref>\n",
      "<tf.Variable 'Reinforce_optimizer/Baseline/W/RMSProp_1:0' shape=(100, 1) dtype=float32_ref>\n",
      "<tf.Variable 'Reinforce_optimizer/Baseline/b/RMSProp:0' shape=(1,) dtype=float32_ref>\n",
      "<tf.Variable 'Reinforce_optimizer/Baseline/b/RMSProp_1:0' shape=(1,) dtype=float32_ref>\n"
     ]
    },
    {
     "data": {
      "application/vnd.jupyter.widget-view+json": {
       "model_id": "d71adb46273c47568491f5f463ebb339",
       "version_major": 2,
       "version_minor": 0
      },
      "text/html": [
       "<p>Failed to display Jupyter Widget of type <code>HBox</code>.</p>\n",
       "<p>\n",
       "  If you're reading this message in the Jupyter Notebook or JupyterLab Notebook, it may mean\n",
       "  that the widgets JavaScript is still loading. If this message persists, it\n",
       "  likely means that the widgets JavaScript library is either not installed or\n",
       "  not enabled. See the <a href=\"https://ipywidgets.readthedocs.io/en/stable/user_install.html\">Jupyter\n",
       "  Widgets Documentation</a> for setup instructions.\n",
       "</p>\n",
       "<p>\n",
       "  If you're reading this message in another frontend (for example, a static\n",
       "  rendering on GitHub or <a href=\"https://nbviewer.jupyter.org/\">NBViewer</a>),\n",
       "  it may mean that your frontend doesn't currently support widgets.\n",
       "</p>\n"
      ],
      "text/plain": [
       "HBox(children=(IntProgress(value=0, description='REINFORCE', max=3000, style=ProgressStyle(description_width='initial')), HTML(value='')))"
      ]
     },
     "metadata": {},
     "output_type": "display_data"
    }
   ],
   "source": [
    "tf.reset_default_graph()\n",
    "with tf.Session() as sess:\n",
    "    commNet = CommNetPP(sess, N,  grid_size, lstm_controler = False)\n",
    "    env = PredatorPreyTask(N=N, grid_size=grid_size, detection_range=10, communication_cost=0.0, step_cost=0.1, forbidden_cost=0.,\n",
    "                prey_detection_range=2, uncatched_cost=1., T=T)    \n",
    "    history = commNet.reinforce_train(env, n_episodes = 3000, T = T)\n",
    "    \n",
    "    state_seq, movement_action_seq, communication_action_seq, reward_seq, baseline_seq, terminale_state = policy_rollout(T, env, commNet)\n",
    "    episode_len = reward_seq.shape[0]\n",
    "            \n",
    "    feed_dict = {}\n",
    "    feed_dict[commNet.inputs] = state_seq\n",
    "    feed_dict[commNet.communication_mask] = communication_action_seq[:-1]\n",
    "    feed_dict[commNet.reward_values] = reward_seq\n",
    "    feed_dict[commNet.baseline_values] = baseline_seq\n",
    "    feed_dict[commNet.movement_action_taken] = movement_action_seq\n",
    "    feed_dict[commNet.communication_action_taken] = communication_action_seq[1:]\n",
    "\n",
    "    rv = commNet.sess.run([commNet.layers], feed_dict = feed_dict)"
   ]
  },
  {
   "cell_type": "code",
   "execution_count": 148,
   "metadata": {},
   "outputs": [
    {
     "name": "stdout",
     "output_type": "stream",
     "text": [
      "avg reward\n"
     ]
    },
    {
     "data": {
      "image/png": "[encoded data removed]",
      "text/plain": [
       "<matplotlib.figure.Figure at 0x1ebae5db240>"
      ]
     },
     "metadata": {},
     "output_type": "display_data"
    },
    {
     "name": "stdout",
     "output_type": "stream",
     "text": [
      "reward\n"
     ]
    },
    {
     "data": {
      "image/png": "[encoded data removed]",
      "text/plain": [
       "<matplotlib.figure.Figure at 0x1eba63997b8>"
      ]
     },
     "metadata": {},
     "output_type": "display_data"
    },
    {
     "name": "stdout",
     "output_type": "stream",
     "text": [
      "avg terminal_state\n"
     ]
    },
    {
     "data": {
      "image/png": "[encoded data removed]",
      "text/plain": [
       "<matplotlib.figure.Figure at 0x1eba98ea6a0>"
      ]
     },
     "metadata": {},
     "output_type": "display_data"
    },
    {
     "name": "stdout",
     "output_type": "stream",
     "text": [
      "terminal_state\n"
     ]
    },
    {
     "data": {
      "image/png": "[encoded data removed]",
      "text/plain": [
       "<matplotlib.figure.Figure at 0x1eba6964470>"
      ]
     },
     "metadata": {},
     "output_type": "display_data"
    },
    {
     "name": "stdout",
     "output_type": "stream",
     "text": [
      "loss\n"
     ]
    },
    {
     "data": {
      "image/png": "[encoded data removed]",
      "text/plain": [
       "<matplotlib.figure.Figure at 0x1eba9439e48>"
      ]
     },
     "metadata": {},
     "output_type": "display_data"
    }
   ],
   "source": [
    "W = 30\n",
    "print(\"avg reward\")\n",
    "plt.plot(np.convolve(history['reward'], np.ones(W), 'valid')/W, '*')\n",
    "plt.show()\n",
    "print(\"reward\")\n",
    "plt.plot(history['reward'], '*')\n",
    "plt.show()\n",
    "print(\"avg terminal_state\")\n",
    "plt.plot(np.convolve(history['terminal_state'], np.ones(W), 'valid')/W, '*')\n",
    "plt.show()\n",
    "print(\"terminal_state\")\n",
    "plt.plot(history['terminal_state'], '*')\n",
    "plt.show()\n",
    "print(\"loss\")\n",
    "plt.plot(history['loss'], '*')\n",
    "plt.show()"
   ]
  },
  {
   "cell_type": "code",
   "execution_count": 154,
   "metadata": {},
   "outputs": [
    {
     "data": {
      "text/plain": [
       "9"
      ]
     },
     "execution_count": 154,
     "metadata": {},
     "output_type": "execute_result"
    }
   ],
   "source": [
    "episode_len"
   ]
  },
  {
   "cell_type": "code",
   "execution_count": 165,
   "metadata": {},
   "outputs": [
    {
     "data": {
      "text/plain": [
       "array([[-0.1, -0.1, -0.1, -0.1, -0.1],\n",
       "       [-0.1, -0.1, -0.1, -0.1, -0.1],\n",
       "       [-0.1, -0.1, -0.1, -0.1, -0.1],\n",
       "       [-0.1, -0.1, -0.1, -0.1, -0.1],\n",
       "       [-0.1, -0.1, -0.1, -0.1, -0.1],\n",
       "       [-0.1, -0.1, -0.1, -0.1, -0.1],\n",
       "       [-0.1, -0.1, -0.1, -0.1, -0.1],\n",
       "       [-0.1, -0.1, -0.1, -0.1, -0.1],\n",
       "       [-0.1, -0.1, -0.1, -0.1, -0.1]])"
      ]
     },
     "execution_count": 165,
     "metadata": {},
     "output_type": "execute_result"
    }
   ],
   "source": [
    "reward_seq"
   ]
  },
  {
   "cell_type": "code",
   "execution_count": 163,
   "metadata": {},
   "outputs": [
    {
     "data": {
      "text/plain": [
       "array([[ 0.        ,  0.        ,  0.        ,  0.        , -0.        ,\n",
       "         0.        , -0.        ,  0.        ,  0.        ,  0.        ,\n",
       "         0.        ,  0.        ,  0.        ,  0.        ,  0.        ,\n",
       "         0.        ,  0.        ,  0.        ,  0.        ,  0.        ,\n",
       "         0.        , -0.        ,  0.        ,  0.        ,  0.        ,\n",
       "         0.        ,  0.        ,  0.        ,  0.        ,  0.        ,\n",
       "         0.        ,  0.        ,  0.        , -0.        ,  0.        ,\n",
       "         0.        ,  0.        ,  0.        ,  0.        ,  0.        ,\n",
       "         0.        ,  0.        ,  0.        ,  0.        , -0.        ,\n",
       "         0.        ,  0.        ,  0.        ,  0.        ,  0.        ,\n",
       "         0.        ,  0.        , -0.        , -0.        ,  0.        ,\n",
       "         0.        , -0.        ,  0.        ,  0.        , -0.        ,\n",
       "        -0.        , -0.        , -0.        , -0.        , -0.        ,\n",
       "         0.        , -0.        , -0.        , -0.        , -0.        ,\n",
       "         0.        , -0.        , -0.        , -0.        ,  0.        ,\n",
       "        -0.        ,  0.        , -0.        ,  0.        , -0.        ,\n",
       "         0.        ,  0.        , -0.        ,  0.        ,  0.        ,\n",
       "        -0.        , -0.        , -0.        , -0.        , -0.        ,\n",
       "         0.        ,  0.        , -0.        ,  0.        , -0.        ,\n",
       "        -0.        , -0.        ,  0.        ,  0.        ,  0.        ],\n",
       "       [ 0.        ,  0.        ,  0.        ,  0.        , -0.        ,\n",
       "         0.        ,  0.        ,  0.        ,  0.        ,  0.        ,\n",
       "         0.        ,  0.        ,  0.        ,  0.        ,  0.        ,\n",
       "         0.        ,  0.        ,  0.        , -0.        ,  0.        ,\n",
       "         0.        ,  0.        ,  0.        ,  0.        ,  0.        ,\n",
       "         0.        , -0.        ,  0.        , -0.        ,  0.        ,\n",
       "        -0.        ,  0.        ,  0.        , -0.        ,  0.        ,\n",
       "         0.        ,  0.        ,  0.        , -0.        ,  0.        ,\n",
       "         0.        ,  0.        ,  0.        , -0.        , -0.        ,\n",
       "         0.        ,  0.        ,  0.        ,  0.        ,  0.        ,\n",
       "         0.        ,  0.        , -0.        , -0.        ,  0.        ,\n",
       "         0.        , -0.        ,  0.        ,  0.        , -0.        ,\n",
       "        -0.        , -0.        , -0.        , -0.        , -0.        ,\n",
       "         0.        , -0.        , -0.        , -0.        , -0.        ,\n",
       "         0.        , -0.        , -0.        , -0.        ,  0.        ,\n",
       "        -0.        ,  0.        , -0.        ,  0.        , -0.        ,\n",
       "         0.        ,  0.        , -0.        ,  0.        ,  0.        ,\n",
       "        -0.        , -0.        , -0.        , -0.        , -0.        ,\n",
       "         0.        ,  0.        , -0.        ,  0.        , -0.        ,\n",
       "        -0.        , -0.        ,  0.        ,  0.        ,  0.        ],\n",
       "       [ 0.        ,  0.        ,  0.        ,  0.        ,  0.        ,\n",
       "         0.        ,  0.        ,  0.        ,  0.        ,  0.        ,\n",
       "         0.        ,  0.        , -0.        ,  0.        ,  0.        ,\n",
       "         0.        ,  0.        ,  0.        ,  0.        ,  0.        ,\n",
       "         0.        ,  0.        ,  0.        ,  0.        , -0.        ,\n",
       "         0.        ,  0.        ,  0.        , -0.        ,  0.        ,\n",
       "         0.        ,  0.        ,  0.        ,  0.        ,  0.        ,\n",
       "         0.        ,  0.        ,  0.        ,  0.        ,  0.        ,\n",
       "         0.        ,  0.        ,  0.        , -0.        ,  0.        ,\n",
       "         0.        ,  0.        ,  0.        ,  0.        ,  0.        ,\n",
       "         0.        ,  0.        , -0.        , -0.        ,  0.        ,\n",
       "         0.        , -0.        ,  0.        ,  0.        , -0.        ,\n",
       "        -0.        , -0.        , -0.        , -0.        , -0.        ,\n",
       "         0.        , -0.        , -0.        , -0.        , -0.        ,\n",
       "         0.        , -0.        , -0.        , -0.        ,  0.        ,\n",
       "        -0.        ,  0.        , -0.        ,  0.        , -0.        ,\n",
       "         0.        ,  0.        , -0.        ,  0.        ,  0.        ,\n",
       "        -0.        , -0.        , -0.        , -0.        , -0.        ,\n",
       "         0.        ,  0.        , -0.        ,  0.        , -0.        ,\n",
       "        -0.        , -0.        ,  0.        ,  0.        ,  0.        ],\n",
       "       [ 0.        ,  0.        ,  0.        ,  0.        ,  0.        ,\n",
       "         0.        ,  0.        ,  0.        ,  0.        ,  0.        ,\n",
       "         0.        ,  0.        ,  0.        ,  0.        ,  0.        ,\n",
       "         0.        ,  0.        ,  0.        ,  0.        ,  0.        ,\n",
       "         0.        , -0.        ,  0.        ,  0.        , -0.        ,\n",
       "         0.        ,  0.        ,  0.        ,  0.        ,  0.        ,\n",
       "        -0.        ,  0.        ,  0.        ,  0.        ,  0.        ,\n",
       "         0.        ,  0.        ,  0.        ,  0.        ,  0.        ,\n",
       "         0.        ,  0.        ,  0.        ,  0.        , -0.        ,\n",
       "         0.        ,  0.        ,  0.        ,  0.        ,  0.        ,\n",
       "         0.        ,  0.        , -0.        , -0.        ,  0.        ,\n",
       "         0.        , -0.        ,  0.        ,  0.        , -0.        ,\n",
       "        -0.        , -0.        , -0.        , -0.        , -0.        ,\n",
       "         0.        , -0.        , -0.        , -0.        , -0.        ,\n",
       "         0.        , -0.        , -0.        , -0.        ,  0.        ,\n",
       "        -0.        ,  0.        , -0.        ,  0.        , -0.        ,\n",
       "         0.        ,  0.        , -0.        ,  0.        ,  0.        ,\n",
       "        -0.        , -0.        , -0.        , -0.        , -0.        ,\n",
       "         0.        ,  0.        , -0.        ,  0.        , -0.        ,\n",
       "        -0.        , -0.        ,  0.        ,  0.        ,  0.        ],\n",
       "       [ 0.        ,  0.        ,  0.        ,  0.        ,  0.        ,\n",
       "         0.        ,  0.        ,  0.        ,  0.        ,  0.        ,\n",
       "         0.        ,  0.        , -0.        ,  0.        ,  0.        ,\n",
       "         0.        ,  0.        ,  0.        ,  0.        ,  0.        ,\n",
       "         0.        , -0.        ,  0.        ,  0.        , -0.        ,\n",
       "         0.        ,  0.        ,  0.        ,  0.        ,  0.        ,\n",
       "         0.        ,  0.        , -0.        , -0.        ,  0.        ,\n",
       "         0.        ,  0.        ,  0.        , -0.        ,  0.        ,\n",
       "         0.        ,  0.        ,  0.        , -0.        , -0.        ,\n",
       "         0.        ,  0.        ,  0.        ,  0.        ,  0.        ,\n",
       "         0.        ,  0.        , -0.        , -0.        ,  0.        ,\n",
       "         0.        , -0.        ,  0.        ,  0.        , -0.        ,\n",
       "        -0.        , -0.        , -0.        , -0.        , -0.        ,\n",
       "         0.        , -0.        , -0.        , -0.        , -0.        ,\n",
       "         0.        , -0.        , -0.        , -0.        ,  0.        ,\n",
       "        -0.        ,  0.        , -0.        ,  0.        , -0.        ,\n",
       "         0.        ,  0.        , -0.        ,  0.        ,  0.        ,\n",
       "        -0.        , -0.        , -0.        , -0.        , -0.        ,\n",
       "         0.        ,  0.        , -0.        ,  0.        , -0.        ,\n",
       "        -0.        , -0.        ,  0.        ,  0.        ,  0.        ],\n",
       "       [ 0.        ,  0.        ,  0.        ,  0.        , -0.        ,\n",
       "         0.        ,  0.        ,  0.        ,  0.        ,  0.        ,\n",
       "         0.        ,  0.        , -0.        ,  0.        ,  0.        ,\n",
       "         0.        , -0.        ,  0.        , -0.        ,  0.        ,\n",
       "         0.        ,  0.        ,  0.        ,  0.        ,  0.        ,\n",
       "         0.        ,  0.        ,  0.        , -0.        ,  0.        ,\n",
       "        -0.        ,  0.        , -0.        ,  0.        ,  0.        ,\n",
       "         0.        , -0.        ,  0.        , -0.        ,  0.        ,\n",
       "         0.        ,  0.        ,  0.        ,  0.        ,  0.        ,\n",
       "        -0.        ,  0.        ,  0.        ,  0.        ,  0.        ,\n",
       "         0.        ,  0.        , -0.        , -0.        ,  0.        ,\n",
       "         0.        , -0.        ,  0.        ,  0.        , -0.        ,\n",
       "        -0.        , -0.        , -0.        , -0.        , -0.        ,\n",
       "         0.        , -0.        , -0.        , -0.        , -0.        ,\n",
       "         0.        , -0.        , -0.        , -0.        ,  0.        ,\n",
       "        -0.        ,  0.        , -0.        ,  0.        , -0.        ,\n",
       "         0.        ,  0.        , -0.        ,  0.        ,  0.        ,\n",
       "        -0.        , -0.        , -0.        , -0.        , -0.        ,\n",
       "         0.        ,  0.        , -0.        ,  0.        , -0.        ,\n",
       "        -0.        , -0.        ,  0.        ,  0.        ,  0.        ],\n",
       "       [ 0.        ,  0.        ,  0.        ,  0.        ,  0.        ,\n",
       "         0.        ,  0.        ,  0.        ,  0.        ,  0.        ,\n",
       "         0.        ,  0.        , -0.        ,  0.        ,  0.        ,\n",
       "         0.        , -0.        ,  0.        , -0.        ,  0.        ,\n",
       "         0.        ,  0.        ,  0.        ,  0.        ,  0.        ,\n",
       "         0.        ,  0.        ,  0.        ,  0.        ,  0.        ,\n",
       "         0.        ,  0.        ,  0.        ,  0.        ,  0.        ,\n",
       "         0.        , -0.        ,  0.        ,  0.        ,  0.        ,\n",
       "         0.        ,  0.        ,  0.        ,  0.        ,  0.        ,\n",
       "         0.        ,  0.        ,  0.        ,  0.        ,  0.        ,\n",
       "         0.        , -0.        , -0.        , -0.        , -0.        ,\n",
       "        -0.        ,  0.        ,  0.        , -0.        ,  0.        ,\n",
       "        -0.        ,  0.        ,  0.        , -0.        ,  0.        ,\n",
       "         0.        , -0.        , -0.        ,  0.        ,  0.        ,\n",
       "        -0.        , -0.        ,  0.        ,  0.        , -0.        ,\n",
       "        -0.        ,  0.        ,  0.        , -0.        ,  0.        ,\n",
       "         0.        ,  0.        ,  0.        , -0.        ,  0.        ,\n",
       "        -0.        , -0.        , -0.        ,  0.        ,  0.        ,\n",
       "        -0.        , -0.        , -0.        , -0.        , -0.        ,\n",
       "        -0.        ,  0.        , -0.        ,  0.        , -0.        ],\n",
       "       [ 0.18699025, -0.06596398, -0.13247003,  0.20050502, -0.19059066,\n",
       "         0.13235576,  0.05759279, -0.1879064 ,  0.07114889, -0.09336056,\n",
       "        -0.14676616,  0.19890042, -0.17452441,  0.02271869, -0.19142617,\n",
       "         0.19844896, -0.03776616,  0.11215083, -0.12883832,  0.00496807,\n",
       "         0.0729358 , -0.20490576,  0.00550932, -0.06800599,  0.07764547,\n",
       "         0.08456828,  0.2307684 , -0.18034491, -0.03235506, -0.07934052,\n",
       "        -0.03796539, -0.08616456, -0.07969769, -0.13760239, -0.21300326,\n",
       "        -0.1419389 , -0.16751137,  0.09217681, -0.09831175, -0.12360451,\n",
       "        -0.18941674,  0.08034907, -0.10658956,  0.02018413,  0.05953858,\n",
       "        -0.1069665 ,  0.02291309,  0.24759196,  0.23709527, -0.138352  ,\n",
       "         0.21146092,  0.0903392 , -0.00385462, -0.09530274,  0.18390751,\n",
       "         0.20309518, -0.21688667,  0.01795678,  0.01723711, -0.06178981,\n",
       "        -0.00660862, -0.02324084, -0.20241608, -0.16313766, -0.20629463,\n",
       "         0.16894174, -0.04260563, -0.18999271, -0.17792286, -0.14868379,\n",
       "         0.05058626, -0.20979287, -0.05842785, -0.15907499,  0.19306216,\n",
       "        -0.05098026,  0.19605239, -0.07802616,  0.16410981, -0.12034033,\n",
       "         0.02447811,  0.07991673, -0.21035345,  0.2256742 ,  0.14926273,\n",
       "        -0.14359146, -0.18167725, -0.18118979, -0.14674698, -0.01605318,\n",
       "         0.07686626,  0.16708647, -0.23066503,  0.14551398, -0.18151703,\n",
       "        -0.1442323 , -0.17651635,  0.09072229,  0.17058824,  0.06004186],\n",
       "       [ 0.        ,  0.        ,  0.        ,  0.        , -0.        ,\n",
       "         0.        ,  0.        ,  0.        ,  0.        ,  0.        ,\n",
       "         0.        ,  0.        , -0.        ,  0.        ,  0.        ,\n",
       "         0.        , -0.        ,  0.        , -0.        ,  0.        ,\n",
       "         0.        ,  0.        ,  0.        ,  0.        ,  0.        ,\n",
       "         0.        ,  0.        ,  0.        , -0.        ,  0.        ,\n",
       "        -0.        ,  0.        , -0.        ,  0.        ,  0.        ,\n",
       "         0.        , -0.        ,  0.        , -0.        ,  0.        ,\n",
       "         0.        ,  0.        ,  0.        ,  0.        ,  0.        ,\n",
       "        -0.        ,  0.        ,  0.        ,  0.        ,  0.        ,\n",
       "         0.        , -0.        , -0.        , -0.        , -0.        ,\n",
       "        -0.        ,  0.        ,  0.        , -0.        ,  0.        ,\n",
       "        -0.        ,  0.        ,  0.        , -0.        ,  0.        ,\n",
       "         0.        , -0.        , -0.        ,  0.        ,  0.        ,\n",
       "        -0.        , -0.        ,  0.        ,  0.        , -0.        ,\n",
       "        -0.        ,  0.        ,  0.        , -0.        ,  0.        ,\n",
       "         0.        ,  0.        ,  0.        , -0.        ,  0.        ,\n",
       "        -0.        , -0.        , -0.        ,  0.        ,  0.        ,\n",
       "        -0.        , -0.        , -0.        , -0.        , -0.        ,\n",
       "        -0.        ,  0.        , -0.        ,  0.        , -0.        ]],\n",
       "      dtype=float32)"
      ]
     },
     "execution_count": 163,
     "metadata": {},
     "output_type": "execute_result"
    }
   ],
   "source": [
    "rv[0]['co_seq'][4]"
   ]
  },
  {
   "cell_type": "code",
   "execution_count": 164,
   "metadata": {},
   "outputs": [
    {
     "data": {
      "text/plain": [
       "array([[[47, 55, 56, 11, 57],\n",
       "        [24, 24, 24, 24, 24]],\n",
       "\n",
       "       [[48, 56, 56, 12, 57],\n",
       "        [24, 24, 24, 24, 24]],\n",
       "\n",
       "       [[48, 56, 56, 13, 57],\n",
       "        [24, 24, 24, 24, 24]],\n",
       "\n",
       "       [[48, 56, 55, 14, 58],\n",
       "        [24, 24, 24, 24, 24]],\n",
       "\n",
       "       [[48, 56, 56, 15, 59],\n",
       "        [24, 24, 24, 24, 24]],\n",
       "\n",
       "       [[48, 64, 64, 16, 60],\n",
       "        [24, 24, 24, 24, 24]],\n",
       "\n",
       "       [[48, 63, 64, 16, 59],\n",
       "        [32, 32, 32, 32, 32]],\n",
       "\n",
       "       [[48, 64, 56, 16, 59],\n",
       "        [24, 24, 24, 24, 24]],\n",
       "\n",
       "       [[48, 64, 64, 16, 60],\n",
       "        [32, 32, 32, 32, 32]]])"
      ]
     },
     "execution_count": 164,
     "metadata": {},
     "output_type": "execute_result"
    }
   ],
   "source": [
    "state_seq"
   ]
  },
  {
   "cell_type": "code",
   "execution_count": 166,
   "metadata": {},
   "outputs": [
    {
     "data": {
      "text/plain": [
       "array([[ 1,  2,  3,  4,  5,  6,  7,  8],\n",
       "       [ 9, 10, 11, 12, 13, 14, 15, 16],\n",
       "       [17, 18, 19, 20, 21, 22, 23, 24],\n",
       "       [25, 26, 27, 28, 29, 30, 31, 32],\n",
       "       [33, 34, 35, 36, 37, 38, 39, 40],\n",
       "       [41, 42, 43, 44, 45, 46, 47, 48],\n",
       "       [49, 50, 51, 52, 53, 54, 55, 56],\n",
       "       [57, 58, 59, 60, 61, 62, 63, 64]])"
      ]
     },
     "execution_count": 166,
     "metadata": {},
     "output_type": "execute_result"
    }
   ],
   "source": [
    "np.arange(8*8).reshape(8,8) + 1"
   ]
  },
  {
   "cell_type": "code",
   "execution_count": 129,
   "metadata": {},
   "outputs": [
    {
     "data": {
      "text/plain": [
       "array([[-0.03, -0.03, -0.03, -0.03, -0.03],\n",
       "       [-0.03, -0.03, -0.03, -0.03, -0.03],\n",
       "       [-0.03, -0.03, -0.03, -0.03, -0.03],\n",
       "       [-0.03, -0.03, -0.03, -0.03, -0.03],\n",
       "       [-0.03, -0.03, -0.03, -0.03, -0.03],\n",
       "       [-0.03, -0.03, -0.03, -0.03, -0.03]])"
      ]
     },
     "execution_count": 129,
     "metadata": {},
     "output_type": "execute_result"
    }
   ],
   "source": [
    "reward_seq"
   ]
  },
  {
   "cell_type": "code",
   "execution_count": 130,
   "metadata": {},
   "outputs": [
    {
     "name": "stdout",
     "output_type": "stream",
     "text": [
      "[[[29 35 45  5 56]\n",
      "  [48 48 48 48 48]]\n",
      "\n",
      " [[21 27 37  5 48]\n",
      "  [40 40 40 40 40]]\n",
      "\n",
      " [[13 19 29  5 40]\n",
      "  [32 32 32 32 32]]\n",
      "\n",
      " [[ 5 11 21  5 32]\n",
      "  [24 24 24 24 24]]\n",
      "\n",
      " [[ 5  3 13  5 24]\n",
      "  [16 16 16 16 16]]\n",
      "\n",
      " [[ 5  3  5  5 16]\n",
      "  [ 8  8  8  8  8]]]\n"
     ]
    }
   ],
   "source": [
    "print(state_seq)"
   ]
  },
  {
   "cell_type": "code",
   "execution_count": 131,
   "metadata": {},
   "outputs": [
    {
     "name": "stdout",
     "output_type": "stream",
     "text": [
      "[[1 1 1 1 1]\n",
      " [1 1 1 1 1]\n",
      " [1 1 1 1 1]\n",
      " [1 1 1 1 1]\n",
      " [1 1 1 1 1]\n",
      " [1 1 1 1 1]]\n"
     ]
    }
   ],
   "source": [
    "print(movement_action_seq)"
   ]
  },
  {
   "cell_type": "code",
   "execution_count": 132,
   "metadata": {},
   "outputs": [
    {
     "name": "stdout",
     "output_type": "stream",
     "text": [
      "[[0. 0. 0. 0. 0.]\n",
      " [0. 0. 0. 0. 0.]\n",
      " [0. 0. 0. 0. 0.]\n",
      " [0. 0. 0. 0. 0.]\n",
      " [0. 0. 0. 0. 0.]\n",
      " [0. 0. 0. 0. 0.]\n",
      " [0. 0. 0. 0. 0.]]\n"
     ]
    }
   ],
   "source": [
    "print(communication_action_seq)"
   ]
  },
  {
   "cell_type": "code",
   "execution_count": 115,
   "metadata": {},
   "outputs": [
    {
     "name": "stdout",
     "output_type": "stream",
     "text": [
      "[[ -0.03  -0.03  -0.03  -0.03  -0.03]\n",
      " [ -0.03  -0.03  -0.03  -0.03  -0.03]\n",
      " [ -0.03  -0.03  -0.03  -0.03  -0.03]\n",
      " [ -0.03  -0.03  -0.03  -0.03  -0.03]\n",
      " [ -0.03  -0.03  -0.03  -0.03  -0.03]\n",
      " [ -0.03  -0.03  -0.03  -0.03  -0.03]\n",
      " [ -0.03  -0.03  -0.03  -0.03  -0.03]\n",
      " [ -0.03  -0.03  -0.03  -0.03  -0.03]\n",
      " [ -0.03  -0.03  -0.03  -0.03  -0.03]\n",
      " [ -0.03  -0.03  -0.03  -0.03  -0.03]\n",
      " [ -0.03  -0.03  -0.03  -0.03  -0.03]\n",
      " [ -0.03  -0.03  -0.03  -0.03  -0.03]\n",
      " [ -0.03  -0.03  -0.03  -0.03  -0.03]\n",
      " [ -0.03  -0.03  -0.03  -0.03  -0.03]\n",
      " [ -0.03  -0.03  -0.03  -0.03  -0.03]\n",
      " [ -0.03  -0.03  -0.03  -0.03  -0.03]\n",
      " [ -0.03  -0.03  -0.03  -0.03  -0.03]\n",
      " [ -0.03  -0.03  -0.03  -0.03  -0.03]\n",
      " [ -0.03  -0.03  -0.03  -0.03  -0.03]\n",
      " [ -0.03  -0.03  -0.03  -0.03  -0.03]\n",
      " [ -0.03  -0.03  -0.03  -0.03  -0.03]\n",
      " [ -0.03  -0.03  -0.03  -0.03  -0.03]\n",
      " [ -0.03  -0.03  -0.03  -0.03  -0.03]\n",
      " [ -0.03  -0.03  -0.03  -0.03  -0.03]\n",
      " [ -0.03  -0.03  -0.03  -0.03  -0.03]\n",
      " [ -0.03  -0.03  -0.03  -0.03  -0.03]\n",
      " [ -0.03  -0.03  -0.03  -0.03  -0.03]\n",
      " [ -0.03  -0.03  -0.03  -0.03  -0.03]\n",
      " [ -0.03  -0.03  -0.03  -0.03  -0.03]\n",
      " [ -0.03  -0.03  -0.03  -0.03  -0.03]\n",
      " [ -0.03  -0.03  -0.03  -0.03  -0.03]\n",
      " [ -0.03  -0.03  -0.03  -0.03  -0.03]\n",
      " [ -0.03  -0.03  -0.03  -0.03  -0.03]\n",
      " [ -0.03  -0.03  -0.03  -0.03  -0.03]\n",
      " [ -0.03  -0.03  -0.03  -0.03  -0.03]\n",
      " [ -0.03  -0.03  -0.03  -0.03  -0.03]\n",
      " [ -0.03  -0.03  -0.03  -0.03  -0.03]\n",
      " [ -0.03  -0.03  -0.03  -0.03  -0.03]\n",
      " [ -0.03  -0.03  -0.03  -0.03  -0.03]\n",
      " [ -0.03  -0.03  -0.03  -0.03  -0.03]\n",
      " [ -0.03  -0.03  -0.03  -0.03  -0.03]\n",
      " [ -0.03  -0.03  -0.03  -0.03  -0.03]\n",
      " [ -0.03  -0.03  -0.03  -0.03  -0.03]\n",
      " [ -0.03  -0.03  -0.03  -0.03  -0.03]\n",
      " [ -0.03  -0.03  -0.03  -0.03  -0.03]\n",
      " [ -0.03  -0.03  -0.03  -0.03  -0.03]\n",
      " [ -0.03  -0.03  -0.03  -0.03  -0.03]\n",
      " [ -0.03  -0.03  -0.03  -0.03  -0.03]\n",
      " [ -0.03  -0.03  -0.03  -0.03  -0.03]\n",
      " [ -0.03  -0.03  -0.03  -0.03  -0.03]\n",
      " [ -0.03  -0.03  -0.03  -0.03  -0.03]\n",
      " [ -0.03  -0.03  -0.03  -0.03  -0.03]\n",
      " [ -0.03  -0.03  -0.03  -0.03  -0.03]\n",
      " [ -0.03  -0.03  -0.03  -0.03  -0.03]\n",
      " [ -0.03  -0.03  -0.03  -0.03  -0.03]\n",
      " [ -0.03  -0.03  -0.03  -0.03  -0.03]\n",
      " [ -0.03  -0.03  -0.03  -0.03  -0.03]\n",
      " [ -0.03  -0.03  -0.03  -0.03  -0.03]\n",
      " [ -0.03  -0.03  -0.03  -0.03  -0.03]\n",
      " [-10.03 -10.03 -10.03 -10.03 -10.03]]\n"
     ]
    }
   ],
   "source": [
    "print(np.round(reward_seq, 3))"
   ]
  },
  {
   "cell_type": "code",
   "execution_count": 116,
   "metadata": {},
   "outputs": [
    {
     "name": "stdout",
     "output_type": "stream",
     "text": [
      "[[ -7.505994   -7.2363214  -8.416592   -9.0145035 -10.281832 ]\n",
      " [ -7.7792654  -7.7702265  -7.9410815  -9.139967  -10.281832 ]\n",
      " [ -8.537815   -7.882432   -7.348721   -9.293114  -10.281832 ]\n",
      " [ -8.166035   -8.253392   -8.961298   -9.720509  -10.281832 ]\n",
      " [ -7.937786   -8.504226   -9.114716  -10.670507  -10.281832 ]\n",
      " [ -9.044069   -9.364991  -10.281832  -10.670507  -10.281832 ]\n",
      " [ -9.322194   -9.259715  -10.281832  -10.670507  -10.281832 ]\n",
      " [-10.156715  -10.65514   -10.281832  -10.670507  -10.281832 ]\n",
      " [-10.156715  -10.65514   -10.281832  -10.670507  -10.281832 ]\n",
      " [-10.156715  -10.65514   -10.281832  -10.670507  -10.281832 ]\n",
      " [-10.156715  -10.65514   -10.281832  -10.670507  -10.281832 ]\n",
      " [-10.156715  -10.65514   -10.281832  -10.670507  -10.281832 ]\n",
      " [-10.156715  -10.65514   -10.281832  -10.670507  -10.281832 ]\n",
      " [-10.156715  -10.65514   -10.281832  -10.670507  -10.281832 ]\n",
      " [-10.156715  -10.65514   -10.281832  -10.670507  -10.281832 ]\n",
      " [-10.156715  -10.65514   -10.281832  -10.670507  -10.281832 ]\n",
      " [-10.156715  -10.65514   -10.281832  -10.670507  -10.281832 ]\n",
      " [-10.156715  -10.65514   -10.281832  -10.670507  -10.281832 ]\n",
      " [-10.156715  -10.65514   -10.281832  -10.670507  -10.281832 ]\n",
      " [-10.156715  -10.65514   -10.281832  -10.670507  -10.281832 ]\n",
      " [-10.156715  -10.65514   -10.281832  -10.670507  -10.281832 ]\n",
      " [-10.156715  -10.156715  -10.281832  -10.670507  -10.281832 ]\n",
      " [-10.156715  -10.156715  -10.281832  -10.670507  -10.281832 ]\n",
      " [-10.156715  -10.156715  -10.281832  -10.670507  -10.281832 ]\n",
      " [-10.156715  -10.156715  -10.281832  -10.670507  -10.281832 ]\n",
      " [-10.156715  -10.156715  -10.281832  -10.670507  -10.281832 ]\n",
      " [-10.156715  -10.156715  -10.281832  -10.670507  -10.281832 ]\n",
      " [-10.156715  -10.156715  -10.281832  -10.670507  -10.281832 ]\n",
      " [-10.156715  -10.156715  -10.281832  -10.670507  -10.281832 ]\n",
      " [-10.156715  -10.156715  -10.281832  -10.670507  -10.281832 ]\n",
      " [-10.156715  -10.156715  -10.281832  -10.670507  -10.281832 ]\n",
      " [-10.156715  -10.156715  -10.281832  -10.670507  -10.281832 ]\n",
      " [-10.156715  -10.156715  -10.281832  -10.670507  -10.281832 ]\n",
      " [-10.156715  -10.156715  -10.281832  -10.670507  -10.281832 ]\n",
      " [-10.156715  -10.156715  -10.281832  -10.670507  -10.281832 ]\n",
      " [-10.156715  -10.156715  -10.281832  -10.670507  -10.281832 ]\n",
      " [-10.156715  -10.156715  -10.281832  -10.670507  -10.281832 ]\n",
      " [-10.156715  -10.156715  -10.281832  -10.670507  -10.281832 ]\n",
      " [-10.156715  -10.156715  -10.281832  -10.670507  -10.281832 ]\n",
      " [-10.156715  -10.156715  -10.281832  -10.670507  -10.281832 ]\n",
      " [-10.156715  -10.156715  -10.281832  -10.670507  -10.281832 ]\n",
      " [-10.156715  -10.156715  -10.281832  -10.670507  -10.281832 ]\n",
      " [-10.156715  -10.156715  -10.281832  -10.670507  -10.281832 ]\n",
      " [-10.156715  -10.156715  -10.281832  -10.670507  -10.281832 ]\n",
      " [-10.156715  -10.156715  -10.281832  -10.670507  -10.281832 ]\n",
      " [-10.156715  -10.156715  -10.281832  -10.670507  -10.281832 ]\n",
      " [-10.156715  -10.156715  -10.281832  -10.670507  -10.281832 ]\n",
      " [-10.156715  -10.156715  -10.281832  -10.670507  -10.281832 ]\n",
      " [-10.156715  -10.156715  -10.281832  -10.670507  -10.281832 ]\n",
      " [-10.156715  -10.156715  -10.281832  -10.670507  -10.281832 ]\n",
      " [-10.156715  -10.156715  -10.281832  -10.670507  -10.281832 ]\n",
      " [-10.156715  -10.156715  -10.281832  -10.670507  -10.281832 ]\n",
      " [-10.156715  -10.156715  -10.281832  -10.670507  -10.281832 ]\n",
      " [-10.156715  -10.156715  -10.281832  -10.670507   -9.114716 ]\n",
      " [-10.156715  -10.156715  -10.281832  -10.670507  -10.281832 ]\n",
      " [-10.156715  -10.156715  -10.281832  -10.670507  -10.281832 ]\n",
      " [-10.156715  -10.156715  -10.281832  -10.670507  -10.281832 ]\n",
      " [-10.156715  -10.156715  -10.281832  -10.670507  -10.281832 ]\n",
      " [-10.156715  -10.156715  -10.281832  -10.670507  -10.281832 ]\n",
      " [-10.156715  -10.156715  -10.281832  -10.670507  -10.281832 ]]\n"
     ]
    }
   ],
   "source": [
    "print(baseline_seq)"
   ]
  },
  {
   "cell_type": "code",
   "execution_count": 117,
   "metadata": {},
   "outputs": [
    {
     "data": {
      "text/plain": [
       "(1, 7)"
      ]
     },
     "execution_count": 117,
     "metadata": {},
     "output_type": "execute_result"
    }
   ],
   "source": [
    "env.prey_coord"
   ]
  },
  {
   "cell_type": "code",
   "execution_count": 118,
   "metadata": {},
   "outputs": [
    {
     "data": {
      "text/plain": [
       "[(7, 4), (7, 4), (7, 6), (7, 1), (7, 6)]"
      ]
     },
     "execution_count": 118,
     "metadata": {},
     "output_type": "execute_result"
    }
   ],
   "source": [
    "env.pred_coord"
   ]
  },
  {
   "cell_type": "code",
   "execution_count": null,
   "metadata": {},
   "outputs": [],
   "source": []
  },
  {
   "cell_type": "code",
   "execution_count": null,
   "metadata": {},
   "outputs": [],
   "source": []
  },
  {
   "cell_type": "code",
   "execution_count": 74,
   "metadata": {},
   "outputs": [
    {
     "name": "stdout",
     "output_type": "stream",
     "text": [
      "Tensor(\"unstack_1:0\", shape=(?, 5), dtype=int32)\n",
      "Tensor(\"unstack_1:1\", shape=(?, 5), dtype=int32)\n",
      "[<tf.Tensor 'unstack_2:0' shape=(?, 100) dtype=float32>, <tf.Tensor 'unstack_2:1' shape=(?, 100) dtype=float32>, <tf.Tensor 'unstack_2:2' shape=(?, 100) dtype=float32>, <tf.Tensor 'unstack_2:3' shape=(?, 100) dtype=float32>, <tf.Tensor 'unstack_2:4' shape=(?, 100) dtype=float32>]\n",
      "All variables\n",
      "<tf.Variable 'Encoder/agent_position_embedding:0' shape=(101, 50) dtype=float32_ref>\n",
      "<tf.Variable 'Encoder/prey_position_embedding:0' shape=(101, 50) dtype=float32_ref>\n",
      "<tf.Variable 'Comm_step_1/b1:0' shape=(1, 100) dtype=float32_ref>\n",
      "<tf.Variable 'Comm_step_1/W1:0' shape=(200, 100) dtype=float32_ref>\n",
      "<tf.Variable 'Comm_step_1/W2:0' shape=(100, 100) dtype=float32_ref>\n",
      "<tf.Variable 'Comm_step_1/b2:0' shape=(1, 100) dtype=float32_ref>\n",
      "<tf.Variable 'Comm_step_2/b1:0' shape=(1, 100) dtype=float32_ref>\n",
      "<tf.Variable 'Comm_step_2/W1:0' shape=(300, 100) dtype=float32_ref>\n",
      "<tf.Variable 'Comm_step_2/W2:0' shape=(100, 100) dtype=float32_ref>\n",
      "<tf.Variable 'Comm_step_2/b2:0' shape=(1, 100) dtype=float32_ref>\n",
      "<tf.Variable 'Decoder_movement/W:0' shape=(100, 5) dtype=float32_ref>\n",
      "<tf.Variable 'Decoder_movement/b:0' shape=(1, 5) dtype=float32_ref>\n",
      "<tf.Variable 'Decoder_communication/W:0' shape=(100, 2) dtype=float32_ref>\n",
      "<tf.Variable 'Decoder_communication/b:0' shape=(1, 2) dtype=float32_ref>\n",
      "<tf.Variable 'Baseline/W:0' shape=(100, 1) dtype=float32_ref>\n",
      "<tf.Variable 'Baseline/b:0' shape=(1,) dtype=float32_ref>\n",
      "<tf.Variable 'Reinforce_optimizer/Encoder/agent_position_embedding/RMSProp:0' shape=(101, 50) dtype=float32_ref>\n",
      "<tf.Variable 'Reinforce_optimizer/Encoder/agent_position_embedding/RMSProp_1:0' shape=(101, 50) dtype=float32_ref>\n",
      "<tf.Variable 'Reinforce_optimizer/Encoder/prey_position_embedding/RMSProp:0' shape=(101, 50) dtype=float32_ref>\n",
      "<tf.Variable 'Reinforce_optimizer/Encoder/prey_position_embedding/RMSProp_1:0' shape=(101, 50) dtype=float32_ref>\n",
      "<tf.Variable 'Reinforce_optimizer/Comm_step_1/b1/RMSProp:0' shape=(1, 100) dtype=float32_ref>\n",
      "<tf.Variable 'Reinforce_optimizer/Comm_step_1/b1/RMSProp_1:0' shape=(1, 100) dtype=float32_ref>\n",
      "<tf.Variable 'Reinforce_optimizer/Comm_step_1/W1/RMSProp:0' shape=(200, 100) dtype=float32_ref>\n",
      "<tf.Variable 'Reinforce_optimizer/Comm_step_1/W1/RMSProp_1:0' shape=(200, 100) dtype=float32_ref>\n",
      "<tf.Variable 'Reinforce_optimizer/Comm_step_1/W2/RMSProp:0' shape=(100, 100) dtype=float32_ref>\n",
      "<tf.Variable 'Reinforce_optimizer/Comm_step_1/W2/RMSProp_1:0' shape=(100, 100) dtype=float32_ref>\n",
      "<tf.Variable 'Reinforce_optimizer/Comm_step_1/b2/RMSProp:0' shape=(1, 100) dtype=float32_ref>\n",
      "<tf.Variable 'Reinforce_optimizer/Comm_step_1/b2/RMSProp_1:0' shape=(1, 100) dtype=float32_ref>\n",
      "<tf.Variable 'Reinforce_optimizer/Comm_step_2/b1/RMSProp:0' shape=(1, 100) dtype=float32_ref>\n",
      "<tf.Variable 'Reinforce_optimizer/Comm_step_2/b1/RMSProp_1:0' shape=(1, 100) dtype=float32_ref>\n",
      "<tf.Variable 'Reinforce_optimizer/Comm_step_2/W1/RMSProp:0' shape=(300, 100) dtype=float32_ref>\n",
      "<tf.Variable 'Reinforce_optimizer/Comm_step_2/W1/RMSProp_1:0' shape=(300, 100) dtype=float32_ref>\n",
      "<tf.Variable 'Reinforce_optimizer/Comm_step_2/W2/RMSProp:0' shape=(100, 100) dtype=float32_ref>\n",
      "<tf.Variable 'Reinforce_optimizer/Comm_step_2/W2/RMSProp_1:0' shape=(100, 100) dtype=float32_ref>\n",
      "<tf.Variable 'Reinforce_optimizer/Comm_step_2/b2/RMSProp:0' shape=(1, 100) dtype=float32_ref>\n",
      "<tf.Variable 'Reinforce_optimizer/Comm_step_2/b2/RMSProp_1:0' shape=(1, 100) dtype=float32_ref>\n",
      "<tf.Variable 'Reinforce_optimizer/Decoder_movement/W/RMSProp:0' shape=(100, 5) dtype=float32_ref>\n",
      "<tf.Variable 'Reinforce_optimizer/Decoder_movement/W/RMSProp_1:0' shape=(100, 5) dtype=float32_ref>\n",
      "<tf.Variable 'Reinforce_optimizer/Decoder_movement/b/RMSProp:0' shape=(1, 5) dtype=float32_ref>\n",
      "<tf.Variable 'Reinforce_optimizer/Decoder_movement/b/RMSProp_1:0' shape=(1, 5) dtype=float32_ref>\n",
      "<tf.Variable 'Reinforce_optimizer/Decoder_communication/W/RMSProp:0' shape=(100, 2) dtype=float32_ref>\n",
      "<tf.Variable 'Reinforce_optimizer/Decoder_communication/W/RMSProp_1:0' shape=(100, 2) dtype=float32_ref>\n",
      "<tf.Variable 'Reinforce_optimizer/Decoder_communication/b/RMSProp:0' shape=(1, 2) dtype=float32_ref>\n",
      "<tf.Variable 'Reinforce_optimizer/Decoder_communication/b/RMSProp_1:0' shape=(1, 2) dtype=float32_ref>\n",
      "<tf.Variable 'Reinforce_optimizer/Baseline/W/RMSProp:0' shape=(100, 1) dtype=float32_ref>\n",
      "<tf.Variable 'Reinforce_optimizer/Baseline/W/RMSProp_1:0' shape=(100, 1) dtype=float32_ref>\n",
      "<tf.Variable 'Reinforce_optimizer/Baseline/b/RMSProp:0' shape=(1,) dtype=float32_ref>\n",
      "<tf.Variable 'Reinforce_optimizer/Baseline/b/RMSProp_1:0' shape=(1,) dtype=float32_ref>\n",
      "[array([[1.2430601, 1.2423795, 1.2919414, 1.3213091, 1.285378 ]],\n",
      "      dtype=float32)]\n"
     ]
    }
   ],
   "source": [
    "tf.reset_default_graph()\n",
    "with tf.Session() as sess:\n",
    "    commNet = CommNetPP(sess, N,  grid_size, lstm_controler = False)\n",
    "    env = PredatorPreyTask(N=N, grid_size=grid_size, detection_range=5, communication_cost=0.01, step_cost=0.01, forbidden_cost=0.1,\n",
    "                prey_detection_range=5, uncatched_cost=10., T=1)        \n",
    "    state_seq, movement_action_seq, communication_action_seq, reward_seq, baseline_seq = policy_rollout(1, env, commNet)"
   ]
  }
 ],
 "metadata": {
  "kernelspec": {
   "display_name": "Python 3",
   "language": "python",
   "name": "python3"
  },
  "language_info": {
   "codemirror_mode": {
    "name": "ipython",
    "version": 3
   },
   "file_extension": ".py",
   "mimetype": "text/x-python",
   "name": "python",
   "nbconvert_exporter": "python",
   "pygments_lexer": "ipython3",
   "version": "3.6.6"
  }
 },
 "nbformat": 4,
 "nbformat_minor": 2
}
